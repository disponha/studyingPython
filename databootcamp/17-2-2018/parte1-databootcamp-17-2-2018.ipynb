{
 "cells": [
  {
   "cell_type": "markdown",
   "metadata": {},
   "source": [
    "# parte 1 - databootcamp - 17.fev.2018"
   ]
  },
  {
   "cell_type": "markdown",
   "metadata": {},
   "source": [
    "**texto** puro usando markdown.\n",
    "(https://i.pinimg.com/originals/59/fc/98/59fc984c571e46f5b18a7d94a40bb8ce.jpg)"
   ]
  },
  {
   "cell_type": "code",
   "execution_count": 6,
   "metadata": {},
   "outputs": [
    {
     "data": {
      "text/plain": [
       "'gabriela'"
      ]
     },
     "execution_count": 6,
     "metadata": {},
     "output_type": "execute_result"
    }
   ],
   "source": [
    "nome = \"gabriela\"\n",
    "nome"
   ]
  },
  {
   "cell_type": "code",
   "execution_count": 7,
   "metadata": {},
   "outputs": [
    {
     "name": "stdout",
     "output_type": "stream",
     "text": [
      "gabriela\n"
     ]
    }
   ],
   "source": [
    "nome = \"gabriela\"\n",
    "print(nome)"
   ]
  },
  {
   "cell_type": "code",
   "execution_count": 9,
   "metadata": {},
   "outputs": [
    {
     "data": {
      "text/plain": [
       "str"
      ]
     },
     "execution_count": 9,
     "metadata": {},
     "output_type": "execute_result"
    }
   ],
   "source": [
    "type(nome)"
   ]
  },
  {
   "cell_type": "code",
   "execution_count": 10,
   "metadata": {
    "collapsed": true
   },
   "outputs": [],
   "source": [
    "integer = 1"
   ]
  },
  {
   "cell_type": "code",
   "execution_count": 11,
   "metadata": {},
   "outputs": [
    {
     "data": {
      "text/plain": [
       "int"
      ]
     },
     "execution_count": 11,
     "metadata": {},
     "output_type": "execute_result"
    }
   ],
   "source": [
    "type(integer)"
   ]
  },
  {
   "cell_type": "code",
   "execution_count": 12,
   "metadata": {
    "collapsed": true
   },
   "outputs": [],
   "source": [
    "string = \"1\" + \"0.5\""
   ]
  },
  {
   "cell_type": "code",
   "execution_count": 13,
   "metadata": {},
   "outputs": [
    {
     "data": {
      "text/plain": [
       "'10.5'"
      ]
     },
     "execution_count": 13,
     "metadata": {},
     "output_type": "execute_result"
    }
   ],
   "source": [
    "string"
   ]
  },
  {
   "cell_type": "code",
   "execution_count": 15,
   "metadata": {},
   "outputs": [
    {
     "data": {
      "text/plain": [
       "str"
      ]
     },
     "execution_count": 15,
     "metadata": {},
     "output_type": "execute_result"
    }
   ],
   "source": [
    "type(string)"
   ]
  },
  {
   "cell_type": "code",
   "execution_count": 16,
   "metadata": {
    "collapsed": true
   },
   "outputs": [],
   "source": [
    "turma = \"\"\"gabriela\n",
    "priscila\n",
    "debora\n",
    "laura\n",
    "giovanna\n",
    "helena\n",
    "\"\"\""
   ]
  },
  {
   "cell_type": "code",
   "execution_count": 17,
   "metadata": {},
   "outputs": [
    {
     "name": "stdout",
     "output_type": "stream",
     "text": [
      "gabriela\n",
      "priscila\n",
      "debora\n",
      "laura\n",
      "giovanna\n",
      "helena\n",
      "\n"
     ]
    }
   ],
   "source": [
    "print(turma)"
   ]
  },
  {
   "cell_type": "code",
   "execution_count": 19,
   "metadata": {},
   "outputs": [
    {
     "data": {
      "text/plain": [
       "11"
      ]
     },
     "execution_count": 19,
     "metadata": {},
     "output_type": "execute_result"
    }
   ],
   "source": [
    "1 + 10"
   ]
  },
  {
   "cell_type": "code",
   "execution_count": 20,
   "metadata": {},
   "outputs": [
    {
     "data": {
      "text/plain": [
       "77"
      ]
     },
     "execution_count": 20,
     "metadata": {},
     "output_type": "execute_result"
    }
   ],
   "source": [
    "11 * 7"
   ]
  },
  {
   "cell_type": "code",
   "execution_count": 21,
   "metadata": {},
   "outputs": [
    {
     "data": {
      "text/plain": [
       "5.5"
      ]
     },
     "execution_count": 21,
     "metadata": {},
     "output_type": "execute_result"
    }
   ],
   "source": [
    "11 / 2"
   ]
  },
  {
   "cell_type": "code",
   "execution_count": 22,
   "metadata": {
    "collapsed": true
   },
   "outputs": [],
   "source": [
    "divisao = 11 / 3"
   ]
  },
  {
   "cell_type": "code",
   "execution_count": 23,
   "metadata": {},
   "outputs": [
    {
     "data": {
      "text/plain": [
       "float"
      ]
     },
     "execution_count": 23,
     "metadata": {},
     "output_type": "execute_result"
    }
   ],
   "source": [
    "type(divisao)"
   ]
  },
  {
   "cell_type": "code",
   "execution_count": 24,
   "metadata": {},
   "outputs": [
    {
     "data": {
      "text/plain": [
       "5"
      ]
     },
     "execution_count": 24,
     "metadata": {},
     "output_type": "execute_result"
    }
   ],
   "source": [
    "11 // 2"
   ]
  },
  {
   "cell_type": "code",
   "execution_count": 25,
   "metadata": {},
   "outputs": [
    {
     "data": {
      "text/plain": [
       "4"
      ]
     },
     "execution_count": 25,
     "metadata": {},
     "output_type": "execute_result"
    }
   ],
   "source": [
    "2 ** 2 #potência"
   ]
  },
  {
   "cell_type": "code",
   "execution_count": 27,
   "metadata": {},
   "outputs": [
    {
     "data": {
      "text/plain": [
       "1"
      ]
     },
     "execution_count": 27,
     "metadata": {},
     "output_type": "execute_result"
    }
   ],
   "source": [
    "11 % 2 #informa o resto da divisão"
   ]
  },
  {
   "cell_type": "code",
   "execution_count": 29,
   "metadata": {
    "collapsed": true
   },
   "outputs": [],
   "source": [
    "diaDeHoje = 17"
   ]
  },
  {
   "cell_type": "code",
   "execution_count": 30,
   "metadata": {},
   "outputs": [
    {
     "data": {
      "text/plain": [
       "18"
      ]
     },
     "execution_count": 30,
     "metadata": {},
     "output_type": "execute_result"
    }
   ],
   "source": [
    "diaDeHoje + 1"
   ]
  },
  {
   "cell_type": "code",
   "execution_count": 31,
   "metadata": {},
   "outputs": [
    {
     "name": "stdout",
     "output_type": "stream",
     "text": [
      "17\n"
     ]
    }
   ],
   "source": [
    "print(diaDeHoje)"
   ]
  },
  {
   "cell_type": "code",
   "execution_count": 32,
   "metadata": {},
   "outputs": [
    {
     "name": "stdout",
     "output_type": "stream",
     "text": [
      "oi, gabr\n"
     ]
    }
   ],
   "source": [
    "nome = \"gabr\"\n",
    "print(\"oi, \" + nome)"
   ]
  },
  {
   "cell_type": "code",
   "execution_count": 33,
   "metadata": {},
   "outputs": [
    {
     "name": "stdout",
     "output_type": "stream",
     "text": [
      "caesar | caesar | caesar | caesar | \n"
     ]
    }
   ],
   "source": [
    "sobrenome = \"caesar\"\n",
    "separador = \" | \"\n",
    "print((sobrenome + separador) * 4)"
   ]
  },
  {
   "cell_type": "code",
   "execution_count": 34,
   "metadata": {},
   "outputs": [
    {
     "name": "stdout",
     "output_type": "stream",
     "text": [
      "gabrgabrgabrgabr\n"
     ]
    }
   ],
   "source": [
    "nome = \"gabr\"\n",
    "print(nome * 4)"
   ]
  },
  {
   "cell_type": "code",
   "execution_count": 36,
   "metadata": {},
   "outputs": [
    {
     "data": {
      "text/plain": [
       "'gabriela;caesar'"
      ]
     },
     "execution_count": 36,
     "metadata": {},
     "output_type": "execute_result"
    }
   ],
   "source": [
    "\";\".join([\"gabriela\", \"caesar\"])"
   ]
  },
  {
   "cell_type": "code",
   "execution_count": 37,
   "metadata": {},
   "outputs": [
    {
     "name": "stdout",
     "output_type": "stream",
     "text": [
      "luana 30\n"
     ]
    }
   ],
   "source": [
    "personagem = \"luana\"\n",
    "idade = 30\n",
    "print(personagem, idade)"
   ]
  },
  {
   "cell_type": "code",
   "execution_count": 40,
   "metadata": {
    "collapsed": true
   },
   "outputs": [],
   "source": [
    "personagem, idade = \"pedro\", 31"
   ]
  },
  {
   "cell_type": "code",
   "execution_count": 41,
   "metadata": {},
   "outputs": [
    {
     "name": "stdout",
     "output_type": "stream",
     "text": [
      "pedro 31\n"
     ]
    }
   ],
   "source": [
    "print(personagem, idade)"
   ]
  },
  {
   "cell_type": "code",
   "execution_count": 42,
   "metadata": {
    "collapsed": true
   },
   "outputs": [],
   "source": [
    "ingredientesBigMac = [\n",
    "    \"pao com gergelim\",\n",
    "    \"picles\",\n",
    "    \"alface\",\n",
    "    \"queijo\"\n",
    "]"
   ]
  },
  {
   "cell_type": "code",
   "execution_count": 43,
   "metadata": {},
   "outputs": [
    {
     "data": {
      "text/plain": [
       "['pao com gergelim', 'picles', 'alface', 'queijo']"
      ]
     },
     "execution_count": 43,
     "metadata": {},
     "output_type": "execute_result"
    }
   ],
   "source": [
    "ingredientesBigMac"
   ]
  },
  {
   "cell_type": "code",
   "execution_count": 44,
   "metadata": {
    "collapsed": true
   },
   "outputs": [],
   "source": [
    "ingredientesBigMac = [\n",
    "    \"pao com gergelim\", \"picles\", \"alface\", \"queijo\"\n",
    "]"
   ]
  },
  {
   "cell_type": "code",
   "execution_count": 45,
   "metadata": {},
   "outputs": [
    {
     "data": {
      "text/plain": [
       "['pao com gergelim', 'picles', 'alface', 'queijo']"
      ]
     },
     "execution_count": 45,
     "metadata": {},
     "output_type": "execute_result"
    }
   ],
   "source": [
    "ingredientesBigMac"
   ]
  },
  {
   "cell_type": "code",
   "execution_count": 46,
   "metadata": {
    "collapsed": true
   },
   "outputs": [],
   "source": [
    "ingredientesBigMac = [\n",
    "        \"pao com gergelim\", \n",
    "    \"picles\", \"alface\", \n",
    "    \"queijo\"\n",
    "]"
   ]
  },
  {
   "cell_type": "code",
   "execution_count": 47,
   "metadata": {},
   "outputs": [
    {
     "data": {
      "text/plain": [
       "['pao com gergelim', 'picles', 'alface', 'queijo']"
      ]
     },
     "execution_count": 47,
     "metadata": {},
     "output_type": "execute_result"
    }
   ],
   "source": [
    "ingredientesBigMac"
   ]
  },
  {
   "cell_type": "markdown",
   "metadata": {},
   "source": [
    "snake_case = ingredientes_do_big_mac"
   ]
  },
  {
   "cell_type": "code",
   "execution_count": 7,
   "metadata": {
    "collapsed": true
   },
   "outputs": [],
   "source": [
    "minha_sala = [\n",
    "    \"televisao\",\n",
    "    \"fogao\",\n",
    "    \"geladeira\",\n",
    "    \"chuveiro\",\n",
    "    \"incenso\",\n",
    "    \"baratas\",\n",
    "    \"som\",\n",
    "    \"sofa\",\n",
    "    \"janela\",\n",
    "    \"roupa\",\n",
    "    \"mala\",\n",
    "    \"cacto\",\n",
    "    \"espelho\",\n",
    "    \"louça\",\n",
    "    \"laptop\"\n",
    "]"
   ]
  },
  {
   "cell_type": "code",
   "execution_count": 52,
   "metadata": {},
   "outputs": [
    {
     "data": {
      "text/plain": [
       "'televisao'"
      ]
     },
     "execution_count": 52,
     "metadata": {},
     "output_type": "execute_result"
    }
   ],
   "source": [
    "minha_sala[0]"
   ]
  },
  {
   "cell_type": "code",
   "execution_count": 53,
   "metadata": {},
   "outputs": [
    {
     "data": {
      "text/plain": [
       "'laptop'"
      ]
     },
     "execution_count": 53,
     "metadata": {},
     "output_type": "execute_result"
    }
   ],
   "source": [
    "minha_sala[-1]"
   ]
  },
  {
   "cell_type": "code",
   "execution_count": 54,
   "metadata": {},
   "outputs": [
    {
     "data": {
      "text/plain": [
       "['fogao', 'geladeira', 'chuveiro', 'incenso', 'baratas', 'som']"
      ]
     },
     "execution_count": 54,
     "metadata": {},
     "output_type": "execute_result"
    }
   ],
   "source": [
    "minha_sala[1:7]"
   ]
  },
  {
   "cell_type": "code",
   "execution_count": 55,
   "metadata": {},
   "outputs": [
    {
     "data": {
      "text/plain": [
       "'louça'"
      ]
     },
     "execution_count": 55,
     "metadata": {},
     "output_type": "execute_result"
    }
   ],
   "source": [
    "minha_sala[-2]"
   ]
  },
  {
   "cell_type": "code",
   "execution_count": 56,
   "metadata": {
    "collapsed": true
   },
   "outputs": [],
   "source": [
    "item1 = \"tv\""
   ]
  },
  {
   "cell_type": "code",
   "execution_count": 57,
   "metadata": {},
   "outputs": [
    {
     "data": {
      "text/plain": [
       "'v'"
      ]
     },
     "execution_count": 57,
     "metadata": {},
     "output_type": "execute_result"
    }
   ],
   "source": [
    "item1[1]"
   ]
  },
  {
   "cell_type": "code",
   "execution_count": 58,
   "metadata": {},
   "outputs": [
    {
     "data": {
      "text/plain": [
       "['fogao',\n",
       " 'geladeira',\n",
       " 'chuveiro',\n",
       " 'incenso',\n",
       " 'baratas',\n",
       " 'som',\n",
       " 'sofa',\n",
       " 'janela',\n",
       " 'roupa',\n",
       " 'mala',\n",
       " 'cacto',\n",
       " 'espelho',\n",
       " 'louça']"
      ]
     },
     "execution_count": 58,
     "metadata": {},
     "output_type": "execute_result"
    }
   ],
   "source": [
    "minha_sala[1:-1] #quero todos os itens, menos o primeiro e o último"
   ]
  },
  {
   "cell_type": "code",
   "execution_count": 59,
   "metadata": {},
   "outputs": [
    {
     "data": {
      "text/plain": [
       "['fogao',\n",
       " 'geladeira',\n",
       " 'chuveiro',\n",
       " 'incenso',\n",
       " 'baratas',\n",
       " 'som',\n",
       " 'sofa',\n",
       " 'janela',\n",
       " 'roupa',\n",
       " 'mala',\n",
       " 'cacto',\n",
       " 'espelho',\n",
       " 'louça',\n",
       " 'laptop']"
      ]
     },
     "execution_count": 59,
     "metadata": {},
     "output_type": "execute_result"
    }
   ],
   "source": [
    "minha_sala[1:] #quero do segundo item em diante"
   ]
  },
  {
   "cell_type": "code",
   "execution_count": 61,
   "metadata": {},
   "outputs": [
    {
     "data": {
      "text/plain": [
       "['televisao', 'fogao', 'geladeira']"
      ]
     },
     "execution_count": 61,
     "metadata": {},
     "output_type": "execute_result"
    }
   ],
   "source": [
    "minha_sala[:3] #quero apenas os tres primeiros itens"
   ]
  },
  {
   "cell_type": "code",
   "execution_count": 62,
   "metadata": {},
   "outputs": [
    {
     "data": {
      "text/plain": [
       "1"
      ]
     },
     "execution_count": 62,
     "metadata": {},
     "output_type": "execute_result"
    }
   ],
   "source": [
    "minha_sala.index(\"fogao\") #vc passa o valor, e o notebook te passa a posicao do item"
   ]
  },
  {
   "cell_type": "code",
   "execution_count": 63,
   "metadata": {
    "collapsed": true
   },
   "outputs": [],
   "source": [
    "minha_sala.append(\"poltrona\")"
   ]
  },
  {
   "cell_type": "code",
   "execution_count": 64,
   "metadata": {},
   "outputs": [
    {
     "name": "stdout",
     "output_type": "stream",
     "text": [
      "['televisao', 'fogao', 'geladeira', 'chuveiro', 'incenso', 'baratas', 'som', 'sofa', 'janela', 'roupa', 'mala', 'cacto', 'espelho', 'louça', 'laptop', 'poltrona']\n"
     ]
    }
   ],
   "source": [
    "print(minha_sala)"
   ]
  },
  {
   "cell_type": "code",
   "execution_count": 65,
   "metadata": {
    "collapsed": true
   },
   "outputs": [],
   "source": [
    "minha_sala.append(123456)"
   ]
  },
  {
   "cell_type": "code",
   "execution_count": 66,
   "metadata": {},
   "outputs": [
    {
     "name": "stdout",
     "output_type": "stream",
     "text": [
      "['televisao', 'fogao', 'geladeira', 'chuveiro', 'incenso', 'baratas', 'som', 'sofa', 'janela', 'roupa', 'mala', 'cacto', 'espelho', 'louça', 'laptop', 'poltrona', 123456]\n"
     ]
    }
   ],
   "source": [
    "print(minha_sala)"
   ]
  },
  {
   "cell_type": "code",
   "execution_count": 67,
   "metadata": {
    "collapsed": true
   },
   "outputs": [],
   "source": [
    "#a minha lista pode ter itens de diferentes tipos (str, integer etc)"
   ]
  },
  {
   "cell_type": "code",
   "execution_count": 4,
   "metadata": {
    "collapsed": true
   },
   "outputs": [],
   "source": [
    "alturas = [1.55, 1.35, 1.70, 1.73, 1.75]"
   ]
  },
  {
   "cell_type": "code",
   "execution_count": 69,
   "metadata": {
    "collapsed": true
   },
   "outputs": [],
   "source": [
    "soma_alturas = sum(alturas)"
   ]
  },
  {
   "cell_type": "code",
   "execution_count": 70,
   "metadata": {},
   "outputs": [
    {
     "name": "stdout",
     "output_type": "stream",
     "text": [
      "8.08\n"
     ]
    }
   ],
   "source": [
    "print(soma_alturas)"
   ]
  },
  {
   "cell_type": "code",
   "execution_count": 72,
   "metadata": {},
   "outputs": [],
   "source": [
    "minha_sala.remove(\"baratas\")"
   ]
  },
  {
   "cell_type": "code",
   "execution_count": 73,
   "metadata": {},
   "outputs": [
    {
     "name": "stdout",
     "output_type": "stream",
     "text": [
      "['televisao', 'fogao', 'geladeira', 'chuveiro', 'incenso', 'som', 'sofa', 'janela', 'roupa', 'mala', 'cacto', 'espelho', 'louça', 'laptop', 'poltrona', 123456]\n"
     ]
    }
   ],
   "source": [
    "print(minha_sala)"
   ]
  },
  {
   "cell_type": "code",
   "execution_count": 80,
   "metadata": {
    "collapsed": true
   },
   "outputs": [],
   "source": [
    "# minha_sala.clear? >> se eu coloco o nome da funcao e o ponto de interrogacao, eu vejo uma descricao do que a funcao faz"
   ]
  },
  {
   "cell_type": "code",
   "execution_count": 76,
   "metadata": {},
   "outputs": [
    {
     "data": {
      "text/plain": [
       "'som'"
      ]
     },
     "execution_count": 76,
     "metadata": {},
     "output_type": "execute_result"
    }
   ],
   "source": [
    "minha_sala.pop(5)"
   ]
  },
  {
   "cell_type": "code",
   "execution_count": 77,
   "metadata": {},
   "outputs": [
    {
     "name": "stdout",
     "output_type": "stream",
     "text": [
      "['televisao', 'fogao', 'geladeira', 'chuveiro', 'incenso', 'sofa', 'janela', 'roupa', 'mala', 'cacto', 'espelho', 'louça', 'laptop', 'poltrona', 123456]\n"
     ]
    }
   ],
   "source": [
    "print(minha_sala)"
   ]
  },
  {
   "cell_type": "code",
   "execution_count": 78,
   "metadata": {
    "collapsed": true
   },
   "outputs": [],
   "source": [
    "# pop deleta o item, indicado pela posicao, e te diz qual foi o item deletado"
   ]
  },
  {
   "cell_type": "code",
   "execution_count": 81,
   "metadata": {},
   "outputs": [
    {
     "data": {
      "text/plain": [
       "1.75"
      ]
     },
     "execution_count": 81,
     "metadata": {},
     "output_type": "execute_result"
    }
   ],
   "source": [
    "max(alturas)"
   ]
  },
  {
   "cell_type": "code",
   "execution_count": 82,
   "metadata": {},
   "outputs": [
    {
     "data": {
      "text/plain": [
       "1.35"
      ]
     },
     "execution_count": 82,
     "metadata": {},
     "output_type": "execute_result"
    }
   ],
   "source": [
    "min(alturas)"
   ]
  },
  {
   "cell_type": "code",
   "execution_count": 2,
   "metadata": {},
   "outputs": [],
   "source": [
    "# aqui vc pode ver a documentacao das funcoes\n",
    "# https://docs.python.org/3/library/functions.html"
   ]
  },
  {
   "cell_type": "code",
   "execution_count": 5,
   "metadata": {},
   "outputs": [
    {
     "data": {
      "text/plain": [
       "[1.35, 1.55, 1.7, 1.73, 1.75]"
      ]
     },
     "execution_count": 5,
     "metadata": {},
     "output_type": "execute_result"
    }
   ],
   "source": [
    "sorted(alturas) #ordenando os itens da lista"
   ]
  },
  {
   "cell_type": "code",
   "execution_count": 8,
   "metadata": {},
   "outputs": [
    {
     "data": {
      "text/plain": [
       "['baratas',\n",
       " 'cacto',\n",
       " 'chuveiro',\n",
       " 'espelho',\n",
       " 'fogao',\n",
       " 'geladeira',\n",
       " 'incenso',\n",
       " 'janela',\n",
       " 'laptop',\n",
       " 'louça',\n",
       " 'mala',\n",
       " 'roupa',\n",
       " 'sofa',\n",
       " 'som',\n",
       " 'televisao']"
      ]
     },
     "execution_count": 8,
     "metadata": {},
     "output_type": "execute_result"
    }
   ],
   "source": [
    "sorted(minha_sala)"
   ]
  },
  {
   "cell_type": "code",
   "execution_count": 9,
   "metadata": {},
   "outputs": [
    {
     "data": {
      "text/plain": [
       "['a', 'a', 'b', 'e', 'g', 'i', 'l', 'r']"
      ]
     },
     "execution_count": 9,
     "metadata": {},
     "output_type": "execute_result"
    }
   ],
   "source": [
    "sorted(\"gabriela\")"
   ]
  },
  {
   "cell_type": "code",
   "execution_count": 15,
   "metadata": {
    "collapsed": true
   },
   "outputs": [],
   "source": [
    "# dicionario eh uma estrutura de dados baseado no comando chave/valor.\n",
    "# a estrutura eh similiar à de um formulário\n",
    "nome_altura = {\n",
    "    \"jose silva\": 1.35,\n",
    "    \"maria carolina\": 1.73,\n",
    "    \"beatriz terra\": 2.06,\n",
    "    \"lohan carvalho\": 2.16\n",
    "}"
   ]
  },
  {
   "cell_type": "code",
   "execution_count": 17,
   "metadata": {},
   "outputs": [
    {
     "data": {
      "text/plain": [
       "1.35"
      ]
     },
     "execution_count": 17,
     "metadata": {},
     "output_type": "execute_result"
    }
   ],
   "source": [
    "nome_altura[\"jose silva\"]"
   ]
  },
  {
   "cell_type": "code",
   "execution_count": 19,
   "metadata": {
    "collapsed": true
   },
   "outputs": [],
   "source": [
    "bio = {\n",
    "    \"nome\": \"gabriela caesar\",\n",
    "    \"altura\": 1.71,\n",
    "    \"email\": \"caesar.gabriela@gmail.com\",\n",
    "    \"idade\": 25\n",
    "}"
   ]
  },
  {
   "cell_type": "code",
   "execution_count": 20,
   "metadata": {
    "collapsed": true
   },
   "outputs": [],
   "source": [
    "bio[\"twitter\"] = \"@gabrielacaesar\""
   ]
  },
  {
   "cell_type": "code",
   "execution_count": 21,
   "metadata": {},
   "outputs": [
    {
     "data": {
      "text/plain": [
       "{'altura': 1.71,\n",
       " 'email': 'caesar.gabriela@gmail.com',\n",
       " 'idade': 25,\n",
       " 'nome': 'gabriela caesar',\n",
       " 'twitter': '@gabrielacaesar'}"
      ]
     },
     "execution_count": 21,
     "metadata": {},
     "output_type": "execute_result"
    }
   ],
   "source": [
    "bio"
   ]
  },
  {
   "cell_type": "code",
   "execution_count": 31,
   "metadata": {},
   "outputs": [],
   "source": [
    "bio[\"endereco\"] = {\n",
    "    \"cep\": 4583115,\n",
    "    \"bairro\": \"vila cordeiro\",\n",
    "    \"cidade\": \"sp\",\n",
    "    \"uf\": \"sp\",\n",
    "    \"rua\": \"evandro carlos de andrade\",\n",
    "    \"numero\": 160\n",
    "}"
   ]
  },
  {
   "cell_type": "code",
   "execution_count": 32,
   "metadata": {},
   "outputs": [
    {
     "data": {
      "text/plain": [
       "{'altura': 1.71,\n",
       " 'email': 'caesar.gabriela@gmail.com',\n",
       " 'endereco': {'bairro': 'vila cordeiro',\n",
       "  'cep': 4583115,\n",
       "  'cidade': 'sp',\n",
       "  'numero': 160,\n",
       "  'rua': 'evandro carlos de andrade',\n",
       "  'uf': 'sp'},\n",
       " 'idade': 25,\n",
       " 'nome': 'gabriela caesar',\n",
       " 'twitter': '@gabrielacaesar'}"
      ]
     },
     "execution_count": 32,
     "metadata": {},
     "output_type": "execute_result"
    }
   ],
   "source": [
    "bio"
   ]
  },
  {
   "cell_type": "code",
   "execution_count": 33,
   "metadata": {},
   "outputs": [
    {
     "data": {
      "text/plain": [
       "'sp'"
      ]
     },
     "execution_count": 33,
     "metadata": {},
     "output_type": "execute_result"
    }
   ],
   "source": [
    "bio[\"endereco\"][\"uf\"]"
   ]
  },
  {
   "cell_type": "code",
   "execution_count": 34,
   "metadata": {},
   "outputs": [
    {
     "data": {
      "text/plain": [
       "{'bairro': 'vila cordeiro',\n",
       " 'cep': 4583115,\n",
       " 'cidade': 'sp',\n",
       " 'numero': 160,\n",
       " 'rua': 'evandro carlos de andrade',\n",
       " 'uf': 'sp'}"
      ]
     },
     "execution_count": 34,
     "metadata": {},
     "output_type": "execute_result"
    }
   ],
   "source": [
    "endereco = bio[\"endereco\"]\n",
    "endereco"
   ]
  },
  {
   "cell_type": "code",
   "execution_count": 35,
   "metadata": {
    "collapsed": true
   },
   "outputs": [],
   "source": [
    "del bio[\"altura\"]"
   ]
  },
  {
   "cell_type": "code",
   "execution_count": 36,
   "metadata": {},
   "outputs": [
    {
     "data": {
      "text/plain": [
       "{'email': 'caesar.gabriela@gmail.com',\n",
       " 'endereco': {'bairro': 'vila cordeiro',\n",
       "  'cep': 4583115,\n",
       "  'cidade': 'sp',\n",
       "  'numero': 160,\n",
       "  'rua': 'evandro carlos de andrade',\n",
       "  'uf': 'sp'},\n",
       " 'idade': 25,\n",
       " 'nome': 'gabriela caesar',\n",
       " 'twitter': '@gabrielacaesar'}"
      ]
     },
     "execution_count": 36,
     "metadata": {},
     "output_type": "execute_result"
    }
   ],
   "source": [
    "bio"
   ]
  },
  {
   "cell_type": "code",
   "execution_count": 37,
   "metadata": {},
   "outputs": [
    {
     "data": {
      "text/plain": [
       "{'email': 'caesar.gabriela@gmail.com',\n",
       " 'endereco': {'bairro': 'vila cordeiro',\n",
       "  'cep': 4583115,\n",
       "  'cidade': 'sp',\n",
       "  'numero': 160,\n",
       "  'rua': 'evandro carlos de andrade',\n",
       "  'uf': 'sp'},\n",
       " 'idade': 26,\n",
       " 'nome': 'gabriela caesar',\n",
       " 'twitter': '@gabrielacaesar'}"
      ]
     },
     "execution_count": 37,
     "metadata": {},
     "output_type": "execute_result"
    }
   ],
   "source": [
    "bio[\"idade\"] = 26\n",
    "bio"
   ]
  },
  {
   "cell_type": "code",
   "execution_count": 38,
   "metadata": {
    "collapsed": true
   },
   "outputs": [],
   "source": [
    "aluno1 = {\"nome\": \"rebeca\", \"idade\": 29}\n",
    "aluno2 = {\"nome\": \"lucas\", \"idade\": 32}"
   ]
  },
  {
   "cell_type": "code",
   "execution_count": 39,
   "metadata": {},
   "outputs": [
    {
     "name": "stdout",
     "output_type": "stream",
     "text": [
      "[{'idade': 29, 'nome': 'rebeca'}, {'idade': 32, 'nome': 'lucas'}]\n"
     ]
    }
   ],
   "source": [
    "lista_alunos = [aluno1, aluno2]\n",
    "print(lista_alunos)"
   ]
  },
  {
   "cell_type": "code",
   "execution_count": 48,
   "metadata": {},
   "outputs": [],
   "source": [
    "familia = {\n",
    "\"cristina\": {\"nome\": \"cristina\", \"idade\": 23, \"parentesco\": \"irma\"},\n",
    "\"flavia\": {\"nome\": \"flavia\", \"idade\": 45, \"parentesco\": \"irma\"},\n",
    "\"monica\": {\"nome\": \"monica\", \"idade\": 42, \"parentesco\": \"irma\"},\n",
    "\"hans\": {\"nome\": \"hans\", \"idade\": 74, \"parentesco\": \"pai\"},\n",
    "\"suzana\": {\"nome\": \"suzana\", \"idade\": 51, \"parentesco\": \"mae\"},\n",
    "\"vania\": {\"nome\": \"vania\", \"idade\": 78, \"parentesco\": \"avo\"},\n",
    "\"luiz\": {\"nome\": \"luiz\", \"idade\": 60, \"parentesco\": \"tio\"},\n",
    "\"moraes\": {\"nome\": \"moraes\", \"idade\": 42, \"parentesco\": \"cunhado\"}\n",
    "}"
   ]
  },
  {
   "cell_type": "code",
   "execution_count": 57,
   "metadata": {},
   "outputs": [
    {
     "data": {
      "text/plain": [
       "[{'idade': 74, 'nome': 'hans', 'parentesco': 'pai'},\n",
       " {'idade': 23, 'nome': 'cristina', 'parentesco': 'irma'},\n",
       " {'idade': 45, 'nome': 'flavia', 'parentesco': 'irma'},\n",
       " {'idade': 42, 'nome': 'monica', 'parentesco': 'irma'},\n",
       " {'idade': 51, 'nome': 'suzana', 'parentesco': 'mae'},\n",
       " {'idade': 78, 'nome': 'vania', 'parentesco': 'avo'},\n",
       " {'idade': 60, 'nome': 'luiz', 'parentesco': 'tio'},\n",
       " {'idade': 42, 'nome': 'moraes', 'parentesco': 'cunhado'}]"
      ]
     },
     "execution_count": 57,
     "metadata": {},
     "output_type": "execute_result"
    }
   ],
   "source": [
    "familia # dicionario"
   ]
  },
  {
   "cell_type": "code",
   "execution_count": 49,
   "metadata": {
    "collapsed": true
   },
   "outputs": [],
   "source": [
    "# para o notebook mostrar o numero de cada linha\n",
    "# a celular nao deve ficar verde e, por isso, clicamos no 'esc'\n",
    "# depois clicamos na letra 'l'"
   ]
  },
  {
   "cell_type": "code",
   "execution_count": 58,
   "metadata": {
    "collapsed": true
   },
   "outputs": [],
   "source": [
    "familia= []\n",
    "cristina = {\"nome\": \"cristina\", \"idade\": 23, \"parentesco\": \"irma\"}\n",
    "flavia = {\"nome\": \"flavia\", \"idade\": 45, \"parentesco\": \"irma\"}\n",
    "monica = {\"nome\": \"monica\", \"idade\": 42, \"parentesco\": \"irma\"}\n",
    "hans = {\"nome\": \"hans\", \"idade\": 74, \"parentesco\": \"pai\"}\n",
    "suzana = {\"nome\": \"suzana\", \"idade\": 51, \"parentesco\": \"mae\"}\n",
    "vania = {\"nome\": \"vania\", \"idade\": 78, \"parentesco\": \"avo\"}\n",
    "luiz = {\"nome\": \"luiz\", \"idade\": 60, \"parentesco\": \"tio\"}\n",
    "moraes = {\"nome\": \"moraes\", \"idade\": 42, \"parentesco\": \"cunhado\"}\n",
    "# listas"
   ]
  },
  {
   "cell_type": "code",
   "execution_count": 59,
   "metadata": {
    "collapsed": true
   },
   "outputs": [],
   "source": [
    "familia.append(hans)"
   ]
  },
  {
   "cell_type": "code",
   "execution_count": 60,
   "metadata": {},
   "outputs": [
    {
     "data": {
      "text/plain": [
       "[{'idade': 74, 'nome': 'hans', 'parentesco': 'pai'}]"
      ]
     },
     "execution_count": 60,
     "metadata": {},
     "output_type": "execute_result"
    }
   ],
   "source": [
    "familia"
   ]
  },
  {
   "cell_type": "code",
   "execution_count": 61,
   "metadata": {},
   "outputs": [],
   "source": [
    "familia.append(cristina)\n",
    "familia.append(flavia)\n",
    "familia.append(monica)\n",
    "familia.append(suzana)\n",
    "familia.append(vania)\n",
    "familia.append(luiz)\n",
    "familia.append(moraes)"
   ]
  },
  {
   "cell_type": "code",
   "execution_count": 55,
   "metadata": {},
   "outputs": [
    {
     "data": {
      "text/plain": [
       "[{'idade': 74, 'nome': 'hans', 'parentesco': 'pai'},\n",
       " {'idade': 23, 'nome': 'cristina', 'parentesco': 'irma'},\n",
       " {'idade': 45, 'nome': 'flavia', 'parentesco': 'irma'},\n",
       " {'idade': 42, 'nome': 'monica', 'parentesco': 'irma'},\n",
       " {'idade': 51, 'nome': 'suzana', 'parentesco': 'mae'},\n",
       " {'idade': 78, 'nome': 'vania', 'parentesco': 'avo'},\n",
       " {'idade': 60, 'nome': 'luiz', 'parentesco': 'tio'},\n",
       " {'idade': 42, 'nome': 'moraes', 'parentesco': 'cunhado'}]"
      ]
     },
     "execution_count": 55,
     "metadata": {},
     "output_type": "execute_result"
    }
   ],
   "source": [
    "familia"
   ]
  },
  {
   "cell_type": "code",
   "execution_count": 62,
   "metadata": {
    "collapsed": true
   },
   "outputs": [],
   "source": [
    "alturas = [1.55, 1.65, 1.85, 1.71, 1.90]"
   ]
  },
  {
   "cell_type": "code",
   "execution_count": 63,
   "metadata": {},
   "outputs": [
    {
     "name": "stdout",
     "output_type": "stream",
     "text": [
      "1.55\n",
      "1.65\n",
      "1.85\n",
      "1.71\n",
      "1.9\n"
     ]
    }
   ],
   "source": [
    "for altura in alturas:\n",
    "    print(altura)"
   ]
  },
  {
   "cell_type": "code",
   "execution_count": 64,
   "metadata": {},
   "outputs": [
    {
     "data": {
      "text/plain": [
       "8.66"
      ]
     },
     "execution_count": 64,
     "metadata": {},
     "output_type": "execute_result"
    }
   ],
   "source": [
    "total = 0\n",
    "for altura in alturas:\n",
    "    total = altura + total\n",
    "total"
   ]
  },
  {
   "cell_type": "code",
   "execution_count": 65,
   "metadata": {},
   "outputs": [
    {
     "data": {
      "text/plain": [
       "8.66"
      ]
     },
     "execution_count": 65,
     "metadata": {},
     "output_type": "execute_result"
    }
   ],
   "source": [
    "sum(alturas)"
   ]
  },
  {
   "cell_type": "code",
   "execution_count": 66,
   "metadata": {
    "collapsed": true
   },
   "outputs": [],
   "source": [
    "alturas_em_metro = [1.72, 1.60, 1.57, 1.88]"
   ]
  },
  {
   "cell_type": "code",
   "execution_count": 68,
   "metadata": {},
   "outputs": [
    {
     "name": "stdout",
     "output_type": "stream",
     "text": [
      "172.0\n",
      "160.0\n",
      "157.0\n",
      "188.0\n"
     ]
    }
   ],
   "source": [
    "for altura in alturas_em_metro:\n",
    "    print(altura * 100)"
   ]
  },
  {
   "cell_type": "code",
   "execution_count": 72,
   "metadata": {},
   "outputs": [
    {
     "name": "stdout",
     "output_type": "stream",
     "text": [
      "minha altura em cm:  172.0\n",
      "minha altura em cm:  160.0\n",
      "minha altura em cm:  157.0\n",
      "minha altura em cm:  188.0\n"
     ]
    }
   ],
   "source": [
    "for altura in alturas_em_metro:\n",
    "    print(\"minha altura em cm: \", altura * 100)"
   ]
  },
  {
   "cell_type": "code",
   "execution_count": 73,
   "metadata": {
    "collapsed": true
   },
   "outputs": [],
   "source": [
    "altura_em_cm = []"
   ]
  },
  {
   "cell_type": "code",
   "execution_count": 78,
   "metadata": {},
   "outputs": [
    {
     "name": "stdout",
     "output_type": "stream",
     "text": [
      "minha altura em cm:  [172.0]\n",
      "minha altura em cm:  [172.0, 160.0]\n",
      "minha altura em cm:  [172.0, 160.0, 157.0]\n",
      "minha altura em cm:  [172.0, 160.0, 157.0, 188.0]\n"
     ]
    }
   ],
   "source": [
    "altura_em_cm = []\n",
    "\n",
    "for altura in alturas_em_metro:\n",
    "    cm = altura * 100\n",
    "    altura_em_cm.append(cm)\n",
    "    print(\"minha altura em cm: \", altura_em_cm)"
   ]
  },
  {
   "cell_type": "code",
   "execution_count": 79,
   "metadata": {},
   "outputs": [
    {
     "data": {
      "text/plain": [
       "[172.0, 160.0, 157.0, 188.0]"
      ]
     },
     "execution_count": 79,
     "metadata": {},
     "output_type": "execute_result"
    }
   ],
   "source": [
    "altura_em_cm"
   ]
  },
  {
   "cell_type": "code",
   "execution_count": 80,
   "metadata": {},
   "outputs": [
    {
     "data": {
      "text/plain": [
       "float"
      ]
     },
     "execution_count": 80,
     "metadata": {},
     "output_type": "execute_result"
    }
   ],
   "source": [
    "type(altura_em_cm[0])"
   ]
  },
  {
   "cell_type": "code",
   "execution_count": 81,
   "metadata": {},
   "outputs": [
    {
     "data": {
      "text/plain": [
       "172"
      ]
     },
     "execution_count": 81,
     "metadata": {},
     "output_type": "execute_result"
    }
   ],
   "source": [
    "int(altura_em_cm[0])"
   ]
  },
  {
   "cell_type": "code",
   "execution_count": 83,
   "metadata": {},
   "outputs": [
    {
     "data": {
      "text/plain": [
       "int"
      ]
     },
     "execution_count": 83,
     "metadata": {},
     "output_type": "execute_result"
    }
   ],
   "source": [
    "type(int(altura_em_cm[0]))"
   ]
  },
  {
   "cell_type": "code",
   "execution_count": 84,
   "metadata": {
    "collapsed": true
   },
   "outputs": [],
   "source": [
    "numero = str(42)"
   ]
  },
  {
   "cell_type": "code",
   "execution_count": 85,
   "metadata": {},
   "outputs": [
    {
     "data": {
      "text/plain": [
       "'42'"
      ]
     },
     "execution_count": 85,
     "metadata": {},
     "output_type": "execute_result"
    }
   ],
   "source": [
    "numero"
   ]
  },
  {
   "cell_type": "code",
   "execution_count": null,
   "metadata": {
    "collapsed": true
   },
   "outputs": [],
   "source": []
  }
 ],
 "metadata": {
  "kernelspec": {
   "display_name": "Python 3",
   "language": "python",
   "name": "python3"
  }
 },
 "nbformat": 4,
 "nbformat_minor": 2
}
