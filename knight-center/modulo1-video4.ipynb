{
 "cells": [
  {
   "cell_type": "code",
   "execution_count": 1,
   "metadata": {
    "collapsed": true
   },
   "outputs": [],
   "source": [
    "# continuação do curso de python para jornalistas"
   ]
  },
  {
   "cell_type": "code",
   "execution_count": 2,
   "metadata": {
    "collapsed": true
   },
   "outputs": [],
   "source": [
    "# módulo 1, vídeo 4"
   ]
  },
  {
   "cell_type": "code",
   "execution_count": 4,
   "metadata": {},
   "outputs": [
    {
     "name": "stdout",
     "output_type": "stream",
     "text": [
      "Digite um número: 13\n",
      "Digite outro número: 45\n",
      "13, 45\n"
     ]
    }
   ],
   "source": [
    "valor1 = input(\"Digite um número: \")\n",
    "valor2 = input(\"Digite outro número: \")\n",
    "print(valor1 + \", \" + valor2)"
   ]
  },
  {
   "cell_type": "code",
   "execution_count": 5,
   "metadata": {},
   "outputs": [
    {
     "name": "stdout",
     "output_type": "stream",
     "text": [
      "58\n"
     ]
    }
   ],
   "source": [
    "print(int(13)+45)"
   ]
  },
  {
   "cell_type": "code",
   "execution_count": 6,
   "metadata": {},
   "outputs": [
    {
     "name": "stdout",
     "output_type": "stream",
     "text": [
      "58\n"
     ]
    }
   ],
   "source": [
    "print(int(valor1) + int(valor2))"
   ]
  },
  {
   "cell_type": "code",
   "execution_count": 7,
   "metadata": {
    "collapsed": true
   },
   "outputs": [],
   "source": [
    "# int vem de integer"
   ]
  },
  {
   "cell_type": "code",
   "execution_count": 8,
   "metadata": {
    "collapsed": true
   },
   "outputs": [],
   "source": [
    "# vamos agora calcular o imc"
   ]
  },
  {
   "cell_type": "code",
   "execution_count": 27,
   "metadata": {},
   "outputs": [
    {
     "name": "stdout",
     "output_type": "stream",
     "text": [
      "Qual é o seu peso em quilos? 57\n",
      "Qual é a sua altura em centímetros? 171\n",
      "O seu IMC é 19.49317738791423.\n"
     ]
    }
   ],
   "source": [
    "peso = input(\"Qual é o seu peso em quilos? \")\n",
    "altura = input(\"Qual é a sua altura em centímetros? \")\n",
    "altura2 = float(altura) ** 2\n",
    "imc = float(peso)/altura2 * 10000\n",
    "print(\"O seu IMC é \" + str(imc) + \".\")"
   ]
  },
  {
   "cell_type": "code",
   "execution_count": 31,
   "metadata": {},
   "outputs": [
    {
     "name": "stdout",
     "output_type": "stream",
     "text": [
      "Qual é o ano de nascimento? 1992\n",
      "Qual é o ano atual? 2017\n",
      "Você tem 25 anos.\n"
     ]
    }
   ],
   "source": [
    "valor3 = float(input(\"Qual é o ano de nascimento? \"))\n",
    "valor4 = float(input(\"Qual é o ano atual? \"))\n",
    "subtracao = int(valor4 - valor3)\n",
    "print(\"Você tem \" + str(subtracao) + \" anos.\")"
   ]
  },
  {
   "cell_type": "code",
   "execution_count": 33,
   "metadata": {},
   "outputs": [
    {
     "name": "stdout",
     "output_type": "stream",
     "text": [
      "A metade da sua idade é 12.5 anos.\n"
     ]
    }
   ],
   "source": [
    "divisao = float(subtracao) / 2\n",
    "print(\"A metade da sua idade é \" + str(divisao) + \" anos.\")"
   ]
  },
  {
   "cell_type": "code",
   "execution_count": 35,
   "metadata": {},
   "outputs": [
    {
     "name": "stdout",
     "output_type": "stream",
     "text": [
      "A média de 13 e 45 é 35.5.\n"
     ]
    }
   ],
   "source": [
    "media = float(valor1) + float(valor2) / 2\n",
    "print(\"A média de 13 e 45 é \" + str(media) + \".\")"
   ]
  },
  {
   "cell_type": "code",
   "execution_count": null,
   "metadata": {
    "collapsed": true
   },
   "outputs": [],
   "source": []
  }
 ],
 "metadata": {
  "kernelspec": {
   "display_name": "Python 3",
   "language": "python",
   "name": "python3"
  },
  "language_info": {
   "codemirror_mode": {
    "name": "ipython",
    "version": 3
   },
   "file_extension": ".py",
   "mimetype": "text/x-python",
   "name": "python",
   "nbconvert_exporter": "python",
   "pygments_lexer": "ipython3",
   "version": "3.6.3"
  }
 },
 "nbformat": 4,
 "nbformat_minor": 2
}
