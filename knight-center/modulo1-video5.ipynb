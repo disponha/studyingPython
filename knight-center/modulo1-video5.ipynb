{
 "cells": [
  {
   "cell_type": "code",
   "execution_count": 1,
   "metadata": {
    "collapsed": true
   },
   "outputs": [],
   "source": [
    "# continuação do curso de python para jornalistas"
   ]
  },
  {
   "cell_type": "code",
   "execution_count": 2,
   "metadata": {
    "collapsed": true
   },
   "outputs": [],
   "source": [
    "# módulo 1, vídeo 5"
   ]
  },
  {
   "cell_type": "code",
   "execution_count": 3,
   "metadata": {},
   "outputs": [
    {
     "name": "stdout",
     "output_type": "stream",
     "text": [
      "Digite um número: 1999\n",
      "menor do que 9000\n"
     ]
    }
   ],
   "source": [
    "valor = float(input(\"Digite um número: \"))\n",
    "if valor > 9000:\n",
    "    print(\"maior do que 9000\")\n",
    "else:\n",
    "    print(\"menor do que 9000\")"
   ]
  },
  {
   "cell_type": "code",
   "execution_count": 4,
   "metadata": {},
   "outputs": [
    {
     "name": "stdout",
     "output_type": "stream",
     "text": [
      "Digite um número: 10000\n",
      "Digite outro número: 18\n",
      "menor do que 9000\n"
     ]
    }
   ],
   "source": [
    "valor1 = float(input(\"Digite um número: \"))\n",
    "valor2 = float(input(\"Digite outro número: \"))\n",
    "\n",
    "if valor1 > 9000 and valor2 > 9000:\n",
    "    print(\"maior do que 9000\")\n",
    "else:\n",
    "    print(\"menor do que 9000\")"
   ]
  },
  {
   "cell_type": "code",
   "execution_count": 5,
   "metadata": {
    "collapsed": true
   },
   "outputs": [],
   "source": [
    "# agora vamos calcular a média de dois números positivos"
   ]
  },
  {
   "cell_type": "code",
   "execution_count": 9,
   "metadata": {},
   "outputs": [
    {
     "name": "stdout",
     "output_type": "stream",
     "text": [
      "Meu primeiro número: -2\n",
      "Meu segundo número: 20\n",
      "digite números maiores do que ZERO\n"
     ]
    }
   ],
   "source": [
    "n1 = float(input(\"Meu primeiro número: \"))\n",
    "n2 = float(input(\"Meu segundo número: \"))\n",
    "media = (n1 + n2) / 2\n",
    "\n",
    "if n1 > 0 and n2 > 0:\n",
    "    print(\"a média é: \" + str(media) + \"!\")\n",
    "else:\n",
    "    print(\"digite números maiores do que ZERO\")\n",
    "    "
   ]
  },
  {
   "cell_type": "code",
   "execution_count": 10,
   "metadata": {
    "collapsed": true
   },
   "outputs": [],
   "source": [
    "# também poderíamos fazer a operação de outra forma"
   ]
  },
  {
   "cell_type": "code",
   "execution_count": 12,
   "metadata": {},
   "outputs": [
    {
     "name": "stdout",
     "output_type": "stream",
     "text": [
      "Meu primeiro número: 90\n",
      "Meu segundo número: -2\n",
      "digite números maiores do que ZERO\n"
     ]
    }
   ],
   "source": [
    "number1 = float(input(\"Meu primeiro número: \"))\n",
    "number2 = float(input(\"Meu segundo número: \"))\n",
    "mediaT = (n1 + n2) / 2\n",
    "\n",
    "if number1 < 0 or number2 < 0:\n",
    "    print(\"digite números maiores do que ZERO\")\n",
    "else:\n",
    "    print(\"a média é:\" + str(mediaT) + \"!!!\")"
   ]
  },
  {
   "cell_type": "code",
   "execution_count": null,
   "metadata": {
    "collapsed": true
   },
   "outputs": [],
   "source": []
  }
 ],
 "metadata": {
  "kernelspec": {
   "display_name": "Python 3",
   "language": "python",
   "name": "python3"
  },
  "language_info": {
   "codemirror_mode": {
    "name": "ipython",
    "version": 3
   },
   "file_extension": ".py",
   "mimetype": "text/x-python",
   "name": "python",
   "nbconvert_exporter": "python",
   "pygments_lexer": "ipython3",
   "version": "3.6.3"
  }
 },
 "nbformat": 4,
 "nbformat_minor": 2
}
