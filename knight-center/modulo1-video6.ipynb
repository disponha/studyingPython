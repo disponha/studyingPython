{
 "cells": [
  {
   "cell_type": "code",
   "execution_count": 3,
   "metadata": {},
   "outputs": [],
   "source": [
    "# continuação do curso de python para jornalistas"
   ]
  },
  {
   "cell_type": "code",
   "execution_count": 4,
   "metadata": {
    "collapsed": true
   },
   "outputs": [],
   "source": [
    "# módulo 1, vídeo 6"
   ]
  },
  {
   "cell_type": "code",
   "execution_count": 5,
   "metadata": {
    "collapsed": true
   },
   "outputs": [],
   "source": [
    "# exercício do QUIZ do Buzzfeed"
   ]
  },
  {
   "cell_type": "code",
   "execution_count": 6,
   "metadata": {},
   "outputs": [
    {
     "name": "stdout",
     "output_type": "stream",
     "text": [
      "Numa escala de 1 a 10, quão sociável você é: 3\n",
      "É, você é razoavelmente sociável.\n"
     ]
    }
   ],
   "source": [
    "comportamento = float(input(\"Numa escala de 1 a 10, quão sociável você é: \"))\n",
    "if comportamento == 1:\n",
    "    print(\"Aparentemente, você não é muito sociável.\")\n",
    "elif 1 < comportamento < 4:\n",
    "    print(\"É, você é razoavelmente sociável.\")\n",
    "elif 4 < comportamento < 7:\n",
    "    print(\"É, você está no meio termo.\")\n",
    "elif 7 < comportamento < 9:\n",
    "    print(\"HAHA, você é bem sociável.\")\n",
    "else:\n",
    "    print(\"Você é MUITO sociável.\")"
   ]
  },
  {
   "cell_type": "code",
   "execution_count": 7,
   "metadata": {},
   "outputs": [
    {
     "name": "stdout",
     "output_type": "stream",
     "text": [
      "Gosta de ir a bares? y\n",
      "Puxa conversa no supermercado? yes\n",
      "Faz novas amizades na praia? n\n",
      "Você puxa assunto no banheiro? nao\n",
      "Você é MUITO sociável.\n"
     ]
    }
   ],
   "source": [
    "comportamento2 = 0\n",
    "\n",
    "resposta1 = input(\"Gosta de ir a bares? \")\n",
    "if resposta1 == \"sim\" or \"s\" or \"yes\" or \"y\":\n",
    "    comportamento2 = comportamento2 + 1\n",
    "\n",
    "resposta2 = input(\"Puxa conversa no supermercado? \")\n",
    "if resposta2 == \"sim\" or \"s\" or \"yes\" or \"y\":\n",
    "    comportamento2 = comportamento2 + 1\n",
    "    \n",
    "resposta3 = input(\"Faz novas amizades na praia? \")\n",
    "if resposta3 == \"sim\" or \"s\" or \"yes\" or \"y\":\n",
    "    comportamento2 = comportamento2 + 1\n",
    "    \n",
    "resposta4 = input(\"Você puxa assunto no banheiro? \")\n",
    "if resposta4 == \"sim\" or \"s\" or \"yes\" or \"y\":\n",
    "    comportamento2 = comportamento2 + 1\n",
    "\n",
    "#parte2\n",
    "if comportamento2 == 0:\n",
    "    print(\"Você não é sociável.\")\n",
    "elif 1 < comportamento2 <= 2:\n",
    "    print(\"Você é um pouco sociável.\")\n",
    "elif 2 < comportamento2 <= 3:\n",
    "    print(\"Você é um bem sociável.\")\n",
    "else:\n",
    "    print(\"Você é MUITO sociável.\")"
   ]
  },
  {
   "cell_type": "code",
   "execution_count": 8,
   "metadata": {
    "collapsed": true
   },
   "outputs": [],
   "source": [
    "# a resposta correta seria 'Você é um pouco sociável.' porque apenas duas respostas dao +1"
   ]
  },
  {
   "cell_type": "code",
   "execution_count": null,
   "metadata": {
    "collapsed": true
   },
   "outputs": [],
   "source": []
  }
 ],
 "metadata": {
  "kernelspec": {
   "display_name": "Python 3",
   "language": "python",
   "name": "python3"
  },
  "language_info": {
   "codemirror_mode": {
    "name": "ipython",
    "version": 3
   },
   "file_extension": ".py",
   "mimetype": "text/x-python",
   "name": "python",
   "nbconvert_exporter": "python",
   "pygments_lexer": "ipython3",
   "version": "3.6.3"
  }
 },
 "nbformat": 4,
 "nbformat_minor": 2
}
