{
 "cells": [
  {
   "cell_type": "code",
   "execution_count": 1,
   "metadata": {
    "collapsed": true
   },
   "outputs": [],
   "source": [
    "# módulo 1, vídeo 7"
   ]
  },
  {
   "cell_type": "code",
   "execution_count": 14,
   "metadata": {
    "collapsed": true
   },
   "outputs": [],
   "source": [
    "titulo = \"Vacina da dengue não deve ser tomada por quem nunca teve a doença, diz nova recomendação da Anvisa\"\n",
    "url = \"https://g1.globo.com/bemestar/noticia/anvisa-recomenda-que-vacina-de-dengue-nao-seja-tomada-por-quem-nunca-teve-a-doenca.ghtml\""
   ]
  },
  {
   "cell_type": "code",
   "execution_count": 15,
   "metadata": {},
   "outputs": [
    {
     "data": {
      "text/plain": [
       "'Vacina da dengue não deve ser tomada por quem nunca teve a doença, diz nova recomendação da Anvisa'"
      ]
     },
     "execution_count": 15,
     "metadata": {},
     "output_type": "execute_result"
    }
   ],
   "source": [
    "import requests\n",
    "from bs4 import BeautifulSoup\n",
    "\n",
    "soup = BeautifulSoup(requests.get(url).content, \"html.parser\")\n",
    "soup.find(\"h1\", {\"itemprop\": \"headline\"}).text\n"
   ]
  },
  {
   "cell_type": "code",
   "execution_count": 16,
   "metadata": {},
   "outputs": [
    {
     "data": {
      "text/plain": [
       "True"
      ]
     },
     "execution_count": 16,
     "metadata": {},
     "output_type": "execute_result"
    }
   ],
   "source": [
    "\"Anvisa\" in titulo"
   ]
  },
  {
   "cell_type": "code",
   "execution_count": 17,
   "metadata": {},
   "outputs": [
    {
     "data": {
      "text/plain": [
       "False"
      ]
     },
     "execution_count": 17,
     "metadata": {},
     "output_type": "execute_result"
    }
   ],
   "source": [
    "\"anvisa\" in titulo"
   ]
  },
  {
   "cell_type": "code",
   "execution_count": 18,
   "metadata": {
    "collapsed": true
   },
   "outputs": [],
   "source": [
    "doenca = \"dengue\""
   ]
  },
  {
   "cell_type": "code",
   "execution_count": 19,
   "metadata": {
    "collapsed": true
   },
   "outputs": [],
   "source": [
    "doenca_ideal = \"amor\""
   ]
  },
  {
   "cell_type": "code",
   "execution_count": 20,
   "metadata": {},
   "outputs": [
    {
     "data": {
      "text/plain": [
       "'Vacina da amor não deve ser tomada por quem nunca teve a doença, diz nova recomendação da Anvisa'"
      ]
     },
     "execution_count": 20,
     "metadata": {},
     "output_type": "execute_result"
    }
   ],
   "source": [
    "titulo.replace(doenca, doenca_ideal)"
   ]
  },
  {
   "cell_type": "code",
   "execution_count": 21,
   "metadata": {
    "collapsed": true
   },
   "outputs": [],
   "source": [
    "doenca = \"da dengue\""
   ]
  },
  {
   "cell_type": "code",
   "execution_count": 24,
   "metadata": {
    "collapsed": true
   },
   "outputs": [],
   "source": [
    "doenca_ideal = \"do amor\""
   ]
  },
  {
   "cell_type": "code",
   "execution_count": 25,
   "metadata": {},
   "outputs": [
    {
     "data": {
      "text/plain": [
       "'Vacina do amor não deve ser tomada por quem nunca teve a doença, diz nova recomendação da Anvisa'"
      ]
     },
     "execution_count": 25,
     "metadata": {},
     "output_type": "execute_result"
    }
   ],
   "source": [
    "titulo.replace(doenca, doenca_ideal)"
   ]
  },
  {
   "cell_type": "code",
   "execution_count": 26,
   "metadata": {},
   "outputs": [
    {
     "data": {
      "text/plain": [
       "'VACINA DA DENGUE NÃO DEVE SER TOMADA POR QUEM NUNCA TEVE A DOENÇA, DIZ NOVA RECOMENDAÇÃO DA ANVISA'"
      ]
     },
     "execution_count": 26,
     "metadata": {},
     "output_type": "execute_result"
    }
   ],
   "source": [
    "titulo.upper()"
   ]
  },
  {
   "cell_type": "code",
   "execution_count": 28,
   "metadata": {},
   "outputs": [
    {
     "data": {
      "text/plain": [
       "'vacina da dengue não deve ser tomada por quem nunca teve a doença, diz nova recomendação da anvisa'"
      ]
     },
     "execution_count": 28,
     "metadata": {},
     "output_type": "execute_result"
    }
   ],
   "source": [
    "titulo.lower()"
   ]
  },
  {
   "cell_type": "code",
   "execution_count": 34,
   "metadata": {},
   "outputs": [
    {
     "name": "stdout",
     "output_type": "stream",
     "text": [
      "copie e cole uma manchete que mencione \"corrupto\" aqui: corrupto rouba r$ 500 mi do tesouro nacional e deixa brasil em crise\n",
      "eduardo cunha rouba r$ 500 mi do tesouro nacional e deixa brasil em crise\n"
     ]
    }
   ],
   "source": [
    "manchete = input('copie e cole uma manchete que mencione \"corrupto\" aqui: ')\n",
    "corrupto_person = \"eduardo cunha\"\n",
    "\n",
    "print(manchete.replace(\"corrupto\", corrupto_person))"
   ]
  },
  {
   "cell_type": "code",
   "execution_count": 35,
   "metadata": {},
   "outputs": [
    {
     "name": "stdout",
     "output_type": "stream",
     "text": [
      "copie e cole uma manchete que mencione \"bandido\" aqui: bandido assalta banco e leva r$ 500 mi de ricos dos jardins\n",
      "lula assalta banco e leva r$ 500 mi de ricos dos jardins\n"
     ]
    }
   ],
   "source": [
    "manchete = input('copie e cole uma manchete que mencione \"bandido\" aqui: ')\n",
    "manchete_new = manchete.lower()\n",
    "bandido_person = \"lula\"\n",
    "\n",
    "print(manchete_new.replace(\"bandido\", bandido_person))"
   ]
  },
  {
   "cell_type": "code",
   "execution_count": 36,
   "metadata": {
    "collapsed": true
   },
   "outputs": [],
   "source": [
    "# fim"
   ]
  },
  {
   "cell_type": "code",
   "execution_count": null,
   "metadata": {
    "collapsed": true
   },
   "outputs": [],
   "source": []
  }
 ],
 "metadata": {
  "kernelspec": {
   "display_name": "Python 3",
   "language": "python",
   "name": "python3"
  },
  "language_info": {
   "codemirror_mode": {
    "name": "ipython",
    "version": 3
   },
   "file_extension": ".py",
   "mimetype": "text/x-python",
   "name": "python",
   "nbconvert_exporter": "python",
   "pygments_lexer": "ipython3",
   "version": "3.6.3"
  }
 },
 "nbformat": 4,
 "nbformat_minor": 2
}
