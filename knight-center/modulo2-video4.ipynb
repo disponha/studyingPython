{
 "cells": [
  {
   "cell_type": "code",
   "execution_count": 1,
   "metadata": {
    "collapsed": true
   },
   "outputs": [],
   "source": [
    "# módulo 2, vídeo 4"
   ]
  },
  {
   "cell_type": "code",
   "execution_count": 2,
   "metadata": {
    "collapsed": true
   },
   "outputs": [],
   "source": [
    "import csv \n",
    "import pandas as pd"
   ]
  },
  {
   "cell_type": "code",
   "execution_count": 3,
   "metadata": {},
   "outputs": [
    {
     "name": "stdout",
     "output_type": "stream",
     "text": [
      "total de habitantes no BR: 190755799\n"
     ]
    }
   ],
   "source": [
    "populacao = 0\n",
    "arquivo = open(\"brasil.csv\", encoding=\"utf8\")\n",
    "for registro in csv.DictReader(arquivo):\n",
    "    populacao += int(registro[\"habitantes\"])\n",
    "print(f'total de habitantes no BR: {populacao}')"
   ]
  },
  {
   "cell_type": "code",
   "execution_count": 4,
   "metadata": {},
   "outputs": [
    {
     "name": "stdout",
     "output_type": "stream",
     "text": [
      "Counter({'RJ': 8000, 'SP': 5000, 'PR': 1000})\n"
     ]
    }
   ],
   "source": [
    "import collections as cl\n",
    "\n",
    "contador = cl.Counter()\n",
    "contador[\"PR\"] += 1000\n",
    "contador[\"RJ\"] += 8000\n",
    "contador[\"SP\"] += 5000\n",
    "print(contador)"
   ]
  },
  {
   "cell_type": "code",
   "execution_count": 6,
   "metadata": {},
   "outputs": [
    {
     "name": "stdout",
     "output_type": "stream",
     "text": [
      "Counter({'SP': 41262199, 'MG': 19597330, 'RJ': 15989929, 'BA': 14016906, 'RS': 10693929, 'PR': 10444526, 'PE': 8796448, 'CE': 8452381, 'PA': 7581051, 'MA': 6574789, 'SC': 6248436, 'GO': 6003788, 'PB': 3766528, 'ES': 3514952, 'AM': 3483985, 'RN': 3168027, 'AL': 3120494, 'PI': 3118360, 'MT': 3035122, 'DF': 2570160, 'MS': 2449024, 'SE': 2068017, 'RO': 1562409, 'TO': 1383445, 'AC': 733559, 'AP': 669526, 'RR': 450479})\n"
     ]
    }
   ],
   "source": [
    "populacao = cl.Counter()\n",
    "arquivo = open(\"brasil.csv\", encoding=\"utf8\")\n",
    "for registro in csv.DictReader(arquivo):\n",
    "    populacao[registro[\"estado\"]] += int(registro[\"habitantes\"])\n",
    "print(populacao)"
   ]
  },
  {
   "cell_type": "code",
   "execution_count": 7,
   "metadata": {},
   "outputs": [
    {
     "name": "stdout",
     "output_type": "stream",
     "text": [
      "[('SP', 41262199), ('MG', 19597330), ('RJ', 15989929), ('BA', 14016906), ('RS', 10693929), ('PR', 10444526), ('PE', 8796448), ('CE', 8452381), ('PA', 7581051), ('MA', 6574789), ('SC', 6248436), ('GO', 6003788), ('PB', 3766528), ('ES', 3514952), ('AM', 3483985), ('RN', 3168027), ('AL', 3120494), ('PI', 3118360), ('MT', 3035122), ('DF', 2570160), ('MS', 2449024), ('SE', 2068017), ('RO', 1562409), ('TO', 1383445), ('AC', 733559), ('AP', 669526), ('RR', 450479)]\n"
     ]
    }
   ],
   "source": [
    "populacao = cl.Counter()\n",
    "arquivo = open(\"brasil.csv\", encoding=\"utf8\")\n",
    "for registro in csv.DictReader(arquivo):\n",
    "    populacao[registro[\"estado\"]] += int(registro[\"habitantes\"])\n",
    "print(populacao.most_common())"
   ]
  },
  {
   "cell_type": "code",
   "execution_count": 8,
   "metadata": {
    "collapsed": true
   },
   "outputs": [],
   "source": [
    "# isso acima a gente chama de TUPLA"
   ]
  },
  {
   "cell_type": "code",
   "execution_count": 13,
   "metadata": {},
   "outputs": [
    {
     "name": "stdout",
     "output_type": "stream",
     "text": [
      "a uf SP tem 41262199 hab.\n",
      "a uf MG tem 19597330 hab.\n",
      "a uf RJ tem 15989929 hab.\n",
      "a uf BA tem 14016906 hab.\n",
      "a uf RS tem 10693929 hab.\n",
      "a uf PR tem 10444526 hab.\n",
      "a uf PE tem 8796448 hab.\n",
      "a uf CE tem 8452381 hab.\n",
      "a uf PA tem 7581051 hab.\n",
      "a uf MA tem 6574789 hab.\n",
      "a uf SC tem 6248436 hab.\n",
      "a uf GO tem 6003788 hab.\n",
      "a uf PB tem 3766528 hab.\n",
      "a uf ES tem 3514952 hab.\n",
      "a uf AM tem 3483985 hab.\n",
      "a uf RN tem 3168027 hab.\n",
      "a uf AL tem 3120494 hab.\n",
      "a uf PI tem 3118360 hab.\n",
      "a uf MT tem 3035122 hab.\n",
      "a uf DF tem 2570160 hab.\n",
      "a uf MS tem 2449024 hab.\n",
      "a uf SE tem 2068017 hab.\n",
      "a uf RO tem 1562409 hab.\n",
      "a uf TO tem 1383445 hab.\n",
      "a uf AC tem 733559 hab.\n",
      "a uf AP tem 669526 hab.\n",
      "a uf RR tem 450479 hab.\n"
     ]
    }
   ],
   "source": [
    "arquivo = open(\"brasil.csv\", encoding=\"utf8\")\n",
    "populacao = cl.Counter()\n",
    "\n",
    "for registro in csv.DictReader(arquivo):\n",
    "    populacao[registro[\"estado\"]] += int(registro[\"habitantes\"])\n",
    "\n",
    "for estado, habitantes in populacao.most_common():\n",
    "    print(f'a uf {estado} tem {habitantes} hab.')"
   ]
  },
  {
   "cell_type": "code",
   "execution_count": 14,
   "metadata": {},
   "outputs": [
    {
     "name": "stdout",
     "output_type": "stream",
     "text": [
      "a uf SP tem 41262199 hab.\n",
      "a uf MG tem 19597330 hab.\n",
      "a uf RJ tem 15989929 hab.\n",
      "a uf BA tem 14016906 hab.\n",
      "a uf RS tem 10693929 hab.\n",
      "a uf PR tem 10444526 hab.\n",
      "a uf PE tem 8796448 hab.\n",
      "a uf CE tem 8452381 hab.\n"
     ]
    }
   ],
   "source": [
    "arquivo = open(\"brasil.csv\", encoding=\"utf8\")\n",
    "populacao = cl.Counter()\n",
    "\n",
    "for registro in csv.DictReader(arquivo):\n",
    "    populacao[registro[\"estado\"]] += int(registro[\"habitantes\"])\n",
    "\n",
    "for estado, habitantes in populacao.most_common(8):\n",
    "    print(f'a uf {estado} tem {habitantes} hab.')"
   ]
  },
  {
   "cell_type": "code",
   "execution_count": 15,
   "metadata": {
    "collapsed": true
   },
   "outputs": [],
   "source": [
    "import csv\n",
    "arquivo = open(\"saida.csv\", mode=\"w\", encoding=\"utf8\")\n",
    "escritor = csv.writer(arquivo, lineterminator=\"\\n\")\n",
    "escritor.writerow([\"linha1 coluna1\", \"linha1 coluna2\"])\n",
    "escritor.writerow([\"linha2 coluna1\", \"linha2 coluna2\"])\n",
    "escritor.writerow([\"linha3 coluna1\", \"linha3 coluna2\"])\n",
    "arquivo.close()"
   ]
  },
  {
   "cell_type": "code",
   "execution_count": 16,
   "metadata": {
    "collapsed": true
   },
   "outputs": [],
   "source": [
    "import csv\n",
    "\n",
    "arquivo = open(\"brasil.csv\", encoding=\"utf8\")\n",
    "populacao = cl.Counter()\n",
    "\n",
    "for registro in csv.DictReader(arquivo):\n",
    "    populacao[registro[\"estado\"]] += int(registro[\"habitantes\"])\n",
    "\n",
    "arquivo_saida = open(\"saida.csv\", mode=\"w\", encoding=\"utf8\")\n",
    "\n",
    "escritor = csv.writer(arquivo_saida, lineterminator=\"\\n\")\n",
    "escritor.writerow([\"estado\", \"habitantes\"])\n",
    "\n",
    "for estado, habitantes in populacao.most_common():\n",
    "    escritor.writerow([estado, habitantes])\n",
    "arquivo_saida.close()\n"
   ]
  },
  {
   "cell_type": "code",
   "execution_count": 17,
   "metadata": {
    "collapsed": true
   },
   "outputs": [],
   "source": [
    "#fim "
   ]
  },
  {
   "cell_type": "code",
   "execution_count": null,
   "metadata": {
    "collapsed": true
   },
   "outputs": [],
   "source": []
  }
 ],
 "metadata": {
  "kernelspec": {
   "display_name": "Python 3",
   "language": "python",
   "name": "python3"
  },
  "language_info": {
   "codemirror_mode": {
    "name": "ipython",
    "version": 3
   },
   "file_extension": ".py",
   "mimetype": "text/x-python",
   "name": "python",
   "nbconvert_exporter": "python",
   "pygments_lexer": "ipython3",
   "version": "3.6.3"
  }
 },
 "nbformat": 4,
 "nbformat_minor": 2
}
