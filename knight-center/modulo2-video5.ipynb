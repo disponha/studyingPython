{
 "cells": [
  {
   "cell_type": "code",
   "execution_count": 1,
   "metadata": {
    "collapsed": true
   },
   "outputs": [],
   "source": [
    "# módulo 2, vídeo 5"
   ]
  },
  {
   "cell_type": "code",
   "execution_count": 32,
   "metadata": {},
   "outputs": [
    {
     "name": "stdout",
     "output_type": "stream",
     "text": [
      "https://graph.facebook.com/v2.11/g1?access_token=|\n"
     ]
    }
   ],
   "source": [
    "ID_do_aplicativo = \"\"\n",
    "chave_secreta = \"\"\n",
    "token = ID_do_aplicativo + '|' + chave_secreta\n",
    "pagina = \"g1\"\n",
    "url = f'https://graph.facebook.com/v2.11/{pagina}?access_token={token}'\n",
    "print(url)"
   ]
  },
  {
   "cell_type": "code",
   "execution_count": 9,
   "metadata": {
    "collapsed": true
   },
   "outputs": [],
   "source": [
    "g1 = {\n",
    "    \"name\": \"G1 - O Portal de Notícias da Globo\",\n",
    "    \"id\": \"180562885329138\"\n",
    "}"
   ]
  },
  {
   "cell_type": "code",
   "execution_count": 11,
   "metadata": {},
   "outputs": [
    {
     "data": {
      "text/plain": [
       "'G1 - O Portal de Notícias da Globo'"
      ]
     },
     "execution_count": 11,
     "metadata": {},
     "output_type": "execute_result"
    }
   ],
   "source": [
    "g1[\"name\"]"
   ]
  },
  {
   "cell_type": "code",
   "execution_count": 15,
   "metadata": {
    "collapsed": true
   },
   "outputs": [],
   "source": [
    "pagina2 = \"r7\""
   ]
  },
  {
   "cell_type": "code",
   "execution_count": 33,
   "metadata": {},
   "outputs": [
    {
     "name": "stdout",
     "output_type": "stream",
     "text": [
      "https://graph.facebook.com/v2.11/r7?access_token=|\n"
     ]
    }
   ],
   "source": [
    "url = f'https://graph.facebook.com/v2.11/{pagina2}?access_token={token}'\n",
    "print(url)"
   ]
  },
  {
   "cell_type": "code",
   "execution_count": 18,
   "metadata": {
    "collapsed": true
   },
   "outputs": [],
   "source": [
    "erro = {\n",
    "    \"error\": {\n",
    "    \"message\": \"(#803) Some of the aliases you requested do not exist: r7\",\n",
    "    \"type\": \"OAuthException\",\n",
    "    \"code\": 803,\n",
    "    \"fbtrace_id\": \"HoJoGRDLlJn\"\n",
    "    }\n",
    "}"
   ]
  },
  {
   "cell_type": "code",
   "execution_count": 19,
   "metadata": {},
   "outputs": [
    {
     "data": {
      "text/plain": [
       "({'id': '180562885329138', 'name': 'G1 - O Portal de Notícias da Globo'},\n",
       " {'error': {'code': 803,\n",
       "   'fbtrace_id': 'HoJoGRDLlJn',\n",
       "   'message': '(#803) Some of the aliases you requested do not exist: r7',\n",
       "   'type': 'OAuthException'}})"
      ]
     },
     "execution_count": 19,
     "metadata": {},
     "output_type": "execute_result"
    }
   ],
   "source": [
    "g1, erro"
   ]
  },
  {
   "cell_type": "code",
   "execution_count": 26,
   "metadata": {},
   "outputs": [
    {
     "data": {
      "text/plain": [
       "'180562885329138'"
      ]
     },
     "execution_count": 26,
     "metadata": {},
     "output_type": "execute_result"
    }
   ],
   "source": [
    "g1[\"id\"]"
   ]
  },
  {
   "cell_type": "code",
   "execution_count": 27,
   "metadata": {
    "collapsed": true
   },
   "outputs": [],
   "source": [
    "pagina3 = \"SpottedPUCRio\""
   ]
  },
  {
   "cell_type": "code",
   "execution_count": 34,
   "metadata": {},
   "outputs": [
    {
     "name": "stdout",
     "output_type": "stream",
     "text": [
      "https://graph.facebook.com/v2.11/SpottedPUCRio?access_token=|\n"
     ]
    }
   ],
   "source": [
    "url = f'https://graph.facebook.com/v2.11/{pagina3}?access_token={token}'\n",
    "print(url)"
   ]
  },
  {
   "cell_type": "code",
   "execution_count": 29,
   "metadata": {
    "collapsed": true
   },
   "outputs": [],
   "source": [
    "field = \"posts\""
   ]
  },
  {
   "cell_type": "code",
   "execution_count": 35,
   "metadata": {},
   "outputs": [
    {
     "name": "stdout",
     "output_type": "stream",
     "text": [
      "https://graph.facebook.com/v2.11/SpottedPUCRio?fields=posts&access_token=|\n"
     ]
    }
   ],
   "source": [
    "url = f'https://graph.facebook.com/v2.11/{pagina3}?fields={field}&access_token={token}'\n",
    "print(url)"
   ]
  },
  {
   "cell_type": "code",
   "execution_count": 31,
   "metadata": {
    "collapsed": true
   },
   "outputs": [],
   "source": [
    "# fim"
   ]
  },
  {
   "cell_type": "code",
   "execution_count": null,
   "metadata": {
    "collapsed": true
   },
   "outputs": [],
   "source": []
  }
 ],
 "metadata": {
  "kernelspec": {
   "display_name": "Python 3",
   "language": "python",
   "name": "python3"
  },
  "language_info": {
   "codemirror_mode": {
    "name": "ipython",
    "version": 3
   },
   "file_extension": ".py",
   "mimetype": "text/x-python",
   "name": "python",
   "nbconvert_exporter": "python",
   "pygments_lexer": "ipython3",
   "version": "3.6.3"
  }
 },
 "nbformat": 4,
 "nbformat_minor": 2
}
