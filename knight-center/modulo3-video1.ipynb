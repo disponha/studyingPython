{
 "cells": [
  {
   "cell_type": "code",
   "execution_count": 1,
   "metadata": {
    "collapsed": true
   },
   "outputs": [],
   "source": [
    "# módulo 3, vídeo 1"
   ]
  },
  {
   "cell_type": "code",
   "execution_count": 2,
   "metadata": {
    "collapsed": true
   },
   "outputs": [],
   "source": [
    "nome = \"Gabriela\""
   ]
  },
  {
   "cell_type": "code",
   "execution_count": 4,
   "metadata": {},
   "outputs": [
    {
     "name": "stdout",
     "output_type": "stream",
     "text": [
      "gabriela\n"
     ]
    }
   ],
   "source": [
    "print(nome.lower())"
   ]
  },
  {
   "cell_type": "code",
   "execution_count": 5,
   "metadata": {},
   "outputs": [
    {
     "name": "stdout",
     "output_type": "stream",
     "text": [
      "GABRIELA\n"
     ]
    }
   ],
   "source": [
    "print(nome.upper())"
   ]
  },
  {
   "cell_type": "code",
   "execution_count": 8,
   "metadata": {},
   "outputs": [
    {
     "name": "stdout",
     "output_type": "stream",
     "text": [
      "Help on built-in function upper:\n",
      "\n",
      "upper(...) method of builtins.str instance\n",
      "    S.upper() -> str\n",
      "    \n",
      "    Return a copy of S converted to uppercase.\n",
      "\n"
     ]
    }
   ],
   "source": [
    "help(nome.upper)"
   ]
  },
  {
   "cell_type": "code",
   "execution_count": 9,
   "metadata": {},
   "outputs": [
    {
     "name": "stdout",
     "output_type": "stream",
     "text": [
      "Help on built-in function lower:\n",
      "\n",
      "lower(...) method of builtins.str instance\n",
      "    S.lower() -> str\n",
      "    \n",
      "    Return a copy of the string S converted to lowercase.\n",
      "\n"
     ]
    }
   ],
   "source": [
    "help(nome.lower)"
   ]
  },
  {
   "cell_type": "code",
   "execution_count": 10,
   "metadata": {},
   "outputs": [
    {
     "data": {
      "text/plain": [
       "'Gabriela'"
      ]
     },
     "execution_count": 10,
     "metadata": {},
     "output_type": "execute_result"
    }
   ],
   "source": [
    "nome.strip()"
   ]
  },
  {
   "cell_type": "code",
   "execution_count": 11,
   "metadata": {
    "collapsed": true
   },
   "outputs": [],
   "source": [
    "prenome = \" ANA     \""
   ]
  },
  {
   "cell_type": "code",
   "execution_count": 13,
   "metadata": {},
   "outputs": [
    {
     "data": {
      "text/plain": [
       "'ANA'"
      ]
     },
     "execution_count": 13,
     "metadata": {},
     "output_type": "execute_result"
    }
   ],
   "source": [
    "prenome.strip()"
   ]
  },
  {
   "cell_type": "code",
   "execution_count": 14,
   "metadata": {},
   "outputs": [
    {
     "name": "stdout",
     "output_type": "stream",
     "text": [
      "qual é o seu nome?     joao     julio\n",
      "Joao     Julio\n"
     ]
    }
   ],
   "source": [
    "seunome = input(\"qual é o seu nome?\")\n",
    "seunome = seunome.strip()\n",
    "seunome = seunome.title()\n",
    "print(seunome)"
   ]
  },
  {
   "cell_type": "code",
   "execution_count": 15,
   "metadata": {},
   "outputs": [
    {
     "name": "stdout",
     "output_type": "stream",
     "text": [
      "qual é o seu nome?beatriz      \n",
      "vc digitou: Beatriz.\n"
     ]
    }
   ],
   "source": [
    "seunome = input(\"qual é o seu nome?\")\n",
    "seunome = seunome.strip()\n",
    "seunome = seunome.title()\n",
    "print(f'vc digitou: {seunome}.')"
   ]
  },
  {
   "cell_type": "code",
   "execution_count": 16,
   "metadata": {},
   "outputs": [
    {
     "name": "stdout",
     "output_type": "stream",
     "text": [
      "digite os nomes separados por virgula:ana, joana, suzana, tuana, f\n",
      "['ana', ' joana', ' suzana', ' tuana', ' f']\n"
     ]
    }
   ],
   "source": [
    "nomes = input(\"digite os nomes separados por virgula:\")\n",
    "print(nomes.split(\",\"))"
   ]
  },
  {
   "cell_type": "code",
   "execution_count": 17,
   "metadata": {},
   "outputs": [
    {
     "name": "stdout",
     "output_type": "stream",
     "text": [
      "digite os nomes separados por virgula:ju, ana, cris, tutu, ko\n",
      "ju\n",
      "ana\n",
      "cris\n",
      "tutu\n",
      "ko\n"
     ]
    }
   ],
   "source": [
    "nomes = input(\"digite os nomes separados por virgula:\")\n",
    "listadenomes = nomes.split(\",\")\n",
    "for nomecompleto in listadenomes:\n",
    "    print(nomecompleto.strip())"
   ]
  },
  {
   "cell_type": "code",
   "execution_count": 18,
   "metadata": {},
   "outputs": [
    {
     "name": "stdout",
     "output_type": "stream",
     "text": [
      "digite os nomes separados por virgula:ana cristina, ana gabriela, joao, suzana, teresa, julio caesar\n",
      "['ana', 'cristina']\n",
      "['ana', 'gabriela']\n",
      "['joao']\n",
      "['suzana']\n",
      "['teresa']\n",
      "['julio', 'caesar']\n"
     ]
    }
   ],
   "source": [
    "nomes = input(\"digite os nomes separados por virgula:\")\n",
    "listadenomes = nomes.split(\",\")\n",
    "for nomecompleto in listadenomes:\n",
    "    print(nomecompleto.strip().split(\" \"))"
   ]
  },
  {
   "cell_type": "code",
   "execution_count": 19,
   "metadata": {},
   "outputs": [
    {
     "name": "stdout",
     "output_type": "stream",
     "text": [
      "digite os nomes separados por virgula:ana, joao julio, cristiana, teresa, ariel, justus, gilson\n",
      "ana é mulher\n",
      " joao julio é homem\n",
      " cristiana é mulher\n",
      " teresa é mulher\n",
      " ariel: nao sei!\n",
      " justus: nao sei!\n",
      " gilson: nao sei!\n"
     ]
    }
   ],
   "source": [
    "nomes = input(\"digite os nomes separados por virgula:\")\n",
    "listadenomes = nomes.split(\",\")\n",
    "for nomecompleto in listadenomes:\n",
    "    primeironome = nomecompleto.strip().split(\" \")[0]\n",
    "    if primeironome.endswith(\"o\"):\n",
    "        print(f'{nomecompleto} é homem')\n",
    "    elif primeironome.endswith(\"a\"):\n",
    "        print(f'{nomecompleto} é mulher')\n",
    "    else:\n",
    "        print(f'{nomecompleto}: nao sei!')"
   ]
  },
  {
   "cell_type": "code",
   "execution_count": 20,
   "metadata": {},
   "outputs": [
    {
     "name": "stdout",
     "output_type": "stream",
     "text": [
      "digite os nomes separados por virgula:teresa, junior, gabriela, ariel, b, britney, julia, tiago\n",
      "Teresa é mulher\n",
      "Junior: nao sei!\n",
      "Gabriela é mulher\n",
      "Ariel: nao sei!\n",
      "B: nao sei!\n",
      "Britney: nao sei!\n",
      "Julia é mulher\n",
      "Tiago é homem\n"
     ]
    }
   ],
   "source": [
    "nomes = input(\"digite os nomes separados por virgula:\")\n",
    "listadenomes = nomes.split(\",\")\n",
    "for nomecompleto in listadenomes:\n",
    "    nomecompleto = nomecompleto.strip().title()\n",
    "    primeironome = nomecompleto.split(\" \")[0]\n",
    "    if primeironome.endswith(\"o\"):\n",
    "        print(f'{nomecompleto} é homem')\n",
    "    elif primeironome.endswith(\"a\"):\n",
    "        print(f'{nomecompleto} é mulher')\n",
    "    else:\n",
    "        print(f'{nomecompleto}: nao sei!')"
   ]
  },
  {
   "cell_type": "code",
   "execution_count": 21,
   "metadata": {
    "scrolled": true
   },
   "outputs": [
    {
     "name": "stdout",
     "output_type": "stream",
     "text": [
      "Ana é mulher\n",
      "Gabriela é mulher\n",
      "Ariel: nao sei!\n",
      "Bruno é homem\n",
      "Iago é homem\n",
      "Iara é mulher\n",
      "Oliver: nao sei!\n",
      "Natalia é mulher\n",
      "Nathalie: nao sei!\n",
      "Bruno é homem\n"
     ]
    }
   ],
   "source": [
    "nomes = \"\"\"ANA\n",
    "GABRIELA\n",
    "ARIEL\n",
    "BRUNO\n",
    "IAGO\n",
    "IARA\n",
    "OLIVER\n",
    "NATALIA\n",
    "NATHALIE\n",
    "BRUNO\n",
    "\"\"\"\n",
    "listadenomes = nomes.splitlines()\n",
    "for nomecompleto in listadenomes:\n",
    "    nomecompleto = nomecompleto.strip().title()\n",
    "    primeironome = nomecompleto.split(\" \")[0]\n",
    "    if primeironome.endswith(\"o\"):\n",
    "        print(f'{nomecompleto} é homem')\n",
    "    elif primeironome.endswith(\"a\"):\n",
    "        print(f'{nomecompleto} é mulher')\n",
    "    else:\n",
    "        print(f'{nomecompleto}: nao sei!')"
   ]
  },
  {
   "cell_type": "code",
   "execution_count": 22,
   "metadata": {
    "collapsed": true
   },
   "outputs": [],
   "source": [
    " # fim "
   ]
  },
  {
   "cell_type": "code",
   "execution_count": null,
   "metadata": {
    "collapsed": true
   },
   "outputs": [],
   "source": []
  }
 ],
 "metadata": {
  "kernelspec": {
   "display_name": "Python 3",
   "language": "python",
   "name": "python3"
  },
  "language_info": {
   "codemirror_mode": {
    "name": "ipython",
    "version": 3
   },
   "file_extension": ".py",
   "mimetype": "text/x-python",
   "name": "python",
   "nbconvert_exporter": "python",
   "pygments_lexer": "ipython3",
   "version": "3.6.3"
  }
 },
 "nbformat": 4,
 "nbformat_minor": 2
}
