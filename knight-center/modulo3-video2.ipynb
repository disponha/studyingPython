{
 "cells": [
  {
   "cell_type": "code",
   "execution_count": 1,
   "metadata": {
    "collapsed": true
   },
   "outputs": [],
   "source": [
    "# módulo 3, vídeo 2"
   ]
  },
  {
   "cell_type": "code",
   "execution_count": 3,
   "metadata": {},
   "outputs": [],
   "source": [
    "parties = \"66 seats: PMDB\", \"58 seats: PT\", \"50 seats: PSDB\", \"46 seats: PP\", \"42 seats: PR\", \"35 seats: PSD\", \"33 seats: PSB\", \"27 seats: DEM\", \"22 seats: PRB\", \"19 seats: PDT\", \"18 seats: PTB\", \"14 seats: SD\", \"13 seats: PODE\", \"11 seats: PCdoB\", \"8 seats: PSC\", \"8 seats: PPS\", \"7 seats: PHS\", \"6 seats: PV\", \"6 seats: PSOL\", \"5 seats: PROS\", \"4 seats: REDE\", \"3 seats: AVANTE\", \"3 seats: PATRI\", \"2 seats: PSL\", \"1 seat: PMB\", \"1 seat: PRP\""
   ]
  },
  {
   "cell_type": "code",
   "execution_count": 4,
   "metadata": {},
   "outputs": [
    {
     "name": "stdout",
     "output_type": "stream",
     "text": [
      "('66 seats: PMDB', '58 seats: PT', '50 seats: PSDB', '46 seats: PP', '42 seats: PR', '35 seats: PSD', '33 seats: PSB', '27 seats: DEM', '22 seats: PRB', '19 seats: PDT', '18 seats: PTB', '14 seats: SD', '13 seats: PODE', '11 seats: PCdoB', '8 seats: PSC', '8 seats: PPS', '7 seats: PHS', '6 seats: PV', '6 seats: PSOL', '5 seats: PROS', '4 seats: REDE', '3 seats: AVANTE', '3 seats: PATRI', '2 seats: PSL', '1 seat: PMB', '1 seat: PRP')\n"
     ]
    }
   ],
   "source": [
    "print(parties)"
   ]
  },
  {
   "cell_type": "code",
   "execution_count": 5,
   "metadata": {},
   "outputs": [
    {
     "name": "stdout",
     "output_type": "stream",
     "text": [
      "('35 seats: PSD', '33 seats: PSB', '27 seats: DEM', '22 seats: PRB', '19 seats: PDT', '18 seats: PTB', '14 seats: SD', '13 seats: PODE', '11 seats: PCdoB', '8 seats: PSC', '8 seats: PPS', '7 seats: PHS', '6 seats: PV', '6 seats: PSOL', '5 seats: PROS', '4 seats: REDE', '3 seats: AVANTE', '3 seats: PATRI', '2 seats: PSL', '1 seat: PMB', '1 seat: PRP')\n"
     ]
    }
   ],
   "source": [
    "print(parties[5:])"
   ]
  },
  {
   "cell_type": "code",
   "execution_count": 6,
   "metadata": {},
   "outputs": [
    {
     "name": "stdout",
     "output_type": "stream",
     "text": [
      "('19 seats: PDT', '18 seats: PTB', '14 seats: SD', '13 seats: PODE', '11 seats: PCdoB', '8 seats: PSC', '8 seats: PPS', '7 seats: PHS', '6 seats: PV', '6 seats: PSOL')\n"
     ]
    }
   ],
   "source": [
    "print(parties[9:19])"
   ]
  },
  {
   "cell_type": "code",
   "execution_count": 8,
   "metadata": {},
   "outputs": [
    {
     "name": "stdout",
     "output_type": "stream",
     "text": [
      "50 seats: PSDB\n"
     ]
    }
   ],
   "source": [
    "if \"PSDB\" in str(parties):\n",
    "    print(parties[2])"
   ]
  },
  {
   "cell_type": "code",
   "execution_count": 9,
   "metadata": {
    "collapsed": true
   },
   "outputs": [],
   "source": [
    "if \"Podemos\" in str(parties):\n",
    "    print(parties[12])"
   ]
  },
  {
   "cell_type": "code",
   "execution_count": 10,
   "metadata": {},
   "outputs": [
    {
     "name": "stdout",
     "output_type": "stream",
     "text": [
      "13 seats: PODE\n"
     ]
    }
   ],
   "source": [
    "if \"PODE\" in str(parties):\n",
    "    print(parties[12])"
   ]
  },
  {
   "cell_type": "code",
   "execution_count": 11,
   "metadata": {
    "collapsed": true
   },
   "outputs": [],
   "source": [
    "# agora, fazemos junto com o vídeo"
   ]
  },
  {
   "cell_type": "code",
   "execution_count": 12,
   "metadata": {
    "collapsed": true
   },
   "outputs": [],
   "source": [
    "deputados = [\"Jose Anibal\", \"Rogerio Rosso\", \"Jandira Fhegali\", \"Andre Moura\", \"Rodrigo Maia\", \"Leandre\", \"Christiane Yared\"]"
   ]
  },
  {
   "cell_type": "code",
   "execution_count": 13,
   "metadata": {},
   "outputs": [
    {
     "name": "stdout",
     "output_type": "stream",
     "text": [
      "Andre Moura\n",
      "Christiane Yared\n",
      "Jandira Fhegali\n",
      "Jose Anibal\n",
      "Leandre\n",
      "Rodrigo Maia\n",
      "Rogerio Rosso\n"
     ]
    }
   ],
   "source": [
    "deputados.sort()\n",
    "for deputado in deputados:\n",
    "    print(deputado)"
   ]
  },
  {
   "cell_type": "code",
   "execution_count": 14,
   "metadata": {
    "collapsed": true
   },
   "outputs": [],
   "source": [
    "import random"
   ]
  },
  {
   "cell_type": "code",
   "execution_count": 15,
   "metadata": {},
   "outputs": [
    {
     "name": "stdout",
     "output_type": "stream",
     "text": [
      "o/a deputado/a Rogerio Rosso preside a Mesa da Câmara neste momento\n"
     ]
    }
   ],
   "source": [
    "presideamesa = random.choice(deputados)\n",
    "print(f'o/a deputado/a {deputado} preside a Mesa da Câmara neste momento')"
   ]
  },
  {
   "cell_type": "code",
   "execution_count": 20,
   "metadata": {},
   "outputs": [],
   "source": [
    "others = [\"ccj\", \"ctc\", \"cma\", \"cre\", \"corregedoria\", \"cdh\"]"
   ]
  },
  {
   "cell_type": "code",
   "execution_count": 21,
   "metadata": {},
   "outputs": [
    {
     "name": "stdout",
     "output_type": "stream",
     "text": [
      "Rogerio Rosso, qual colegiado vc gostaria de presidir: ccj\n"
     ]
    }
   ],
   "source": [
    "resposta = input(f'{deputado}, qual colegiado vc gostaria de presidir: ')"
   ]
  },
  {
   "cell_type": "code",
   "execution_count": 28,
   "metadata": {},
   "outputs": [
    {
     "name": "stdout",
     "output_type": "stream",
     "text": [
      "Rogerio Rosso, essa é a comissão mais poderosa da Casa. boa escolha!\n"
     ]
    }
   ],
   "source": [
    "if resposta in others:\n",
    "    deputados.remove(presideamesa)\n",
    "    sorteado = random.choice(deputados)\n",
    "    deputados.append(presideamesa)\n",
    "    \n",
    "    if resposta == \"ccj\":\n",
    "        print(f'{deputado}, essa é a comissão mais poderosa da Casa. boa escolha!')\n",
    "    elif resposta == \"ctc\":\n",
    "        print(f'interessante, {deputado}!')\n",
    "    elif resposta == \"cdh\":\n",
    "        print(f'que legal, {deputado}!')\n",
    "    elif resposta == \"corregedoria\":\n",
    "        print(f'boa, {deputado}!')\n",
    "    else:\n",
    "        print(f'{deputado}, que colegiado é esse?')\n",
    "else:\n",
    "    print(f'{deputado}, escolha uma das opcoes possíveis, po!')"
   ]
  },
  {
   "cell_type": "code",
   "execution_count": 29,
   "metadata": {},
   "outputs": [
    {
     "name": "stdout",
     "output_type": "stream",
     "text": [
      "['Andre Moura', 'Christiane Yared', 'Jandira Fhegali', 'Jose Anibal', 'Leandre', 'Rodrigo Maia', 'Rogerio Rosso']\n"
     ]
    }
   ],
   "source": [
    "print(deputados)"
   ]
  },
  {
   "cell_type": "code",
   "execution_count": 33,
   "metadata": {
    "collapsed": true
   },
   "outputs": [],
   "source": [
    "n_parties = [\"PMDB; 15; June 30, 1981\", \"PMDB; 15; June 30, 1981\", \"PMDB; 15; June 30, 1981\", \"PT; 13; February 11, 1982\", \"PT; 13; February 11, 1982\", \"PSDB; 45; August 24, 1988\", \"PP; 11; November 16, 1995\", \"PDT; 12; November 10, 1981\", \"PDT; 12; November 10, 1981\", \"PTB; 14; November 3, 1981\", \"DEM; 25; September 11, 1986\", \"PR; 22; December 19, 2006\", \"PSB; 40; July 1, 1988\", \"PPS; 23; March 19, 1992\", \"PSC; 20; March 29, 1990\", \"PCdoB; 65; June 23, 1968\", \"PRB; 10; August 25, 2005\", \"PV; 43; September 30, 1993\", \"PSD; 55; September 27, 2011\", \"PRP; 44; October 29, 1991\", \"PSL; 17; June 2, 1998\", \"PMN; 33; October 25, 1990\", \"PHS; 31; March 20, 1997\", \"PTC; 36; February 22, 1990\", \"AVANTE; 70; October 11, 1994\"]"
   ]
  },
  {
   "cell_type": "code",
   "execution_count": 34,
   "metadata": {},
   "outputs": [
    {
     "name": "stdout",
     "output_type": "stream",
     "text": [
      "['PMDB; 15; June 30, 1981', 'PMDB; 15; June 30, 1981', 'PMDB; 15; June 30, 1981', 'PT; 13; February 11, 1982', 'PT; 13; February 11, 1982', 'PSDB; 45; August 24, 1988', 'PP; 11; November 16, 1995', 'PDT; 12; November 10, 1981', 'PDT; 12; November 10, 1981', 'PTB; 14; November 3, 1981', 'DEM; 25; September 11, 1986', 'PR; 22; December 19, 2006', 'PSB; 40; July 1, 1988', 'PPS; 23; March 19, 1992', 'PSC; 20; March 29, 1990', 'PCdoB; 65; June 23, 1968', 'PRB; 10; August 25, 2005', 'PV; 43; September 30, 1993', 'PSD; 55; September 27, 2011', 'PRP; 44; October 29, 1991', 'PSL; 17; June 2, 1998', 'PMN; 33; October 25, 1990', 'PHS; 31; March 20, 1997', 'PTC; 36; February 22, 1990', 'AVANTE; 70; October 11, 1994']\n"
     ]
    }
   ],
   "source": [
    "print(n_parties)"
   ]
  },
  {
   "cell_type": "code",
   "execution_count": 35,
   "metadata": {
    "collapsed": true
   },
   "outputs": [],
   "source": [
    "null_parties = []"
   ]
  },
  {
   "cell_type": "code",
   "execution_count": 36,
   "metadata": {},
   "outputs": [
    {
     "name": "stdout",
     "output_type": "stream",
     "text": [
      "AVANTE; 70; October 11, 1994\n",
      "DEM; 25; September 11, 1986\n",
      "PCdoB; 65; June 23, 1968\n",
      "PDT; 12; November 10, 1981\n",
      "PHS; 31; March 20, 1997\n",
      "PMDB; 15; June 30, 1981\n",
      "PMN; 33; October 25, 1990\n",
      "PP; 11; November 16, 1995\n",
      "PPS; 23; March 19, 1992\n",
      "PR; 22; December 19, 2006\n",
      "PRB; 10; August 25, 2005\n",
      "PRP; 44; October 29, 1991\n",
      "PSB; 40; July 1, 1988\n",
      "PSC; 20; March 29, 1990\n",
      "PSD; 55; September 27, 2011\n",
      "PSDB; 45; August 24, 1988\n",
      "PSL; 17; June 2, 1998\n",
      "PT; 13; February 11, 1982\n",
      "PTB; 14; November 3, 1981\n",
      "PTC; 36; February 22, 1990\n",
      "PV; 43; September 30, 1993\n"
     ]
    }
   ],
   "source": [
    "for n_party in n_parties:\n",
    "    if not n_party in null_parties:\n",
    "        null_parties.append(n_party)\n",
    "        \n",
    "null_parties.sort()\n",
    "for n_party in null_parties:\n",
    "    print(n_party)\n",
    "        "
   ]
  },
  {
   "cell_type": "code",
   "execution_count": 37,
   "metadata": {
    "collapsed": true
   },
   "outputs": [],
   "source": [
    "no_repeat = set()"
   ]
  },
  {
   "cell_type": "code",
   "execution_count": 38,
   "metadata": {},
   "outputs": [
    {
     "name": "stdout",
     "output_type": "stream",
     "text": [
      "AVANTE; 70; October 11, 1994\n",
      "DEM; 25; September 11, 1986\n",
      "PCdoB; 65; June 23, 1968\n",
      "PDT; 12; November 10, 1981\n",
      "PHS; 31; March 20, 1997\n",
      "PMDB; 15; June 30, 1981\n",
      "PMN; 33; October 25, 1990\n",
      "PP; 11; November 16, 1995\n",
      "PPS; 23; March 19, 1992\n",
      "PR; 22; December 19, 2006\n",
      "PRB; 10; August 25, 2005\n",
      "PRP; 44; October 29, 1991\n",
      "PSB; 40; July 1, 1988\n",
      "PSC; 20; March 29, 1990\n",
      "PSD; 55; September 27, 2011\n",
      "PSDB; 45; August 24, 1988\n",
      "PSL; 17; June 2, 1998\n",
      "PT; 13; February 11, 1982\n",
      "PTB; 14; November 3, 1981\n",
      "PTC; 36; February 22, 1990\n",
      "PV; 43; September 30, 1993\n"
     ]
    }
   ],
   "source": [
    "for n_party in n_parties:\n",
    "    no_repeat.add(n_party)\n",
    "for n_party in sorted(no_repeat):\n",
    "    print(n_party)"
   ]
  },
  {
   "cell_type": "code",
   "execution_count": 39,
   "metadata": {
    "collapsed": true
   },
   "outputs": [],
   "source": [
    "# ou"
   ]
  },
  {
   "cell_type": "code",
   "execution_count": 40,
   "metadata": {},
   "outputs": [
    {
     "name": "stdout",
     "output_type": "stream",
     "text": [
      "AVANTE; 70; October 11, 1994\n",
      "DEM; 25; September 11, 1986\n",
      "PCdoB; 65; June 23, 1968\n",
      "PDT; 12; November 10, 1981\n",
      "PHS; 31; March 20, 1997\n",
      "PMDB; 15; June 30, 1981\n",
      "PMN; 33; October 25, 1990\n",
      "PP; 11; November 16, 1995\n",
      "PPS; 23; March 19, 1992\n",
      "PR; 22; December 19, 2006\n",
      "PRB; 10; August 25, 2005\n",
      "PRP; 44; October 29, 1991\n",
      "PSB; 40; July 1, 1988\n",
      "PSC; 20; March 29, 1990\n",
      "PSD; 55; September 27, 2011\n",
      "PSDB; 45; August 24, 1988\n",
      "PSL; 17; June 2, 1998\n",
      "PT; 13; February 11, 1982\n",
      "PTB; 14; November 3, 1981\n",
      "PTC; 36; February 22, 1990\n",
      "PV; 43; September 30, 1993\n"
     ]
    }
   ],
   "source": [
    "no_repeat = set(n_parties)\n",
    "for n_party in sorted(no_repeat):\n",
    "    print(n_party)"
   ]
  },
  {
   "cell_type": "code",
   "execution_count": 41,
   "metadata": {
    "collapsed": true
   },
   "outputs": [],
   "source": [
    "presidente = {\"nome\": \"Michel Temer\", \"prenome\": \"Michel\", \"sobrenome\": \"Temer\", \"idade\": 77, \"nascimento\": \"23/09/1940\", \"cidade natal\": \"Tietê\", \"estado natal\": \"SP\", \"n_filhos\": 6, \"partido\": \"PMDB\", \"esposa\": \"Maecela Tedeschi\", \"formacao\": \"USP\", \"cargo_anterior\": \"vice-presida\"}"
   ]
  },
  {
   "cell_type": "code",
   "execution_count": 42,
   "metadata": {},
   "outputs": [
    {
     "data": {
      "text/plain": [
       "dict_values(['Michel Temer', 'Michel', 'Temer', 77, '23/09/1940', 'Tietê', 'SP', 6, 'PMDB', 'Maecela Tedeschi', 'USP', 'vice-presida'])"
      ]
     },
     "execution_count": 42,
     "metadata": {},
     "output_type": "execute_result"
    }
   ],
   "source": [
    "presidente.values()"
   ]
  },
  {
   "cell_type": "code",
   "execution_count": 43,
   "metadata": {},
   "outputs": [
    {
     "name": "stdout",
     "output_type": "stream",
     "text": [
      "nome -> Michel Temer\n",
      "prenome -> Michel\n",
      "sobrenome -> Temer\n",
      "idade -> 77\n",
      "nascimento -> 23/09/1940\n",
      "cidade natal -> Tietê\n",
      "estado natal -> SP\n",
      "n_filhos -> 6\n",
      "partido -> PMDB\n",
      "esposa -> Maecela Tedeschi\n",
      "formacao -> USP\n",
      "cargo_anterior -> vice-presida\n"
     ]
    }
   ],
   "source": [
    "for chave, valor in presidente.items():\n",
    "    print(f'{chave} -> {valor}')"
   ]
  },
  {
   "cell_type": "code",
   "execution_count": 45,
   "metadata": {},
   "outputs": [],
   "source": [
    "presidente[\"data_posse\"] = \"31/08/2016\""
   ]
  },
  {
   "cell_type": "code",
   "execution_count": 46,
   "metadata": {},
   "outputs": [
    {
     "data": {
      "text/plain": [
       "dict_values(['Michel Temer', 'Michel', 'Temer', 77, '23/09/1940', 'Tietê', 'SP', 6, 'PMDB', 'Maecela Tedeschi', 'USP', 'vice-presida', '31/08/2016'])"
      ]
     },
     "execution_count": 46,
     "metadata": {},
     "output_type": "execute_result"
    }
   ],
   "source": [
    "presidente.values()"
   ]
  },
  {
   "cell_type": "code",
   "execution_count": 47,
   "metadata": {
    "collapsed": true
   },
   "outputs": [],
   "source": [
    "del presidente[\"data_posse\"]"
   ]
  },
  {
   "cell_type": "code",
   "execution_count": 48,
   "metadata": {},
   "outputs": [
    {
     "data": {
      "text/plain": [
       "dict_values(['Michel Temer', 'Michel', 'Temer', 77, '23/09/1940', 'Tietê', 'SP', 6, 'PMDB', 'Maecela Tedeschi', 'USP', 'vice-presida'])"
      ]
     },
     "execution_count": 48,
     "metadata": {},
     "output_type": "execute_result"
    }
   ],
   "source": [
    "presidente.values()"
   ]
  },
  {
   "cell_type": "code",
   "execution_count": 50,
   "metadata": {
    "collapsed": true
   },
   "outputs": [],
   "source": [
    "presidente[\"esposa\"] = \"Marcela Tedeschi\""
   ]
  },
  {
   "cell_type": "code",
   "execution_count": 51,
   "metadata": {},
   "outputs": [
    {
     "name": "stdout",
     "output_type": "stream",
     "text": [
      "nome -> Michel Temer\n",
      "prenome -> Michel\n",
      "sobrenome -> Temer\n",
      "idade -> 77\n",
      "nascimento -> 23/09/1940\n",
      "cidade natal -> Tietê\n",
      "estado natal -> SP\n",
      "n_filhos -> 6\n",
      "partido -> PMDB\n",
      "esposa -> Marcela Tedeschi\n",
      "formacao -> USP\n",
      "cargo_anterior -> vice-presida\n"
     ]
    }
   ],
   "source": [
    "for chave, valor in presidente.items():\n",
    "    print(f'{chave} -> {valor}')"
   ]
  },
  {
   "cell_type": "code",
   "execution_count": 52,
   "metadata": {
    "collapsed": true
   },
   "outputs": [],
   "source": [
    "# corrigi o typo em mulher/esposa de Temer"
   ]
  },
  {
   "cell_type": "code",
   "execution_count": 53,
   "metadata": {
    "collapsed": true
   },
   "outputs": [],
   "source": [
    "# fim"
   ]
  },
  {
   "cell_type": "code",
   "execution_count": null,
   "metadata": {
    "collapsed": true
   },
   "outputs": [],
   "source": []
  }
 ],
 "metadata": {
  "kernelspec": {
   "display_name": "Python 3",
   "language": "python",
   "name": "python3"
  },
  "language_info": {
   "codemirror_mode": {
    "name": "ipython",
    "version": 3
   },
   "file_extension": ".py",
   "mimetype": "text/x-python",
   "name": "python",
   "nbconvert_exporter": "python",
   "pygments_lexer": "ipython3",
   "version": "3.6.3"
  }
 },
 "nbformat": 4,
 "nbformat_minor": 2
}
