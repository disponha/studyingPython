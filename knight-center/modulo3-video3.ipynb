{
 "cells": [
  {
   "cell_type": "code",
   "execution_count": 1,
   "metadata": {
    "collapsed": true
   },
   "outputs": [],
   "source": [
    "# módulo 3, vídeo 3"
   ]
  },
  {
   "cell_type": "code",
   "execution_count": 4,
   "metadata": {},
   "outputs": [],
   "source": [
    "def hi():\n",
    "    nome = input(\"qual é o seu nome? \")\n",
    "    print(f'hi, {nome}')"
   ]
  },
  {
   "cell_type": "code",
   "execution_count": 5,
   "metadata": {},
   "outputs": [
    {
     "name": "stdout",
     "output_type": "stream",
     "text": [
      "qual é o seu nome? gabr\n",
      "hi, gabr\n"
     ]
    }
   ],
   "source": [
    "hi()"
   ]
  },
  {
   "cell_type": "code",
   "execution_count": 6,
   "metadata": {},
   "outputs": [
    {
     "name": "stdout",
     "output_type": "stream",
     "text": [
      "37\n"
     ]
    }
   ],
   "source": [
    "print(len(\"Kraftfahrzeug-Haftpflichtversicherung\"))"
   ]
  },
  {
   "cell_type": "code",
   "execution_count": 7,
   "metadata": {
    "collapsed": true
   },
   "outputs": [],
   "source": [
    "user_name = \"Gabriela\""
   ]
  },
  {
   "cell_type": "code",
   "execution_count": 8,
   "metadata": {
    "collapsed": true
   },
   "outputs": [],
   "source": [
    "def hi(user_name):\n",
    "    print(f'hi, {user_name}')"
   ]
  },
  {
   "cell_type": "code",
   "execution_count": 10,
   "metadata": {},
   "outputs": [
    {
     "name": "stdout",
     "output_type": "stream",
     "text": [
      "hi, Gabriela\n"
     ]
    }
   ],
   "source": [
    "hi(user_name)"
   ]
  },
  {
   "cell_type": "code",
   "execution_count": 11,
   "metadata": {
    "collapsed": true
   },
   "outputs": [],
   "source": [
    "def hi(name=\"\"):\n",
    "    if name == \"\":\n",
    "        name = input(\"qual é o seu nome?\")\n",
    "    print(f'hi, {name}')"
   ]
  },
  {
   "cell_type": "code",
   "execution_count": 12,
   "metadata": {},
   "outputs": [
    {
     "name": "stdout",
     "output_type": "stream",
     "text": [
      "qual é o seu nome?gabriela caesar\n",
      "hi, gabriela caesar\n"
     ]
    }
   ],
   "source": [
    "hi()"
   ]
  },
  {
   "cell_type": "code",
   "execution_count": 13,
   "metadata": {},
   "outputs": [
    {
     "name": "stdout",
     "output_type": "stream",
     "text": [
      "Gabriela\n"
     ]
    }
   ],
   "source": [
    "nome = \"gabriela caesar\"\n",
    "def prenome(nomecompleto):\n",
    "    nomecompleto = nomecompleto.strip().title()\n",
    "    prenome = nomecompleto.split(\" \")[0]\n",
    "    return prenome\n",
    "print(prenome(nome))"
   ]
  },
  {
   "cell_type": "code",
   "execution_count": 14,
   "metadata": {
    "collapsed": true
   },
   "outputs": [],
   "source": [
    "def prenome(nomecompleto):\n",
    "    nomecompleto = nomecompleto.strip().title()\n",
    "    prenome = nomecompleto.split(\" \")[0]\n",
    "    return prenome"
   ]
  },
  {
   "cell_type": "code",
   "execution_count": 15,
   "metadata": {},
   "outputs": [
    {
     "name": "stdout",
     "output_type": "stream",
     "text": [
      "digite seu nome completo: Michel Miguel Elias Temer Lulia\n"
     ]
    }
   ],
   "source": [
    "nome = input(\"digite seu nome completo: \")"
   ]
  },
  {
   "cell_type": "code",
   "execution_count": 16,
   "metadata": {},
   "outputs": [
    {
     "name": "stdout",
     "output_type": "stream",
     "text": [
      "idk\n"
     ]
    }
   ],
   "source": [
    "if prenome(nome).endswith(\"o\"):\n",
    "    print(\"homem\")\n",
    "elif prenome(nome).endswith(\"a\"):\n",
    "    print(\"mulher\")\n",
    "else:\n",
    "    print(\"idk\")"
   ]
  },
  {
   "cell_type": "code",
   "execution_count": 19,
   "metadata": {
    "collapsed": true
   },
   "outputs": [],
   "source": [
    "def genero(nomecompleto):\n",
    "    if prenome(nomecompleto).endswith(\"o\"):\n",
    "        return(\"homem\")\n",
    "    elif prenome(nomecompleto).endswith(\"a\"):\n",
    "        return(\"mulher\")\n",
    "    else:\n",
    "        return(\"idk\")"
   ]
  },
  {
   "cell_type": "code",
   "execution_count": 20,
   "metadata": {},
   "outputs": [
    {
     "name": "stdout",
     "output_type": "stream",
     "text": [
      "idk\n",
      "mulher\n"
     ]
    }
   ],
   "source": [
    "print(genero(\"Michel Miguel Elias Temer Lulia\"))\n",
    "print(genero(\"Gabriela Caesar\"))"
   ]
  },
  {
   "cell_type": "code",
   "execution_count": 21,
   "metadata": {
    "collapsed": true
   },
   "outputs": [],
   "source": [
    "deputados = [\"Jose Anibal\", \"Rogerio Rosso\", \"Jandira Fhegali\", \"Andre Moura\", \"Rodrigo Maia\", \"Leandre\", \"Christiane Yared\"]"
   ]
  },
  {
   "cell_type": "code",
   "execution_count": 22,
   "metadata": {},
   "outputs": [
    {
     "name": "stdout",
     "output_type": "stream",
     "text": [
      "Jose Anibal: idk\n",
      "Rogerio Rosso: homem\n",
      "Jandira Fhegali: mulher\n",
      "Andre Moura: idk\n",
      "Rodrigo Maia: homem\n",
      "Leandre: idk\n",
      "Christiane Yared: idk\n"
     ]
    }
   ],
   "source": [
    "for deputado in deputados:\n",
    "    print(f'{deputado}: {genero(deputado)}')"
   ]
  },
  {
   "cell_type": "code",
   "execution_count": 23,
   "metadata": {
    "collapsed": true
   },
   "outputs": [],
   "source": [
    "# fim"
   ]
  },
  {
   "cell_type": "code",
   "execution_count": null,
   "metadata": {
    "collapsed": true
   },
   "outputs": [],
   "source": []
  }
 ],
 "metadata": {
  "kernelspec": {
   "display_name": "Python 3",
   "language": "python",
   "name": "python3"
  },
  "language_info": {
   "codemirror_mode": {
    "name": "ipython",
    "version": 3
   },
   "file_extension": ".py",
   "mimetype": "text/x-python",
   "name": "python",
   "nbconvert_exporter": "python",
   "pygments_lexer": "ipython3",
   "version": "3.6.3"
  }
 },
 "nbformat": 4,
 "nbformat_minor": 2
}
