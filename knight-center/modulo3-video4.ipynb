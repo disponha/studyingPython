{
 "cells": [
  {
   "cell_type": "code",
   "execution_count": 3,
   "metadata": {},
   "outputs": [],
   "source": [
    "# módulo 3, vídeo 4"
   ]
  },
  {
   "cell_type": "code",
   "execution_count": 4,
   "metadata": {
    "collapsed": true
   },
   "outputs": [],
   "source": [
    "import tweepy"
   ]
  },
  {
   "cell_type": "code",
   "execution_count": 39,
   "metadata": {
    "collapsed": true
   },
   "outputs": [],
   "source": [
    "consumer_key = ''\n",
    "consumer_secret = ''\n",
    "access_token = ''\n",
    "access_token_secret = ''\n",
    "auth = tweepy.OAuthHandler(consumer_key, consumer_secret)\n",
    "auth.set_access_token(access_token, access_token_secret)\n",
    "api = tweepy.API(auth)"
   ]
  },
  {
   "cell_type": "code",
   "execution_count": 6,
   "metadata": {
    "collapsed": true
   },
   "outputs": [],
   "source": [
    "gabr = api.get_user('gabrielacaesar')._json"
   ]
  },
  {
   "cell_type": "code",
   "execution_count": 7,
   "metadata": {},
   "outputs": [
    {
     "data": {
      "text/plain": [
       "{'contributors_enabled': False,\n",
       " 'created_at': 'Sat Jun 07 02:22:48 +0000 2014',\n",
       " 'default_profile': False,\n",
       " 'default_profile_image': False,\n",
       " 'description': 'cidadã, repórter e dev; apaixonada por sotaques; RT não é endosso',\n",
       " 'entities': {'description': {'urls': []}},\n",
       " 'favourites_count': 841,\n",
       " 'follow_request_sent': False,\n",
       " 'followers_count': 573,\n",
       " 'following': False,\n",
       " 'friends_count': 1861,\n",
       " 'geo_enabled': False,\n",
       " 'has_extended_profile': False,\n",
       " 'id': 2551415983,\n",
       " 'id_str': '2551415983',\n",
       " 'is_translation_enabled': False,\n",
       " 'is_translator': False,\n",
       " 'lang': 'en',\n",
       " 'listed_count': 14,\n",
       " 'location': '',\n",
       " 'name': 'gabriela caesar',\n",
       " 'needs_phone_verification': False,\n",
       " 'notifications': False,\n",
       " 'profile_background_color': 'C0DEED',\n",
       " 'profile_background_image_url': 'http://abs.twimg.com/images/themes/theme1/bg.png',\n",
       " 'profile_background_image_url_https': 'https://abs.twimg.com/images/themes/theme1/bg.png',\n",
       " 'profile_background_tile': False,\n",
       " 'profile_banner_url': 'https://pbs.twimg.com/profile_banners/2551415983/1480219543',\n",
       " 'profile_image_url': 'http://pbs.twimg.com/profile_images/913834749877264384/F2kMD-U0_normal.jpg',\n",
       " 'profile_image_url_https': 'https://pbs.twimg.com/profile_images/913834749877264384/F2kMD-U0_normal.jpg',\n",
       " 'profile_link_color': '19CF86',\n",
       " 'profile_location': None,\n",
       " 'profile_sidebar_border_color': 'C0DEED',\n",
       " 'profile_sidebar_fill_color': 'DDEEF6',\n",
       " 'profile_text_color': '333333',\n",
       " 'profile_use_background_image': True,\n",
       " 'protected': False,\n",
       " 'screen_name': 'gabrielacaesar',\n",
       " 'status': {'contributors': None,\n",
       "  'coordinates': None,\n",
       "  'created_at': 'Fri Dec 08 23:53:30 +0000 2017',\n",
       "  'entities': {'hashtags': [],\n",
       "   'media': [{'display_url': 'pic.twitter.com/ru35jGsy5Z',\n",
       "     'expanded_url': 'https://twitter.com/gabrielacaesar/status/939281815512240128/photo/1',\n",
       "     'id': 939281804556750850,\n",
       "     'id_str': '939281804556750850',\n",
       "     'indices': [29, 52],\n",
       "     'media_url': 'http://pbs.twimg.com/media/DQj_0yCX0AIUOuk.jpg',\n",
       "     'media_url_https': 'https://pbs.twimg.com/media/DQj_0yCX0AIUOuk.jpg',\n",
       "     'sizes': {'large': {'h': 1334, 'resize': 'fit', 'w': 750},\n",
       "      'medium': {'h': 1200, 'resize': 'fit', 'w': 675},\n",
       "      'small': {'h': 680, 'resize': 'fit', 'w': 382},\n",
       "      'thumb': {'h': 150, 'resize': 'crop', 'w': 150}},\n",
       "     'type': 'photo',\n",
       "     'url': 'https://t.co/ru35jGsy5Z'}],\n",
       "   'symbols': [],\n",
       "   'urls': [],\n",
       "   'user_mentions': []},\n",
       "  'extended_entities': {'media': [{'display_url': 'pic.twitter.com/ru35jGsy5Z',\n",
       "     'expanded_url': 'https://twitter.com/gabrielacaesar/status/939281815512240128/photo/1',\n",
       "     'id': 939281804556750850,\n",
       "     'id_str': '939281804556750850',\n",
       "     'indices': [29, 52],\n",
       "     'media_url': 'http://pbs.twimg.com/media/DQj_0yCX0AIUOuk.jpg',\n",
       "     'media_url_https': 'https://pbs.twimg.com/media/DQj_0yCX0AIUOuk.jpg',\n",
       "     'sizes': {'large': {'h': 1334, 'resize': 'fit', 'w': 750},\n",
       "      'medium': {'h': 1200, 'resize': 'fit', 'w': 675},\n",
       "      'small': {'h': 680, 'resize': 'fit', 'w': 382},\n",
       "      'thumb': {'h': 150, 'resize': 'crop', 'w': 150}},\n",
       "     'type': 'photo',\n",
       "     'url': 'https://t.co/ru35jGsy5Z'}]},\n",
       "  'favorite_count': 2,\n",
       "  'favorited': False,\n",
       "  'geo': None,\n",
       "  'id': 939281815512240128,\n",
       "  'id_str': '939281815512240128',\n",
       "  'in_reply_to_screen_name': None,\n",
       "  'in_reply_to_status_id': None,\n",
       "  'in_reply_to_status_id_str': None,\n",
       "  'in_reply_to_user_id': None,\n",
       "  'in_reply_to_user_id_str': None,\n",
       "  'is_quote_status': False,\n",
       "  'lang': 'ht',\n",
       "  'place': None,\n",
       "  'possibly_sensitive': False,\n",
       "  'retweet_count': 0,\n",
       "  'retweeted': False,\n",
       "  'source': '<a href=\"http://twitter.com/download/iphone\" rel=\"nofollow\">Twitter for iPhone</a>',\n",
       "  'text': 'Meu top5 do Spotify em 2017: https://t.co/ru35jGsy5Z',\n",
       "  'truncated': False},\n",
       " 'statuses_count': 2517,\n",
       " 'suspended': False,\n",
       " 'time_zone': 'Brasilia',\n",
       " 'translator_type': 'none',\n",
       " 'url': None,\n",
       " 'utc_offset': -7200,\n",
       " 'verified': False}"
      ]
     },
     "execution_count": 7,
     "metadata": {},
     "output_type": "execute_result"
    }
   ],
   "source": [
    "gabr"
   ]
  },
  {
   "cell_type": "code",
   "execution_count": 8,
   "metadata": {},
   "outputs": [
    {
     "data": {
      "text/plain": [
       "841"
      ]
     },
     "execution_count": 8,
     "metadata": {},
     "output_type": "execute_result"
    }
   ],
   "source": [
    "gabr['favourites_count']"
   ]
  },
  {
   "cell_type": "code",
   "execution_count": 24,
   "metadata": {
    "collapsed": true
   },
   "outputs": [],
   "source": [
    "senadores_old = [\"\"\"acirgurgacz\n",
    "aecioneves\n",
    "AirtonSandoval\n",
    "aloysio_nunes\n",
    "alvarodias_\n",
    "anaamelialemos\n",
    "angelaportelarr\n",
    "anastasia\n",
    "valadarespsb\n",
    "armandoptb\n",
    "senador_ataides\n",
    "biudelira\n",
    "cassiocl\n",
    "cidinho_santos\n",
    "ciro_nogueira\n",
    "sen_cristovam\n",
    "daliriobeber\n",
    "darioberger\n",
    "davialcolumbre\n",
    "senadordeca\n",
    "senadorlobao\n",
    "eduardoamorimse\n",
    "eduardobraga_am\n",
    "eduardolopesprb\n",
    "elmanoferrer\n",
    "eunicio\n",
    "fatimabezerra\n",
    "fbezerracoelho\n",
    "collor\n",
    "senadorflexa\n",
    "garibaldifilho\n",
    "gladsoncameli\n",
    "gleisi\n",
    "senador_helio\n",
    "humbertocostapt\n",
    "ivocassol\n",
    "jader_barbalho\n",
    "senjoaoalberto\n",
    "joaocapi\n",
    "jorgeviana\n",
    "joseagripino\n",
    "jose_anibal\n",
    "josemaranhaopb\n",
    "josemedeirosmt\n",
    "josepimentel\n",
    "joseserra_\n",
    "KatiaAbreu\n",
    "lasiermartins\n",
    "lidicedamata\n",
    "LindbergFarias\n",
    "Lucia_Vania\n",
    "MagnoMaltaOfc\n",
    "MCrivella\n",
    "mariasenadora\n",
    "SenadoraMarta\n",
    "OmarAzizPSD\n",
    "ottoalencar\n",
    "paulobauer45\n",
    "paulopaim\n",
    "Sen_PauloRocha\n",
    "senpedrochaves\n",
    "pintoitamaraty\n",
    "RaimundoLiraPB\n",
    "randolfeap\n",
    "SenadoraRegina\n",
    "Reguffe\n",
    "renancalheiros\n",
    "RicardoFerraco\n",
    "requiaopmdb\n",
    "robertorocha400\n",
    "RomarioOnze\n",
    "romerojuca\n",
    "ronaldocaiado\n",
    "senadorarose\n",
    "senadorpetecao\n",
    "SimoneTebetms\n",
    "tassocomvoce\n",
    "TelmarioMotaRR\n",
    "SENADORRAUPP\n",
    "vanessasenadora\n",
    "SenVicentinho\n",
    "senadormoka\n",
    "sen_wellington\n",
    "wildermorais\n",
    "zezeperrella\n",
    "\"\"\"\n",
    "]"
   ]
  },
  {
   "cell_type": "code",
   "execution_count": 10,
   "metadata": {
    "collapsed": true
   },
   "outputs": [],
   "source": [
    "def followers(user):\n",
    "    consulta_api = api.get_user(user)._json\n",
    "    followers = consulta_api['followers_count']\n",
    "    return followers"
   ]
  },
  {
   "cell_type": "code",
   "execution_count": 11,
   "metadata": {},
   "outputs": [
    {
     "data": {
      "text/plain": [
       "573"
      ]
     },
     "execution_count": 11,
     "metadata": {},
     "output_type": "execute_result"
    }
   ],
   "source": [
    "followers(\"gabrielacaesar\")"
   ]
  },
  {
   "cell_type": "code",
   "execution_count": 25,
   "metadata": {},
   "outputs": [
    {
     "name": "stdout",
     "output_type": "stream",
     "text": [
      "acirgurgacz\n",
      "aecioneves\n",
      "AirtonSandoval\n",
      "aloysio_nunes\n",
      "alvarodias_\n",
      "anaamelialemos\n",
      "angelaportelarr\n",
      "anastasia\n",
      "valadarespsb\n",
      "armandoptb\n",
      "senador_ataides\n",
      "biudelira\n",
      "cassiocl\n",
      "cidinho_santos\n",
      "ciro_nogueira\n",
      "sen_cristovam\n",
      "daliriobeber\n",
      "darioberger\n",
      "davialcolumbre\n",
      "senadordeca\n",
      "senadorlobao\n",
      "eduardoamorimse\n",
      "eduardobraga_am\n",
      "eduardolopesprb\n",
      "elmanoferrer\n",
      "eunicio\n",
      "fatimabezerra\n",
      "fbezerracoelho\n",
      "collor\n",
      "senadorflexa\n",
      "garibaldifilho\n",
      "gladsoncameli\n",
      "gleisi\n",
      "senador_helio\n",
      "humbertocostapt\n",
      "ivocassol\n",
      "jader_barbalho\n",
      "senjoaoalberto\n",
      "joaocapi\n",
      "jorgeviana\n",
      "joseagripino\n",
      "jose_anibal\n",
      "josemaranhaopb\n",
      "josemedeirosmt\n",
      "josepimentel\n",
      "joseserra_\n",
      "KatiaAbreu\n",
      "lasiermartins\n",
      "lidicedamata\n",
      "LindbergFarias\n",
      "Lucia_Vania\n",
      "MagnoMaltaOfc\n",
      "MCrivella\n",
      "mariasenadora\n",
      "SenadoraMarta\n",
      "OmarAzizPSD\n",
      "ottoalencar\n",
      "paulobauer45\n",
      "paulopaim\n",
      "Sen_PauloRocha\n",
      "senpedrochaves\n",
      "pintoitamaraty\n",
      "RaimundoLiraPB\n",
      "randolfeap\n",
      "SenadoraRegina\n",
      "Reguffe\n",
      "renancalheiros\n",
      "RicardoFerraco\n",
      "requiaopmdb\n",
      "robertorocha400\n",
      "RomarioOnze\n",
      "romerojuca\n",
      "ronaldocaiado\n",
      "senadorarose\n",
      "senadorpetecao\n",
      "SimoneTebetms\n",
      "tassocomvoce\n",
      "TelmarioMotaRR\n",
      "SENADORRAUPP\n",
      "vanessasenadora\n",
      "SenVicentinho\n",
      "senadormoka\n",
      "sen_wellington\n",
      "wildermorais\n",
      "zezeperrella\n",
      "\n"
     ]
    }
   ],
   "source": [
    "for senador_old in senadores_old:\n",
    "    print(senador_old)"
   ]
  },
  {
   "cell_type": "code",
   "execution_count": 26,
   "metadata": {},
   "outputs": [
    {
     "ename": "TweepError",
     "evalue": "[{'code': 50, 'message': 'User not found.'}]",
     "output_type": "error",
     "traceback": [
      "\u001b[0;31m---------------------------------------------------------------------------\u001b[0m",
      "\u001b[0;31mTweepError\u001b[0m                                Traceback (most recent call last)",
      "\u001b[0;32m<ipython-input-26-bc9b3cb506c2>\u001b[0m in \u001b[0;36m<module>\u001b[0;34m()\u001b[0m\n\u001b[1;32m      1\u001b[0m \u001b[0;32mfor\u001b[0m \u001b[0msenador_old\u001b[0m \u001b[0;32min\u001b[0m \u001b[0msenadores_old\u001b[0m\u001b[0;34m:\u001b[0m\u001b[0;34m\u001b[0m\u001b[0m\n\u001b[0;32m----> 2\u001b[0;31m     \u001b[0mnumero\u001b[0m \u001b[0;34m=\u001b[0m \u001b[0mfollowers\u001b[0m\u001b[0;34m(\u001b[0m\u001b[0msenador_old\u001b[0m\u001b[0;34m)\u001b[0m\u001b[0;34m\u001b[0m\u001b[0m\n\u001b[0m\u001b[1;32m      3\u001b[0m     \u001b[0mfrase\u001b[0m \u001b[0;34m=\u001b[0m \u001b[0;34mf'o usuario {senador} tem {numero} seguidores no Twitter'\u001b[0m\u001b[0;34m\u001b[0m\u001b[0m\n\u001b[1;32m      4\u001b[0m     \u001b[0mprint\u001b[0m\u001b[0;34m(\u001b[0m\u001b[0mfrase\u001b[0m\u001b[0;34m)\u001b[0m\u001b[0;34m\u001b[0m\u001b[0m\n",
      "\u001b[0;32m<ipython-input-10-6311a9734743>\u001b[0m in \u001b[0;36mfollowers\u001b[0;34m(user)\u001b[0m\n\u001b[1;32m      1\u001b[0m \u001b[0;32mdef\u001b[0m \u001b[0mfollowers\u001b[0m\u001b[0;34m(\u001b[0m\u001b[0muser\u001b[0m\u001b[0;34m)\u001b[0m\u001b[0;34m:\u001b[0m\u001b[0;34m\u001b[0m\u001b[0m\n\u001b[0;32m----> 2\u001b[0;31m     \u001b[0mconsulta_api\u001b[0m \u001b[0;34m=\u001b[0m \u001b[0mapi\u001b[0m\u001b[0;34m.\u001b[0m\u001b[0mget_user\u001b[0m\u001b[0;34m(\u001b[0m\u001b[0muser\u001b[0m\u001b[0;34m)\u001b[0m\u001b[0;34m.\u001b[0m\u001b[0m_json\u001b[0m\u001b[0;34m\u001b[0m\u001b[0m\n\u001b[0m\u001b[1;32m      3\u001b[0m     \u001b[0mfollowers\u001b[0m \u001b[0;34m=\u001b[0m \u001b[0mconsulta_api\u001b[0m\u001b[0;34m[\u001b[0m\u001b[0;34m'followers_count'\u001b[0m\u001b[0;34m]\u001b[0m\u001b[0;34m\u001b[0m\u001b[0m\n\u001b[1;32m      4\u001b[0m     \u001b[0;32mreturn\u001b[0m \u001b[0mfollowers\u001b[0m\u001b[0;34m\u001b[0m\u001b[0m\n",
      "\u001b[0;32m/anaconda3/lib/python3.6/site-packages/tweepy/binder.py\u001b[0m in \u001b[0;36m_call\u001b[0;34m(*args, **kwargs)\u001b[0m\n\u001b[1;32m    243\u001b[0m             \u001b[0;32mreturn\u001b[0m \u001b[0mmethod\u001b[0m\u001b[0;34m\u001b[0m\u001b[0m\n\u001b[1;32m    244\u001b[0m         \u001b[0;32melse\u001b[0m\u001b[0;34m:\u001b[0m\u001b[0;34m\u001b[0m\u001b[0m\n\u001b[0;32m--> 245\u001b[0;31m             \u001b[0;32mreturn\u001b[0m \u001b[0mmethod\u001b[0m\u001b[0;34m.\u001b[0m\u001b[0mexecute\u001b[0m\u001b[0;34m(\u001b[0m\u001b[0;34m)\u001b[0m\u001b[0;34m\u001b[0m\u001b[0m\n\u001b[0m\u001b[1;32m    246\u001b[0m \u001b[0;34m\u001b[0m\u001b[0m\n\u001b[1;32m    247\u001b[0m     \u001b[0;31m# Set pagination mode\u001b[0m\u001b[0;34m\u001b[0m\u001b[0;34m\u001b[0m\u001b[0m\n",
      "\u001b[0;32m/anaconda3/lib/python3.6/site-packages/tweepy/binder.py\u001b[0m in \u001b[0;36mexecute\u001b[0;34m(self)\u001b[0m\n\u001b[1;32m    227\u001b[0m                     \u001b[0;32mraise\u001b[0m \u001b[0mRateLimitError\u001b[0m\u001b[0;34m(\u001b[0m\u001b[0merror_msg\u001b[0m\u001b[0;34m,\u001b[0m \u001b[0mresp\u001b[0m\u001b[0;34m)\u001b[0m\u001b[0;34m\u001b[0m\u001b[0m\n\u001b[1;32m    228\u001b[0m                 \u001b[0;32melse\u001b[0m\u001b[0;34m:\u001b[0m\u001b[0;34m\u001b[0m\u001b[0m\n\u001b[0;32m--> 229\u001b[0;31m                     \u001b[0;32mraise\u001b[0m \u001b[0mTweepError\u001b[0m\u001b[0;34m(\u001b[0m\u001b[0merror_msg\u001b[0m\u001b[0;34m,\u001b[0m \u001b[0mresp\u001b[0m\u001b[0;34m,\u001b[0m \u001b[0mapi_code\u001b[0m\u001b[0;34m=\u001b[0m\u001b[0mapi_error_code\u001b[0m\u001b[0;34m)\u001b[0m\u001b[0;34m\u001b[0m\u001b[0m\n\u001b[0m\u001b[1;32m    230\u001b[0m \u001b[0;34m\u001b[0m\u001b[0m\n\u001b[1;32m    231\u001b[0m             \u001b[0;31m# Parse the response payload\u001b[0m\u001b[0;34m\u001b[0m\u001b[0;34m\u001b[0m\u001b[0m\n",
      "\u001b[0;31mTweepError\u001b[0m: [{'code': 50, 'message': 'User not found.'}]"
     ]
    }
   ],
   "source": [
    "for senador_old in senadores_old:\n",
    "    numero = followers(senador_old)\n",
    "    frase = f'o usuario {senador} tem {numero} seguidores no Twitter'\n",
    "    print(frase)"
   ]
  },
  {
   "cell_type": "code",
   "execution_count": 27,
   "metadata": {
    "collapsed": true
   },
   "outputs": [],
   "source": [
    "senadores = [\"acirgurgacz\", \"aecioneves\", \"AirtonSandoval\", \"aloysio_nunes\", \"alvarodias_\", \"anaamelialemos\", \"angelaportelarr\", \"anastasia\", \"valadarespsb\", \"armandoptb\", \"senador_ataides\", \"biudelira\", \"cassiocl\", \"cidinho_santos\", \"ciro_nogueira\", \"sen_cristovam\", \"daliriobeber\", \"darioberger\", \"davialcolumbre\", \"senadordeca\", \"senadorlobao\", \"eduardoamorimse\", \"eduardobraga_am\", \"eduardolopesprb\", \"elmanoferrer\", \"eunicio\", \"fatimabezerra\", \"fbezerracoelho\", \"collor\", \"senadorflexa\", \"garibaldifilho\", \"gladsoncameli\", \"gleisi\", \"senador_helio\", \"humbertocostapt\", \"ivocassol\", \"jader_barbalho\", \"senjoaoalberto\", \"joaocapi\", \"jorgeviana\"]"
   ]
  },
  {
   "cell_type": "code",
   "execution_count": 28,
   "metadata": {},
   "outputs": [
    {
     "name": "stdout",
     "output_type": "stream",
     "text": [
      "o usuario acirgurgacz tem 5864 seguidores no Twitter\n",
      "o usuario aecioneves tem 725725 seguidores no Twitter\n",
      "o usuario AirtonSandoval tem 314 seguidores no Twitter\n",
      "o usuario aloysio_nunes tem 110851 seguidores no Twitter\n",
      "o usuario alvarodias_ tem 379299 seguidores no Twitter\n",
      "o usuario anaamelialemos tem 123270 seguidores no Twitter\n",
      "o usuario angelaportelarr tem 8116 seguidores no Twitter\n",
      "o usuario anastasia tem 46182 seguidores no Twitter\n",
      "o usuario valadarespsb tem 14884 seguidores no Twitter\n",
      "o usuario armandoptb tem 12504 seguidores no Twitter\n",
      "o usuario senador_ataides tem 37427 seguidores no Twitter\n",
      "o usuario biudelira tem 4234 seguidores no Twitter\n",
      "o usuario cassiocl tem 184815 seguidores no Twitter\n",
      "o usuario cidinho_santos tem 740 seguidores no Twitter\n",
      "o usuario ciro_nogueira tem 14146 seguidores no Twitter\n",
      "o usuario sen_cristovam tem 740585 seguidores no Twitter\n",
      "o usuario daliriobeber tem 913 seguidores no Twitter\n",
      "o usuario darioberger tem 2253 seguidores no Twitter\n",
      "o usuario davialcolumbre tem 32984 seguidores no Twitter\n",
      "o usuario senadordeca tem 150 seguidores no Twitter\n",
      "o usuario senadorlobao tem 843 seguidores no Twitter\n",
      "o usuario eduardoamorimse tem 17996 seguidores no Twitter\n",
      "o usuario eduardobraga_am tem 82602 seguidores no Twitter\n",
      "o usuario eduardolopesprb tem 2925 seguidores no Twitter\n",
      "o usuario elmanoferrer tem 2489 seguidores no Twitter\n",
      "o usuario eunicio tem 46222 seguidores no Twitter\n",
      "o usuario fatimabezerra tem 88993 seguidores no Twitter\n",
      "o usuario fbezerracoelho tem 21213 seguidores no Twitter\n",
      "o usuario collor tem 27480 seguidores no Twitter\n",
      "o usuario senadorflexa tem 17300 seguidores no Twitter\n",
      "o usuario garibaldifilho tem 92123 seguidores no Twitter\n",
      "o usuario gladsoncameli tem 8223 seguidores no Twitter\n",
      "o usuario gleisi tem 277022 seguidores no Twitter\n",
      "o usuario senador_helio tem 22107 seguidores no Twitter\n",
      "o usuario humbertocostapt tem 57503 seguidores no Twitter\n",
      "o usuario ivocassol tem 1090 seguidores no Twitter\n",
      "o usuario jader_barbalho tem 10767 seguidores no Twitter\n",
      "o usuario senjoaoalberto tem 192 seguidores no Twitter\n",
      "o usuario joaocapi tem 36171 seguidores no Twitter\n",
      "o usuario jorgeviana tem 59419 seguidores no Twitter\n"
     ]
    }
   ],
   "source": [
    "for senador in senadores:\n",
    "    numero = followers(senador)\n",
    "    frase = f'o usuario {senador} tem {numero} seguidores no Twitter'\n",
    "    print(frase)"
   ]
  },
  {
   "cell_type": "code",
   "execution_count": 29,
   "metadata": {
    "collapsed": true
   },
   "outputs": [],
   "source": [
    "def following(user):\n",
    "    consulta_api = api.get_user(user)._json\n",
    "    following = consulta_api['friends_count']\n",
    "    return following"
   ]
  },
  {
   "cell_type": "code",
   "execution_count": 30,
   "metadata": {},
   "outputs": [
    {
     "name": "stdout",
     "output_type": "stream",
     "text": [
      "o senador acirgurgacz segue 2576 usuarios no Twitter\n",
      "o senador aecioneves segue 54 usuarios no Twitter\n",
      "o senador AirtonSandoval segue 50 usuarios no Twitter\n",
      "o senador aloysio_nunes segue 533 usuarios no Twitter\n",
      "o senador alvarodias_ segue 5822 usuarios no Twitter\n",
      "o senador anaamelialemos segue 2439 usuarios no Twitter\n",
      "o senador angelaportelarr segue 315 usuarios no Twitter\n",
      "o senador anastasia segue 102 usuarios no Twitter\n",
      "o senador valadarespsb segue 2250 usuarios no Twitter\n",
      "o senador armandoptb segue 250 usuarios no Twitter\n",
      "o senador senador_ataides segue 6291 usuarios no Twitter\n",
      "o senador biudelira segue 1974 usuarios no Twitter\n",
      "o senador cassiocl segue 75565 usuarios no Twitter\n",
      "o senador cidinho_santos segue 246 usuarios no Twitter\n",
      "o senador ciro_nogueira segue 338 usuarios no Twitter\n",
      "o senador sen_cristovam segue 437 usuarios no Twitter\n",
      "o senador daliriobeber segue 30 usuarios no Twitter\n",
      "o senador darioberger segue 247 usuarios no Twitter\n",
      "o senador davialcolumbre segue 706 usuarios no Twitter\n",
      "o senador senadordeca segue 94 usuarios no Twitter\n",
      "o senador senadorlobao segue 49 usuarios no Twitter\n",
      "o senador eduardoamorimse segue 626 usuarios no Twitter\n",
      "o senador eduardobraga_am segue 10108 usuarios no Twitter\n",
      "o senador eduardolopesprb segue 234 usuarios no Twitter\n",
      "o senador elmanoferrer segue 48 usuarios no Twitter\n",
      "o senador eunicio segue 8771 usuarios no Twitter\n",
      "o senador fatimabezerra segue 1188 usuarios no Twitter\n",
      "o senador fbezerracoelho segue 13943 usuarios no Twitter\n",
      "o senador collor segue 234 usuarios no Twitter\n",
      "o senador senadorflexa segue 5175 usuarios no Twitter\n",
      "o senador garibaldifilho segue 1093 usuarios no Twitter\n",
      "o senador gladsoncameli segue 3436 usuarios no Twitter\n",
      "o senador gleisi segue 728 usuarios no Twitter\n",
      "o senador senador_helio segue 933 usuarios no Twitter\n",
      "o senador humbertocostapt segue 2481 usuarios no Twitter\n",
      "o senador ivocassol segue 1434 usuarios no Twitter\n",
      "o senador jader_barbalho segue 530 usuarios no Twitter\n",
      "o senador senjoaoalberto segue 0 usuarios no Twitter\n",
      "o senador joaocapi segue 1577 usuarios no Twitter\n",
      "o senador jorgeviana segue 973 usuarios no Twitter\n"
     ]
    }
   ],
   "source": [
    "for senador in senadores:\n",
    "    numero = following(senador)\n",
    "    frase = f'o senador {senador} segue {numero} usuarios no Twitter'\n",
    "    print(frase)"
   ]
  },
  {
   "cell_type": "code",
   "execution_count": 31,
   "metadata": {
    "collapsed": true
   },
   "outputs": [],
   "source": [
    "def likes(user):\n",
    "    consulta_api = api.get_user(user)._json\n",
    "    likes = consulta_api['favourites_count']\n",
    "    return likes"
   ]
  },
  {
   "cell_type": "code",
   "execution_count": 32,
   "metadata": {},
   "outputs": [
    {
     "name": "stdout",
     "output_type": "stream",
     "text": [
      "o senador acirgurgacz deu 66 likes no Twitter\n",
      "o senador aecioneves deu 61 likes no Twitter\n",
      "o senador AirtonSandoval deu 0 likes no Twitter\n",
      "o senador aloysio_nunes deu 148 likes no Twitter\n",
      "o senador alvarodias_ deu 7982 likes no Twitter\n",
      "o senador anaamelialemos deu 543 likes no Twitter\n",
      "o senador angelaportelarr deu 336 likes no Twitter\n",
      "o senador anastasia deu 1595 likes no Twitter\n",
      "o senador valadarespsb deu 119 likes no Twitter\n",
      "o senador armandoptb deu 712 likes no Twitter\n",
      "o senador senador_ataides deu 1267 likes no Twitter\n",
      "o senador biudelira deu 21 likes no Twitter\n",
      "o senador cassiocl deu 14 likes no Twitter\n",
      "o senador cidinho_santos deu 140 likes no Twitter\n",
      "o senador ciro_nogueira deu 13 likes no Twitter\n",
      "o senador sen_cristovam deu 165 likes no Twitter\n",
      "o senador daliriobeber deu 0 likes no Twitter\n",
      "o senador darioberger deu 36 likes no Twitter\n",
      "o senador davialcolumbre deu 1033 likes no Twitter\n",
      "o senador senadordeca deu 2 likes no Twitter\n",
      "o senador senadorlobao deu 3 likes no Twitter\n",
      "o senador eduardoamorimse deu 1134 likes no Twitter\n",
      "o senador eduardobraga_am deu 1824 likes no Twitter\n",
      "o senador eduardolopesprb deu 36 likes no Twitter\n",
      "o senador elmanoferrer deu 17 likes no Twitter\n",
      "o senador eunicio deu 1225 likes no Twitter\n",
      "o senador fatimabezerra deu 2197 likes no Twitter\n",
      "o senador fbezerracoelho deu 157 likes no Twitter\n",
      "o senador collor deu 0 likes no Twitter\n",
      "o senador senadorflexa deu 5 likes no Twitter\n",
      "o senador garibaldifilho deu 234 likes no Twitter\n",
      "o senador gladsoncameli deu 314 likes no Twitter\n",
      "o senador gleisi deu 185 likes no Twitter\n",
      "o senador senador_helio deu 70 likes no Twitter\n",
      "o senador humbertocostapt deu 7959 likes no Twitter\n",
      "o senador ivocassol deu 3382 likes no Twitter\n",
      "o senador jader_barbalho deu 2 likes no Twitter\n",
      "o senador senjoaoalberto deu 0 likes no Twitter\n",
      "o senador joaocapi deu 162 likes no Twitter\n",
      "o senador jorgeviana deu 2188 likes no Twitter\n"
     ]
    }
   ],
   "source": [
    "for senador in senadores:\n",
    "    numero = likes(senador)\n",
    "    frase = f'o senador {senador} deu {numero} likes no Twitter'\n",
    "    print(frase)"
   ]
  },
  {
   "cell_type": "code",
   "execution_count": 36,
   "metadata": {
    "collapsed": true
   },
   "outputs": [],
   "source": [
    "def description(user):\n",
    "    consulta_api = api.get_user(user)._json\n",
    "    description = consulta_api['description']\n",
    "    return description"
   ]
  },
  {
   "cell_type": "code",
   "execution_count": 37,
   "metadata": {},
   "outputs": [
    {
     "name": "stdout",
     "output_type": "stream",
     "text": [
      "o senador acirgurgacz tem a seguinte a descricao no Twitter: Senador do PDT de Rondônia, pai e empresário. Líder do PDT no Senado e vice-presidente da Comissão de Agricultura.\n",
      "o senador aecioneves tem a seguinte a descricao no Twitter: Página oficial do Senador Aécio Neves\n",
      "o senador AirtonSandoval tem a seguinte a descricao no Twitter: \n",
      "o senador aloysio_nunes tem a seguinte a descricao no Twitter: Ministro das Relações Exteriores e Vice-presidente do PSDB nacional\n",
      "o senador alvarodias_ tem a seguinte a descricao no Twitter: Alvaro Dias está no 4º mandato de senador – reeleito com 80% dos votos – e é Líder do Podemos. Foi vereador, deputado estadual e federal e governador do Paraná.\n",
      "o senador anaamelialemos tem a seguinte a descricao no Twitter: Senadora pelo PP/RS, eleita em 2010, com 3,4 milhões de votos. Presidente da Fundação Milton Campos. Twitter também atualizado pela assessoria de imprensa.\n",
      "o senador angelaportelarr tem a seguinte a descricao no Twitter: Twitter oficial da Senadora de Roraima\n",
      "o senador anastasia tem a seguinte a descricao no Twitter: Senador da República. Ex-governador de Minas Gerais, Professor da UFMG e Mestre em Direito Administrativo.\n",
      "o senador valadarespsb tem a seguinte a descricao no Twitter: Lider/PSB, vice-pres/Senado, pres/CDR, pres/ConselhoDeÉtica, pres/CAS, pref/Simão Dias,dep estadual/pres da ALESE, dep fed, Sec/Educ, vice-gov, gov, senador 3x\n",
      "o senador armandoptb tem a seguinte a descricao no Twitter: Perfil oficial do senador Armando Monteiro, líder do PTB no Senado. Ex-ministro do Desenvolvimento, Indústria e Comércio Exterior.\n",
      "o senador senador_ataides tem a seguinte a descricao no Twitter: Senador da República, presidente do PSDB Tocantins e empresário. Fanpage: https://t.co/YmwNHrYvqj\n",
      "o senador biudelira tem a seguinte a descricao no Twitter: Benedito de Lira é reconhecido como um parlamentar muito atuante e um politico muito eficiente cuidando dos interesses de Alagoas em Brasília.\n",
      "o senador cassiocl tem a seguinte a descricao no Twitter: Advogado e Senador pelo PSDB da Paraíba\n",
      "o senador cidinho_santos tem a seguinte a descricao no Twitter: Senador da República pelo estado de Mato Grosso (PR-MT)\n",
      "  https://t.co/zcQfih4J1p\n",
      "o senador ciro_nogueira tem a seguinte a descricao no Twitter: Instagram: cironogueira http://t.co/yK3Kvy03Cz\n",
      "o senador sen_cristovam tem a seguinte a descricao no Twitter: Professor e polemista.\n",
      "o senador daliriobeber tem a seguinte a descricao no Twitter: \n",
      "o senador darioberger tem a seguinte a descricao no Twitter: Senador da República pelo Estado de Santa Catarina.\n",
      "o senador davialcolumbre tem a seguinte a descricao no Twitter: Vereador,Dep.Federal em 2002,2006 e 2010. Atualmente Senador e Coordenador da Bancada Federal pelo Estado do Amapá.(Perfil atualizado por mim e pela Ascom)\n",
      "o senador senadordeca tem a seguinte a descricao no Twitter: José Gonzaga Sobrinho - Senador Deca, 1º suplente do senador Cássio Cunha Lima.\n",
      "o senador senadorlobao tem a seguinte a descricao no Twitter: Senador pelo quarto mandato, ex-ministro de Minas e Energia e ex-governador do Maranhão\n",
      "o senador eduardoamorimse tem a seguinte a descricao no Twitter: Estou senador por Sergipe e minha missão é lutar por um Brasil e Estado mais justos. Médico, bacharel em Direito, ex-deputado federal.\n",
      "o senador eduardobraga_am tem a seguinte a descricao no Twitter: Vereador aos 21 anos, Dep Est, Dep Federal, Vice-Prefeito, Prefeito e Governador do Amazonas por 2 mandatos, Senador dá República.\n",
      "o senador eduardolopesprb tem a seguinte a descricao no Twitter: Senador Eduardo Lopes (PRB/RJ)\n",
      "o senador elmanoferrer tem a seguinte a descricao no Twitter: Senador da República pelo Estado do Piauí. Ex-prefeito de Teresina. Engenheiro agrônomo formado pela UFCE e advogado pela UFPI. O Vein trabalhador.\n",
      "o senador eunicio tem a seguinte a descricao no Twitter: Presidente do Congresso Nacional. Senador da República pelo Ceará, foi eleito em 2010 com 2.688.833 de votos, a maior votação da história política do estado.\n",
      "o senador fatimabezerra tem a seguinte a descricao no Twitter: Fátima é professora e senadora eleita em 2014 com 808.055 votos no RN.\n",
      "o senador fbezerracoelho tem a seguinte a descricao no Twitter: A voz de todos os pernambucanos no Senado Federal. Quero representar e defender os projetos e avanços do 'Novo Pernambuco'.\n",
      "o senador collor tem a seguinte a descricao no Twitter: Senador da República\n",
      "o senador senadorflexa tem a seguinte a descricao no Twitter: Senador do Pará(PSDB)\n",
      "o senador garibaldifilho tem a seguinte a descricao no Twitter: Twitter pessoal do Senador Garibaldi Alves Filho (PMDB-RN)-reeleito com 1.042.272 votos\n",
      "o senador gladsoncameli tem a seguinte a descricao no Twitter: Acreano,Engenheiro Civil e Senador da República (PP/AC)\n",
      "o senador gleisi tem a seguinte a descricao no Twitter: Gleisi é senadora pelo Estado do Paraná e presidenta nacional do Partido dos Trabalhadores (PT).\n",
      "o senador senador_helio tem a seguinte a descricao no Twitter: \n",
      "o senador humbertocostapt tem a seguinte a descricao no Twitter: Perfil oficial do Senador Humberto Costa, eleito pelo povo de Pernambuco para batalhar por mais justiça e oportunidades.\n",
      "o senador ivocassol tem a seguinte a descricao no Twitter: Twitter é pra falar o que a gente pensa!\n",
      "o senador jader_barbalho tem a seguinte a descricao no Twitter: Senador eleito pelo Estado do Pará   #JaderTrabalho\n",
      "o senador senjoaoalberto tem a seguinte a descricao no Twitter: \n",
      "o senador joaocapi tem a seguinte a descricao no Twitter: João Capiberibe, senador pelo Amapá. Autor da Lei Complementar N° 131 de 27/5/09 - que institui a transparência nas contas públicas.\n",
      "o senador jorgeviana tem a seguinte a descricao no Twitter: Twitter oficial do senador acreano Jorge Viana (PT). Ex-prefeito de Rio Branco (1993 -1996) e ex-governador do Acre (1999 - 2006) , sempre pelo PT.\n"
     ]
    }
   ],
   "source": [
    "for senador in senadores:\n",
    "    numero = description(senador)\n",
    "    frase = f'o senador {senador} tem a seguinte a descricao no Twitter: {numero}'\n",
    "    print(frase)"
   ]
  },
  {
   "cell_type": "code",
   "execution_count": 38,
   "metadata": {
    "collapsed": true
   },
   "outputs": [],
   "source": [
    "# fim"
   ]
  },
  {
   "cell_type": "code",
   "execution_count": null,
   "metadata": {
    "collapsed": true
   },
   "outputs": [],
   "source": []
  }
 ],
 "metadata": {
  "kernelspec": {
   "display_name": "Python 3",
   "language": "python",
   "name": "python3"
  },
  "language_info": {
   "codemirror_mode": {
    "name": "ipython",
    "version": 3
   },
   "file_extension": ".py",
   "mimetype": "text/x-python",
   "name": "python",
   "nbconvert_exporter": "python",
   "pygments_lexer": "ipython3",
   "version": "3.6.3"
  }
 },
 "nbformat": 4,
 "nbformat_minor": 2
}
