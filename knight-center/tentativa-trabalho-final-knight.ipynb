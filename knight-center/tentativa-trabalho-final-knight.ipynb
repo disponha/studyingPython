{
 "cells": [
  {
   "cell_type": "code",
   "execution_count": 1,
   "metadata": {},
   "outputs": [],
   "source": [
    "# trabalho final do curso Knight"
   ]
  },
  {
   "cell_type": "code",
   "execution_count": 2,
   "metadata": {},
   "outputs": [],
   "source": [
    "# etapa 1: pergunta 'quantos nomes de ministros vc consegue lembrar?'\n",
    "# etapa 2: oferece um espaço para resposta\n",
    "# etapa 3: pega essa resposta\n",
    "# etapa 4: transforma essa resposta em lower\n",
    "# etapa 5: checa se essa resposta faz parte da nossa lista\n",
    "# etapa 6: contar quantas das respostas fazem parte da nossa lista\n",
    "# etapa 7: exibir foto de ministros\n",
    "# etapa 8: a foto fica com uma película verde se a resposta estava na lista\n",
    "# etapa 9: a foto ficam com película vermelha se a resposta não estava na lista\n",
    "# etapa 10: informar 'você se lembrou de X dos XX ministros'"
   ]
  },
  {
   "cell_type": "code",
   "execution_count": 3,
   "metadata": {},
   "outputs": [
    {
     "name": "stdout",
     "output_type": "stream",
     "text": [
      "quantos nomes de ministros vc consegue lembrar?padilha, mendoncinha, ricardo barros\n"
     ]
    }
   ],
   "source": [
    "ministro = input(\"quantos nomes de ministros vc consegue lembrar?\")"
   ]
  },
  {
   "cell_type": "code",
   "execution_count": 4,
   "metadata": {},
   "outputs": [],
   "source": [
    "listaMinistro = [\"Grace Mendonça\", \"Blairo Maggi\", \"Ilan Goldfajn\", \"Eliseu Padilha\", \"Alexandre Baldy\", \"Gilberto Kassab\", \"Sérgio Sá Leitão\", \"Luislinda Valois\", \"Wagner de Campos Rosário\", \"Mendonça Filho\", \"Raul Jungmann\", \"Osmar Terra\", \"Marcos Pereira\", \"Leonardo Picciani\", \"Henrique Meirelles\", \"Helder Barbalho\", \"Torquato Jardim\", \"Sarney Filho\", \"Fernando Bezerra Coelho Filho\", \"Dyogo Oliveira\", \"Aloysio Nunes\", \"Ricardo Barros\", \"Carlos Marun\",\n",
    "\"Wellington Moreira Franco\", \"Sérgio Etchegoyen\", \"Cristiane Brasil\", \"Maurício Quintella Lessa\", \"Marx Beltrão\"]"
   ]
  },
  {
   "cell_type": "code",
   "execution_count": 5,
   "metadata": {},
   "outputs": [],
   "source": [
    "ministroLower = ministro.lower()"
   ]
  },
  {
   "cell_type": "code",
   "execution_count": 8,
   "metadata": {},
   "outputs": [],
   "source": [
    "listaMinistroLower = [lista.lower() for lista in listaMinistro]"
   ]
  },
  {
   "cell_type": "code",
   "execution_count": 9,
   "metadata": {
    "scrolled": true
   },
   "outputs": [
    {
     "name": "stdout",
     "output_type": "stream",
     "text": [
      "['grace mendonça', 'blairo maggi', 'ilan goldfajn', 'eliseu padilha', 'alexandre baldy', 'gilberto kassab', 'sérgio sá leitão', 'luislinda valois', 'wagner de campos rosário', 'mendonça filho', 'raul jungmann', 'osmar terra', 'marcos pereira', 'leonardo picciani', 'henrique meirelles', 'helder barbalho', 'torquato jardim', 'sarney filho', 'fernando bezerra coelho filho', 'dyogo oliveira', 'aloysio nunes', 'ricardo barros', 'carlos marun', 'wellington moreira franco', 'sérgio etchegoyen', 'cristiane brasil', 'maurício quintella lessa', 'marx beltrão']\n"
     ]
    }
   ],
   "source": [
    "print(listaMinistroLower)"
   ]
  },
  {
   "cell_type": "code",
   "execution_count": 13,
   "metadata": {
    "scrolled": true
   },
   "outputs": [
    {
     "name": "stdout",
     "output_type": "stream",
     "text": [
      "tente de novo\n"
     ]
    }
   ],
   "source": [
    "if ministroLower in listaMinistroLower:\n",
    "    print(\"vc acertou algum ministro\")\n",
    "else:\n",
    "    print(\"tente de novo\")"
   ]
  },
  {
   "cell_type": "code",
   "execution_count": 16,
   "metadata": {},
   "outputs": [],
   "source": [
    "listaMinistro = [\"Grace Mendonça\", \"Grace\", \"Mendonça\", \"Blairo Maggi\", \"Blairo\", \"Maggi\", \"Ilan Goldfajn\", \"Ilan\", \"Goldfajn\", \"Eliseu Padilha\", \"Eliseu\", \"Padilha\", \"Alexandre Baldy\", \"Alexandre\", \"Baldy\", \"Gilberto Kassab\", \"Gilberto\", \"Kassab\", \"Sérgio Sá Leitão\", \"Sérgio\", \"Sá\", \"Leitão\", \"Sá Leitão\", \"Luislinda Valois\", \"Luislinda\", \"Valois\", \"Wagner de Campos Rosário\", \"Wagner\", \"de Campos Rosário\", \"Rosário\", \"Mendonça Filho\", \"Mendoncinha\", \"Raul Jungmann\", \"Raul\", \"Jungmann\", \"Osmar Terra\", \"Osmar\", \"Terra\", \"Marcos Pereira\", \"Marcos\", \"Pereira\", \"Leonardo Picciani\", \"Leonardo\", \"Picciani\", \"Henrique Meirelles\", \"Henrique\", \"Meirelles\", \"Helder Barbalho\", \"Helder\", \"Barbalho\", \"Torquato Jardim\", \"Torquato\", \"Jardim\", \"Sarney Filho\", \"Fernando Bezerra Coelho Filho\", \"Fernando Coelho\", \"Fernando\", \"Coelho Filho\", \"Bezerra Coelho Filho\", \"Dyogo Oliveira\", \"Dyogo\", \"Oliveira\", \"Aloysio Nunes Ferreira\", \"Aloysio Nunes\", \"Aloysio\", \"Ricardo Barros\", \"Ricardo\", \"Barros\", \"Carlos Marun\", \"Marun\", \"Carlos\",\n",
    "\"Wellington Moreira Franco\", \"Moreira Franco\", \"Sérgio Etchegoyen\", \"Etchegoyen\", \"Sérgio\", \"Cristiane Brasil\", \"Cristiane\", \"Maurício Quintella Lessa\", \"Maurício Quintella\", \"Quintella Lessa\", \"Maurício\", \"Marx Beltrão\", \"Beltrão\", \"Marx\"]"
   ]
  },
  {
   "cell_type": "code",
   "execution_count": 17,
   "metadata": {},
   "outputs": [
    {
     "name": "stdout",
     "output_type": "stream",
     "text": [
      "tente de novo\n"
     ]
    }
   ],
   "source": [
    "if ministroLower in listaMinistroLower:\n",
    "    print(\"vc acertou algum ministro\")\n",
    "else:\n",
    "    print(\"tente de novo\")"
   ]
  },
  {
   "cell_type": "code",
   "execution_count": 18,
   "metadata": {},
   "outputs": [
    {
     "name": "stdout",
     "output_type": "stream",
     "text": [
      "['Grace Mendonça', 'Grace', 'Mendonça', 'Blairo Maggi', 'Blairo', 'Maggi', 'Ilan Goldfajn', 'Ilan', 'Goldfajn', 'Eliseu Padilha', 'Eliseu', 'Padilha', 'Alexandre Baldy', 'Alexandre', 'Baldy', 'Gilberto Kassab', 'Gilberto', 'Kassab', 'Sérgio Sá Leitão', 'Sérgio', 'Sá', 'Leitão', 'Sá Leitão', 'Luislinda Valois', 'Luislinda', 'Valois', 'Wagner de Campos Rosário', 'Wagner', 'de Campos Rosário', 'Rosário', 'Mendonça Filho', 'Mendoncinha', 'Raul Jungmann', 'Raul', 'Jungmann', 'Osmar Terra', 'Osmar', 'Terra', 'Marcos Pereira', 'Marcos', 'Pereira', 'Leonardo Picciani', 'Leonardo', 'Picciani', 'Henrique Meirelles', 'Henrique', 'Meirelles', 'Helder Barbalho', 'Helder', 'Barbalho', 'Torquato Jardim', 'Torquato', 'Jardim', 'Sarney Filho', 'Fernando Bezerra Coelho Filho', 'Fernando Coelho', 'Fernando', 'Coelho Filho', 'Bezerra Coelho Filho', 'Dyogo Oliveira', 'Dyogo', 'Oliveira', 'Aloysio Nunes Ferreira', 'Aloysio Nunes', 'Aloysio', 'Ricardo Barros', 'Ricardo', 'Barros', 'Carlos Marun', 'Marun', 'Carlos', 'Wellington Moreira Franco', 'Moreira Franco', 'Sérgio Etchegoyen', 'Etchegoyen', 'Sérgio', 'Cristiane Brasil', 'Cristiane', 'Maurício Quintella Lessa', 'Maurício Quintella', 'Quintella Lessa', 'Maurício', 'Marx Beltrão', 'Beltrão', 'Marx']\n"
     ]
    }
   ],
   "source": [
    "print(listaMinistro)"
   ]
  },
  {
   "cell_type": "code",
   "execution_count": 19,
   "metadata": {},
   "outputs": [
    {
     "name": "stdout",
     "output_type": "stream",
     "text": [
      "quantos nomes de ministros vc consegue lembrar?torquato, coelho filho, mauro, mendonça filho\n"
     ]
    }
   ],
   "source": [
    "ministro = input(\"quantos nomes de ministros vc consegue lembrar?\")"
   ]
  },
  {
   "cell_type": "code",
   "execution_count": 20,
   "metadata": {},
   "outputs": [
    {
     "name": "stdout",
     "output_type": "stream",
     "text": [
      "tente de novo\n"
     ]
    }
   ],
   "source": [
    "if ministroLower in listaMinistroLower:\n",
    "    print(\"vc acertou algum ministro\")\n",
    "else:\n",
    "    print(\"tente de novo\")"
   ]
  },
  {
   "cell_type": "code",
   "execution_count": 22,
   "metadata": {},
   "outputs": [],
   "source": [
    "ministroSplit = ministro.split(\",\")"
   ]
  },
  {
   "cell_type": "code",
   "execution_count": 23,
   "metadata": {},
   "outputs": [
    {
     "name": "stdout",
     "output_type": "stream",
     "text": [
      "['torquato', ' coelho filho', ' mauro', ' mendonça filho']\n"
     ]
    }
   ],
   "source": [
    "print(ministroSplit)"
   ]
  },
  {
   "cell_type": "code",
   "execution_count": 25,
   "metadata": {},
   "outputs": [],
   "source": [
    "ministroLower = [nome.lower() for nome in ministroSplit]"
   ]
  },
  {
   "cell_type": "code",
   "execution_count": 26,
   "metadata": {},
   "outputs": [
    {
     "name": "stdout",
     "output_type": "stream",
     "text": [
      "['torquato', ' coelho filho', ' mauro', ' mendonça filho']\n"
     ]
    }
   ],
   "source": [
    "print(ministroLower)"
   ]
  },
  {
   "cell_type": "code",
   "execution_count": 27,
   "metadata": {},
   "outputs": [
    {
     "name": "stdout",
     "output_type": "stream",
     "text": [
      "quantos nomes de ministros vc consegue lembrar?Torquato, mendoncinha, padilha, marUN\n"
     ]
    }
   ],
   "source": [
    "ministro = input(\"quantos nomes de ministros vc consegue lembrar?\")"
   ]
  },
  {
   "cell_type": "code",
   "execution_count": 28,
   "metadata": {},
   "outputs": [],
   "source": [
    "ministroSplit = ministro.split(\",\")"
   ]
  },
  {
   "cell_type": "code",
   "execution_count": 29,
   "metadata": {},
   "outputs": [
    {
     "name": "stdout",
     "output_type": "stream",
     "text": [
      "['Torquato', ' mendoncinha', ' padilha', ' marUN']\n"
     ]
    }
   ],
   "source": [
    "print(ministroSplit)"
   ]
  },
  {
   "cell_type": "code",
   "execution_count": 30,
   "metadata": {},
   "outputs": [],
   "source": [
    "ministroLower = [nome.lower() for nome in ministroSplit]"
   ]
  },
  {
   "cell_type": "code",
   "execution_count": 31,
   "metadata": {},
   "outputs": [
    {
     "name": "stdout",
     "output_type": "stream",
     "text": [
      "['torquato', ' mendoncinha', ' padilha', ' marun']\n"
     ]
    }
   ],
   "source": [
    "print(ministroLower)"
   ]
  },
  {
   "cell_type": "code",
   "execution_count": 32,
   "metadata": {},
   "outputs": [
    {
     "name": "stdout",
     "output_type": "stream",
     "text": [
      "tente de novo\n"
     ]
    }
   ],
   "source": [
    "if ministroLower in listaMinistroLower:\n",
    "    print(\"vc acertou algum ministro\")\n",
    "else:\n",
    "    print(\"tente de novo\")"
   ]
  },
  {
   "cell_type": "code",
   "execution_count": 33,
   "metadata": {},
   "outputs": [
    {
     "name": "stdout",
     "output_type": "stream",
     "text": [
      "['Grace Mendonça', 'Grace', 'Mendonça', 'Blairo Maggi', 'Blairo', 'Maggi', 'Ilan Goldfajn', 'Ilan', 'Goldfajn', 'Eliseu Padilha', 'Eliseu', 'Padilha', 'Alexandre Baldy', 'Alexandre', 'Baldy', 'Gilberto Kassab', 'Gilberto', 'Kassab', 'Sérgio Sá Leitão', 'Sérgio', 'Sá', 'Leitão', 'Sá Leitão', 'Luislinda Valois', 'Luislinda', 'Valois', 'Wagner de Campos Rosário', 'Wagner', 'de Campos Rosário', 'Rosário', 'Mendonça Filho', 'Mendoncinha', 'Raul Jungmann', 'Raul', 'Jungmann', 'Osmar Terra', 'Osmar', 'Terra', 'Marcos Pereira', 'Marcos', 'Pereira', 'Leonardo Picciani', 'Leonardo', 'Picciani', 'Henrique Meirelles', 'Henrique', 'Meirelles', 'Helder Barbalho', 'Helder', 'Barbalho', 'Torquato Jardim', 'Torquato', 'Jardim', 'Sarney Filho', 'Fernando Bezerra Coelho Filho', 'Fernando Coelho', 'Fernando', 'Coelho Filho', 'Bezerra Coelho Filho', 'Dyogo Oliveira', 'Dyogo', 'Oliveira', 'Aloysio Nunes Ferreira', 'Aloysio Nunes', 'Aloysio', 'Ricardo Barros', 'Ricardo', 'Barros', 'Carlos Marun', 'Marun', 'Carlos', 'Wellington Moreira Franco', 'Moreira Franco', 'Sérgio Etchegoyen', 'Etchegoyen', 'Sérgio', 'Cristiane Brasil', 'Cristiane', 'Maurício Quintella Lessa', 'Maurício Quintella', 'Quintella Lessa', 'Maurício', 'Marx Beltrão', 'Beltrão', 'Marx']\n"
     ]
    }
   ],
   "source": [
    "print(listaMinistro)"
   ]
  },
  {
   "cell_type": "code",
   "execution_count": 34,
   "metadata": {},
   "outputs": [],
   "source": [
    "listaMinistroLower = [lista.lower() for lista in listaMinistro]"
   ]
  },
  {
   "cell_type": "code",
   "execution_count": 35,
   "metadata": {},
   "outputs": [
    {
     "name": "stdout",
     "output_type": "stream",
     "text": [
      "['grace mendonça', 'grace', 'mendonça', 'blairo maggi', 'blairo', 'maggi', 'ilan goldfajn', 'ilan', 'goldfajn', 'eliseu padilha', 'eliseu', 'padilha', 'alexandre baldy', 'alexandre', 'baldy', 'gilberto kassab', 'gilberto', 'kassab', 'sérgio sá leitão', 'sérgio', 'sá', 'leitão', 'sá leitão', 'luislinda valois', 'luislinda', 'valois', 'wagner de campos rosário', 'wagner', 'de campos rosário', 'rosário', 'mendonça filho', 'mendoncinha', 'raul jungmann', 'raul', 'jungmann', 'osmar terra', 'osmar', 'terra', 'marcos pereira', 'marcos', 'pereira', 'leonardo picciani', 'leonardo', 'picciani', 'henrique meirelles', 'henrique', 'meirelles', 'helder barbalho', 'helder', 'barbalho', 'torquato jardim', 'torquato', 'jardim', 'sarney filho', 'fernando bezerra coelho filho', 'fernando coelho', 'fernando', 'coelho filho', 'bezerra coelho filho', 'dyogo oliveira', 'dyogo', 'oliveira', 'aloysio nunes ferreira', 'aloysio nunes', 'aloysio', 'ricardo barros', 'ricardo', 'barros', 'carlos marun', 'marun', 'carlos', 'wellington moreira franco', 'moreira franco', 'sérgio etchegoyen', 'etchegoyen', 'sérgio', 'cristiane brasil', 'cristiane', 'maurício quintella lessa', 'maurício quintella', 'quintella lessa', 'maurício', 'marx beltrão', 'beltrão', 'marx']\n"
     ]
    }
   ],
   "source": [
    "print(listaMinistroLower)"
   ]
  },
  {
   "cell_type": "code",
   "execution_count": 36,
   "metadata": {},
   "outputs": [
    {
     "name": "stdout",
     "output_type": "stream",
     "text": [
      "tente de novo\n"
     ]
    }
   ],
   "source": [
    "if ministroLower in listaMinistroLower:\n",
    "    print(\"vc acertou algum ministro\")\n",
    "else:\n",
    "    print(\"tente de novo\")"
   ]
  },
  {
   "cell_type": "code",
   "execution_count": null,
   "metadata": {},
   "outputs": [],
   "source": []
  }
 ],
 "metadata": {
  "kernelspec": {
   "display_name": "Python 3",
   "language": "python",
   "name": "python3"
  },
  "language_info": {
   "codemirror_mode": {
    "name": "ipython",
    "version": 3
   },
   "file_extension": ".py",
   "mimetype": "text/x-python",
   "name": "python",
   "nbconvert_exporter": "python",
   "pygments_lexer": "ipython3",
   "version": "3.6.4"
  }
 },
 "nbformat": 4,
 "nbformat_minor": 2
}
