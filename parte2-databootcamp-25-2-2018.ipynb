{
 "cells": [
  {
   "cell_type": "code",
   "execution_count": 54,
   "metadata": {
    "collapsed": true
   },
   "outputs": [],
   "source": [
    "import pandas as pd"
   ]
  },
  {
   "cell_type": "markdown",
   "metadata": {},
   "source": [
    "# Aprendizado não-supervisionado"
   ]
  },
  {
   "cell_type": "markdown",
   "metadata": {},
   "source": [
    "### Nem sempre teremos uma variavel alvo para estimar. Para esse tipo de problema, temos os algoritmos de aprendizado não-supervisionado"
   ]
  },
  {
   "cell_type": "markdown",
   "metadata": {},
   "source": [
    "Os algoritmos de aprendizado nao-supervisionado estao ainda divididos em dois grupos. Os algoritmos de clusterizacao (agrupamento) e os de reducao de dimensao. "
   ]
  },
  {
   "cell_type": "code",
   "execution_count": 55,
   "metadata": {
    "collapsed": true
   },
   "outputs": [],
   "source": [
    "movies = pd.read_csv(\"movie_lens_completo.csv\")"
   ]
  },
  {
   "cell_type": "code",
   "execution_count": 56,
   "metadata": {},
   "outputs": [
    {
     "data": {
      "text/html": [
       "<div>\n",
       "<style>\n",
       "    .dataframe thead tr:only-child th {\n",
       "        text-align: right;\n",
       "    }\n",
       "\n",
       "    .dataframe thead th {\n",
       "        text-align: left;\n",
       "    }\n",
       "\n",
       "    .dataframe tbody tr th {\n",
       "        vertical-align: top;\n",
       "    }\n",
       "</style>\n",
       "<table border=\"1\" class=\"dataframe\">\n",
       "  <thead>\n",
       "    <tr style=\"text-align: right;\">\n",
       "      <th></th>\n",
       "      <th>id</th>\n",
       "      <th>title</th>\n",
       "      <th>release_date</th>\n",
       "      <th>imdb_url</th>\n",
       "      <th>user_id</th>\n",
       "      <th>item_id</th>\n",
       "      <th>rating</th>\n",
       "      <th>timestamp</th>\n",
       "      <th>age</th>\n",
       "      <th>sex</th>\n",
       "      <th>ocuppation</th>\n",
       "      <th>zip_code</th>\n",
       "      <th>faixa_etaria</th>\n",
       "      <th>genero</th>\n",
       "    </tr>\n",
       "  </thead>\n",
       "  <tbody>\n",
       "    <tr>\n",
       "      <th>0</th>\n",
       "      <td>1</td>\n",
       "      <td>Toy Story</td>\n",
       "      <td>01-Jan-1995</td>\n",
       "      <td>http://us.imdb.com/M/title-exact?Toy%20Story%2...</td>\n",
       "      <td>244</td>\n",
       "      <td>1</td>\n",
       "      <td>4</td>\n",
       "      <td>1997-11-27 04:20:05</td>\n",
       "      <td>28</td>\n",
       "      <td>M</td>\n",
       "      <td>technician</td>\n",
       "      <td>80525</td>\n",
       "      <td>20-29</td>\n",
       "      <td>Animation</td>\n",
       "    </tr>\n",
       "    <tr>\n",
       "      <th>1</th>\n",
       "      <td>1</td>\n",
       "      <td>Toy Story</td>\n",
       "      <td>01-Jan-1995</td>\n",
       "      <td>http://us.imdb.com/M/title-exact?Toy%20Story%2...</td>\n",
       "      <td>298</td>\n",
       "      <td>1</td>\n",
       "      <td>5</td>\n",
       "      <td>1998-01-06 22:34:21</td>\n",
       "      <td>44</td>\n",
       "      <td>M</td>\n",
       "      <td>executive</td>\n",
       "      <td>01581</td>\n",
       "      <td>40-49</td>\n",
       "      <td>Animation</td>\n",
       "    </tr>\n",
       "    <tr>\n",
       "      <th>2</th>\n",
       "      <td>1</td>\n",
       "      <td>Toy Story</td>\n",
       "      <td>01-Jan-1995</td>\n",
       "      <td>http://us.imdb.com/M/title-exact?Toy%20Story%2...</td>\n",
       "      <td>253</td>\n",
       "      <td>1</td>\n",
       "      <td>5</td>\n",
       "      <td>1998-04-03 18:34:27</td>\n",
       "      <td>26</td>\n",
       "      <td>F</td>\n",
       "      <td>librarian</td>\n",
       "      <td>22903</td>\n",
       "      <td>20-29</td>\n",
       "      <td>Animation</td>\n",
       "    </tr>\n",
       "    <tr>\n",
       "      <th>3</th>\n",
       "      <td>1</td>\n",
       "      <td>Toy Story</td>\n",
       "      <td>01-Jan-1995</td>\n",
       "      <td>http://us.imdb.com/M/title-exact?Toy%20Story%2...</td>\n",
       "      <td>305</td>\n",
       "      <td>1</td>\n",
       "      <td>5</td>\n",
       "      <td>1998-02-01 08:52:33</td>\n",
       "      <td>23</td>\n",
       "      <td>M</td>\n",
       "      <td>programmer</td>\n",
       "      <td>94086</td>\n",
       "      <td>20-29</td>\n",
       "      <td>Animation</td>\n",
       "    </tr>\n",
       "    <tr>\n",
       "      <th>4</th>\n",
       "      <td>1</td>\n",
       "      <td>Toy Story</td>\n",
       "      <td>01-Jan-1995</td>\n",
       "      <td>http://us.imdb.com/M/title-exact?Toy%20Story%2...</td>\n",
       "      <td>6</td>\n",
       "      <td>1</td>\n",
       "      <td>4</td>\n",
       "      <td>1997-12-31 20:17:58</td>\n",
       "      <td>42</td>\n",
       "      <td>M</td>\n",
       "      <td>executive</td>\n",
       "      <td>98101</td>\n",
       "      <td>40-49</td>\n",
       "      <td>Animation</td>\n",
       "    </tr>\n",
       "  </tbody>\n",
       "</table>\n",
       "</div>"
      ],
      "text/plain": [
       "   id       title release_date  \\\n",
       "0   1  Toy Story   01-Jan-1995   \n",
       "1   1  Toy Story   01-Jan-1995   \n",
       "2   1  Toy Story   01-Jan-1995   \n",
       "3   1  Toy Story   01-Jan-1995   \n",
       "4   1  Toy Story   01-Jan-1995   \n",
       "\n",
       "                                            imdb_url  user_id  item_id  \\\n",
       "0  http://us.imdb.com/M/title-exact?Toy%20Story%2...      244        1   \n",
       "1  http://us.imdb.com/M/title-exact?Toy%20Story%2...      298        1   \n",
       "2  http://us.imdb.com/M/title-exact?Toy%20Story%2...      253        1   \n",
       "3  http://us.imdb.com/M/title-exact?Toy%20Story%2...      305        1   \n",
       "4  http://us.imdb.com/M/title-exact?Toy%20Story%2...        6        1   \n",
       "\n",
       "   rating            timestamp  age sex  ocuppation zip_code faixa_etaria  \\\n",
       "0       4  1997-11-27 04:20:05   28   M  technician    80525        20-29   \n",
       "1       5  1998-01-06 22:34:21   44   M   executive    01581        40-49   \n",
       "2       5  1998-04-03 18:34:27   26   F   librarian    22903        20-29   \n",
       "3       5  1998-02-01 08:52:33   23   M  programmer    94086        20-29   \n",
       "4       4  1997-12-31 20:17:58   42   M   executive    98101        40-49   \n",
       "\n",
       "      genero  \n",
       "0  Animation  \n",
       "1  Animation  \n",
       "2  Animation  \n",
       "3  Animation  \n",
       "4  Animation  "
      ]
     },
     "execution_count": 56,
     "metadata": {},
     "output_type": "execute_result"
    }
   ],
   "source": [
    "movies.head()"
   ]
  },
  {
   "cell_type": "code",
   "execution_count": 57,
   "metadata": {},
   "outputs": [
    {
     "name": "stdout",
     "output_type": "stream",
     "text": [
      "Dados: 100000\n",
      "Movies: 1682\n",
      "Users: 943\n"
     ]
    }
   ],
   "source": [
    "qnt_dados = movies.shape[0]\n",
    "print(\"Dados: {}\".format(qnt_dados))\n",
    "\n",
    "qnt_movies = movies[\"id\"].unique().size\n",
    "print(\"Movies: {}\".format(qnt_movies))\n",
    "\n",
    "qnt_users = movies[\"user_id\"].unique().size\n",
    "print(\"Users: {}\".format(qnt_users))"
   ]
  },
  {
   "cell_type": "code",
   "execution_count": 58,
   "metadata": {},
   "outputs": [
    {
     "data": {
      "text/plain": [
       "<matplotlib.axes._subplots.AxesSubplot at 0x7efd145cf400>"
      ]
     },
     "execution_count": 58,
     "metadata": {},
     "output_type": "execute_result"
    },
    {
     "data": {
      "image/png": "[encoded data removed]",
      "text/plain": [
       "<matplotlib.figure.Figure at 0x7efd157a0198>"
      ]
     },
     "metadata": {},
     "output_type": "display_data"
    }
   ],
   "source": [
    "%matplotlib inline\n",
    "\n",
    "import seaborn as sns\n",
    "sns.distplot(movies[\"rating\"], bins=5,kde=False)"
   ]
  },
  {
   "cell_type": "code",
   "execution_count": 59,
   "metadata": {},
   "outputs": [
    {
     "data": {
      "text/plain": [
       "<matplotlib.axes._subplots.AxesSubplot at 0x7efd14592438>"
      ]
     },
     "execution_count": 59,
     "metadata": {},
     "output_type": "execute_result"
    },
    {
     "data": {
      "image/png": "[encoded data removed]",
      "text/plain": [
       "<matplotlib.figure.Figure at 0x7efd14f546d8>"
      ]
     },
     "metadata": {},
     "output_type": "display_data"
    }
   ],
   "source": [
    "sns.boxplot(x=\"sex\", y=\"rating\", data=movies)"
   ]
  },
  {
   "cell_type": "code",
   "execution_count": 60,
   "metadata": {},
   "outputs": [
    {
     "data": {
      "text/plain": [
       "<matplotlib.axes._subplots.AxesSubplot at 0x7efd1454dd68>"
      ]
     },
     "execution_count": 60,
     "metadata": {},
     "output_type": "execute_result"
    },
    {
     "data": {
      "image/png": "[encoded data removed]",
      "text/plain": [
       "<matplotlib.figure.Figure at 0x7efd159534a8>"
      ]
     },
     "metadata": {},
     "output_type": "display_data"
    }
   ],
   "source": [
    "sns.boxplot(x=\"rating\", y=\"ocuppation\", data=movies)"
   ]
  },
  {
   "cell_type": "code",
   "execution_count": 61,
   "metadata": {},
   "outputs": [
    {
     "data": {
      "text/plain": [
       "<matplotlib.axes._subplots.AxesSubplot at 0x7efd14292be0>"
      ]
     },
     "execution_count": 61,
     "metadata": {},
     "output_type": "execute_result"
    },
    {
     "data": {
      "image/png": "[encoded data removed]",
      "text/plain": [
       "<matplotlib.figure.Figure at 0x7efd14292550>"
      ]
     },
     "metadata": {},
     "output_type": "display_data"
    }
   ],
   "source": [
    "import matplotlib.pyplot as plt\n",
    "plt.xticks(rotation=90)\n",
    "\n",
    "sns.boxplot(x=\"ocuppation\", y=\"rating\", data=movies)"
   ]
  },
  {
   "cell_type": "code",
   "execution_count": 62,
   "metadata": {},
   "outputs": [
    {
     "data": {
      "text/plain": [
       "<matplotlib.axes._subplots.AxesSubplot at 0x7efd13fe8c18>"
      ]
     },
     "execution_count": 62,
     "metadata": {},
     "output_type": "execute_result"
    },
    {
     "data": {
      "image/png": "[encoded data removed]",
      "text/plain": [
       "<matplotlib.figure.Figure at 0x7efd142922b0>"
      ]
     },
     "metadata": {},
     "output_type": "display_data"
    }
   ],
   "source": [
    "import matplotlib.pyplot as plt\n",
    "\n",
    "plt.xticks(rotation=90)\n",
    "sns.boxplot(x=\"ocuppation\", y=\"age\", data=movies)"
   ]
  },
  {
   "cell_type": "code",
   "execution_count": 63,
   "metadata": {},
   "outputs": [
    {
     "data": {
      "text/html": [
       "<div>\n",
       "<style>\n",
       "    .dataframe thead tr:only-child th {\n",
       "        text-align: right;\n",
       "    }\n",
       "\n",
       "    .dataframe thead th {\n",
       "        text-align: left;\n",
       "    }\n",
       "\n",
       "    .dataframe tbody tr th {\n",
       "        vertical-align: top;\n",
       "    }\n",
       "</style>\n",
       "<table border=\"1\" class=\"dataframe\">\n",
       "  <thead>\n",
       "    <tr style=\"text-align: right;\">\n",
       "      <th></th>\n",
       "      <th>id</th>\n",
       "      <th>title</th>\n",
       "      <th>release_date</th>\n",
       "      <th>imdb_url</th>\n",
       "      <th>user_id</th>\n",
       "      <th>item_id</th>\n",
       "      <th>rating</th>\n",
       "      <th>timestamp</th>\n",
       "      <th>age</th>\n",
       "      <th>zip_code</th>\n",
       "      <th>...</th>\n",
       "      <th>genero_Film-Noir</th>\n",
       "      <th>genero_Horror</th>\n",
       "      <th>genero_Musical</th>\n",
       "      <th>genero_Mystery</th>\n",
       "      <th>genero_Romance</th>\n",
       "      <th>genero_Sci-Fi</th>\n",
       "      <th>genero_Thriller</th>\n",
       "      <th>genero_War</th>\n",
       "      <th>genero_Western</th>\n",
       "      <th>genero_unknown</th>\n",
       "    </tr>\n",
       "  </thead>\n",
       "  <tbody>\n",
       "    <tr>\n",
       "      <th>0</th>\n",
       "      <td>1</td>\n",
       "      <td>Toy Story</td>\n",
       "      <td>01-Jan-1995</td>\n",
       "      <td>http://us.imdb.com/M/title-exact?Toy%20Story%2...</td>\n",
       "      <td>244</td>\n",
       "      <td>1</td>\n",
       "      <td>4</td>\n",
       "      <td>1997-11-27 04:20:05</td>\n",
       "      <td>28</td>\n",
       "      <td>80525</td>\n",
       "      <td>...</td>\n",
       "      <td>0</td>\n",
       "      <td>0</td>\n",
       "      <td>0</td>\n",
       "      <td>0</td>\n",
       "      <td>0</td>\n",
       "      <td>0</td>\n",
       "      <td>0</td>\n",
       "      <td>0</td>\n",
       "      <td>0</td>\n",
       "      <td>0</td>\n",
       "    </tr>\n",
       "    <tr>\n",
       "      <th>1</th>\n",
       "      <td>1</td>\n",
       "      <td>Toy Story</td>\n",
       "      <td>01-Jan-1995</td>\n",
       "      <td>http://us.imdb.com/M/title-exact?Toy%20Story%2...</td>\n",
       "      <td>298</td>\n",
       "      <td>1</td>\n",
       "      <td>5</td>\n",
       "      <td>1998-01-06 22:34:21</td>\n",
       "      <td>44</td>\n",
       "      <td>01581</td>\n",
       "      <td>...</td>\n",
       "      <td>0</td>\n",
       "      <td>0</td>\n",
       "      <td>0</td>\n",
       "      <td>0</td>\n",
       "      <td>0</td>\n",
       "      <td>0</td>\n",
       "      <td>0</td>\n",
       "      <td>0</td>\n",
       "      <td>0</td>\n",
       "      <td>0</td>\n",
       "    </tr>\n",
       "    <tr>\n",
       "      <th>2</th>\n",
       "      <td>1</td>\n",
       "      <td>Toy Story</td>\n",
       "      <td>01-Jan-1995</td>\n",
       "      <td>http://us.imdb.com/M/title-exact?Toy%20Story%2...</td>\n",
       "      <td>253</td>\n",
       "      <td>1</td>\n",
       "      <td>5</td>\n",
       "      <td>1998-04-03 18:34:27</td>\n",
       "      <td>26</td>\n",
       "      <td>22903</td>\n",
       "      <td>...</td>\n",
       "      <td>0</td>\n",
       "      <td>0</td>\n",
       "      <td>0</td>\n",
       "      <td>0</td>\n",
       "      <td>0</td>\n",
       "      <td>0</td>\n",
       "      <td>0</td>\n",
       "      <td>0</td>\n",
       "      <td>0</td>\n",
       "      <td>0</td>\n",
       "    </tr>\n",
       "    <tr>\n",
       "      <th>3</th>\n",
       "      <td>1</td>\n",
       "      <td>Toy Story</td>\n",
       "      <td>01-Jan-1995</td>\n",
       "      <td>http://us.imdb.com/M/title-exact?Toy%20Story%2...</td>\n",
       "      <td>305</td>\n",
       "      <td>1</td>\n",
       "      <td>5</td>\n",
       "      <td>1998-02-01 08:52:33</td>\n",
       "      <td>23</td>\n",
       "      <td>94086</td>\n",
       "      <td>...</td>\n",
       "      <td>0</td>\n",
       "      <td>0</td>\n",
       "      <td>0</td>\n",
       "      <td>0</td>\n",
       "      <td>0</td>\n",
       "      <td>0</td>\n",
       "      <td>0</td>\n",
       "      <td>0</td>\n",
       "      <td>0</td>\n",
       "      <td>0</td>\n",
       "    </tr>\n",
       "    <tr>\n",
       "      <th>4</th>\n",
       "      <td>1</td>\n",
       "      <td>Toy Story</td>\n",
       "      <td>01-Jan-1995</td>\n",
       "      <td>http://us.imdb.com/M/title-exact?Toy%20Story%2...</td>\n",
       "      <td>6</td>\n",
       "      <td>1</td>\n",
       "      <td>4</td>\n",
       "      <td>1997-12-31 20:17:58</td>\n",
       "      <td>42</td>\n",
       "      <td>98101</td>\n",
       "      <td>...</td>\n",
       "      <td>0</td>\n",
       "      <td>0</td>\n",
       "      <td>0</td>\n",
       "      <td>0</td>\n",
       "      <td>0</td>\n",
       "      <td>0</td>\n",
       "      <td>0</td>\n",
       "      <td>0</td>\n",
       "      <td>0</td>\n",
       "      <td>0</td>\n",
       "    </tr>\n",
       "  </tbody>\n",
       "</table>\n",
       "<p>5 rows × 53 columns</p>\n",
       "</div>"
      ],
      "text/plain": [
       "   id       title release_date  \\\n",
       "0   1  Toy Story   01-Jan-1995   \n",
       "1   1  Toy Story   01-Jan-1995   \n",
       "2   1  Toy Story   01-Jan-1995   \n",
       "3   1  Toy Story   01-Jan-1995   \n",
       "4   1  Toy Story   01-Jan-1995   \n",
       "\n",
       "                                            imdb_url  user_id  item_id  \\\n",
       "0  http://us.imdb.com/M/title-exact?Toy%20Story%2...      244        1   \n",
       "1  http://us.imdb.com/M/title-exact?Toy%20Story%2...      298        1   \n",
       "2  http://us.imdb.com/M/title-exact?Toy%20Story%2...      253        1   \n",
       "3  http://us.imdb.com/M/title-exact?Toy%20Story%2...      305        1   \n",
       "4  http://us.imdb.com/M/title-exact?Toy%20Story%2...        6        1   \n",
       "\n",
       "   rating            timestamp  age zip_code       ...       genero_Film-Noir  \\\n",
       "0       4  1997-11-27 04:20:05   28    80525       ...                      0   \n",
       "1       5  1998-01-06 22:34:21   44    01581       ...                      0   \n",
       "2       5  1998-04-03 18:34:27   26    22903       ...                      0   \n",
       "3       5  1998-02-01 08:52:33   23    94086       ...                      0   \n",
       "4       4  1997-12-31 20:17:58   42    98101       ...                      0   \n",
       "\n",
       "   genero_Horror  genero_Musical  genero_Mystery  genero_Romance  \\\n",
       "0              0               0               0               0   \n",
       "1              0               0               0               0   \n",
       "2              0               0               0               0   \n",
       "3              0               0               0               0   \n",
       "4              0               0               0               0   \n",
       "\n",
       "   genero_Sci-Fi  genero_Thriller  genero_War  genero_Western  genero_unknown  \n",
       "0              0                0           0               0               0  \n",
       "1              0                0           0               0               0  \n",
       "2              0                0           0               0               0  \n",
       "3              0                0           0               0               0  \n",
       "4              0                0           0               0               0  \n",
       "\n",
       "[5 rows x 53 columns]"
      ]
     },
     "execution_count": 63,
     "metadata": {},
     "output_type": "execute_result"
    }
   ],
   "source": [
    "movies_dmy = pd.get_dummies(movies, columns=[\"sex\", \"ocuppation\", \"genero\"])\n",
    "movies_dmy.head()"
   ]
  },
  {
   "cell_type": "code",
   "execution_count": 64,
   "metadata": {},
   "outputs": [
    {
     "data": {
      "text/plain": [
       "Index(['id', 'title', 'release_date', 'imdb_url', 'user_id', 'item_id',\n",
       "       'rating', 'timestamp', 'age', 'zip_code', 'faixa_etaria', 'sex_F',\n",
       "       'sex_M', 'ocuppation_administrator', 'ocuppation_artist',\n",
       "       'ocuppation_doctor', 'ocuppation_educator', 'ocuppation_engineer',\n",
       "       'ocuppation_entertainment', 'ocuppation_executive',\n",
       "       'ocuppation_healthcare', 'ocuppation_homemaker', 'ocuppation_lawyer',\n",
       "       'ocuppation_librarian', 'ocuppation_marketing', 'ocuppation_none',\n",
       "       'ocuppation_other', 'ocuppation_programmer', 'ocuppation_retired',\n",
       "       'ocuppation_salesman', 'ocuppation_scientist', 'ocuppation_student',\n",
       "       'ocuppation_technician', 'ocuppation_writer', 'genero_Action',\n",
       "       'genero_Adventure', 'genero_Animation', 'genero_Children's',\n",
       "       'genero_Comedy', 'genero_Crime', 'genero_Documentary', 'genero_Drama',\n",
       "       'genero_Fantasy', 'genero_Film-Noir', 'genero_Horror', 'genero_Musical',\n",
       "       'genero_Mystery', 'genero_Romance', 'genero_Sci-Fi', 'genero_Thriller',\n",
       "       'genero_War', 'genero_Western', 'genero_unknown'],\n",
       "      dtype='object')"
      ]
     },
     "execution_count": 64,
     "metadata": {},
     "output_type": "execute_result"
    }
   ],
   "source": [
    "movies_dmy.columns"
   ]
  },
  {
   "cell_type": "code",
   "execution_count": 65,
   "metadata": {
    "collapsed": true
   },
   "outputs": [],
   "source": [
    "# no dataframe, nao apareceram todas as colunas\n",
    "# tivemos que ver por '.columns'\n",
    "# no dummies, a gente transformou o resultado daquelas colunas em '0' e '1'"
   ]
  },
  {
   "cell_type": "code",
   "execution_count": 66,
   "metadata": {},
   "outputs": [
    {
     "data": {
      "text/plain": [
       "0    80525\n",
       "1    01581\n",
       "2    22903\n",
       "3    94086\n",
       "4    98101\n",
       "Name: zip_code, dtype: object"
      ]
     },
     "execution_count": 66,
     "metadata": {},
     "output_type": "execute_result"
    }
   ],
   "source": [
    "movies_dmy.zip_code.head()"
   ]
  },
  {
   "cell_type": "markdown",
   "metadata": {},
   "source": [
    "## Vamos carregar um dataset da relacao dos zip_code e dos estados"
   ]
  },
  {
   "cell_type": "code",
   "execution_count": 67,
   "metadata": {
    "collapsed": true
   },
   "outputs": [],
   "source": [
    "cep = pd.read_csv(\"http://bit.ly/2nEJKar\")"
   ]
  },
  {
   "cell_type": "code",
   "execution_count": 68,
   "metadata": {},
   "outputs": [
    {
     "data": {
      "text/html": [
       "<div>\n",
       "<style>\n",
       "    .dataframe thead tr:only-child th {\n",
       "        text-align: right;\n",
       "    }\n",
       "\n",
       "    .dataframe thead th {\n",
       "        text-align: left;\n",
       "    }\n",
       "\n",
       "    .dataframe tbody tr th {\n",
       "        vertical-align: top;\n",
       "    }\n",
       "</style>\n",
       "<table border=\"1\" class=\"dataframe\">\n",
       "  <thead>\n",
       "    <tr style=\"text-align: right;\">\n",
       "      <th></th>\n",
       "      <th>Zipcode</th>\n",
       "      <th>ZipCodeType</th>\n",
       "      <th>City</th>\n",
       "      <th>State</th>\n",
       "      <th>LocationType</th>\n",
       "      <th>Lat</th>\n",
       "      <th>Long</th>\n",
       "      <th>Location</th>\n",
       "      <th>Decommisioned</th>\n",
       "      <th>TaxReturnsFiled</th>\n",
       "      <th>EstimatedPopulation</th>\n",
       "      <th>TotalWages</th>\n",
       "    </tr>\n",
       "  </thead>\n",
       "  <tbody>\n",
       "    <tr>\n",
       "      <th>0</th>\n",
       "      <td>705</td>\n",
       "      <td>STANDARD</td>\n",
       "      <td>AIBONITO</td>\n",
       "      <td>PR</td>\n",
       "      <td>PRIMARY</td>\n",
       "      <td>18.14</td>\n",
       "      <td>-66.26</td>\n",
       "      <td>NA-US-PR-AIBONITO</td>\n",
       "      <td>False</td>\n",
       "      <td>NaN</td>\n",
       "      <td>NaN</td>\n",
       "      <td>NaN</td>\n",
       "    </tr>\n",
       "    <tr>\n",
       "      <th>1</th>\n",
       "      <td>610</td>\n",
       "      <td>STANDARD</td>\n",
       "      <td>ANASCO</td>\n",
       "      <td>PR</td>\n",
       "      <td>PRIMARY</td>\n",
       "      <td>18.28</td>\n",
       "      <td>-67.14</td>\n",
       "      <td>NA-US-PR-ANASCO</td>\n",
       "      <td>False</td>\n",
       "      <td>NaN</td>\n",
       "      <td>NaN</td>\n",
       "      <td>NaN</td>\n",
       "    </tr>\n",
       "    <tr>\n",
       "      <th>2</th>\n",
       "      <td>611</td>\n",
       "      <td>PO BOX</td>\n",
       "      <td>ANGELES</td>\n",
       "      <td>PR</td>\n",
       "      <td>PRIMARY</td>\n",
       "      <td>18.28</td>\n",
       "      <td>-66.79</td>\n",
       "      <td>NA-US-PR-ANGELES</td>\n",
       "      <td>False</td>\n",
       "      <td>NaN</td>\n",
       "      <td>NaN</td>\n",
       "      <td>NaN</td>\n",
       "    </tr>\n",
       "    <tr>\n",
       "      <th>3</th>\n",
       "      <td>612</td>\n",
       "      <td>STANDARD</td>\n",
       "      <td>ARECIBO</td>\n",
       "      <td>PR</td>\n",
       "      <td>PRIMARY</td>\n",
       "      <td>18.45</td>\n",
       "      <td>-66.73</td>\n",
       "      <td>NA-US-PR-ARECIBO</td>\n",
       "      <td>False</td>\n",
       "      <td>NaN</td>\n",
       "      <td>NaN</td>\n",
       "      <td>NaN</td>\n",
       "    </tr>\n",
       "    <tr>\n",
       "      <th>4</th>\n",
       "      <td>601</td>\n",
       "      <td>STANDARD</td>\n",
       "      <td>ADJUNTAS</td>\n",
       "      <td>PR</td>\n",
       "      <td>PRIMARY</td>\n",
       "      <td>18.16</td>\n",
       "      <td>-66.72</td>\n",
       "      <td>NA-US-PR-ADJUNTAS</td>\n",
       "      <td>False</td>\n",
       "      <td>NaN</td>\n",
       "      <td>NaN</td>\n",
       "      <td>NaN</td>\n",
       "    </tr>\n",
       "  </tbody>\n",
       "</table>\n",
       "</div>"
      ],
      "text/plain": [
       "   Zipcode ZipCodeType      City State LocationType    Lat   Long  \\\n",
       "0      705    STANDARD  AIBONITO    PR      PRIMARY  18.14 -66.26   \n",
       "1      610    STANDARD    ANASCO    PR      PRIMARY  18.28 -67.14   \n",
       "2      611      PO BOX   ANGELES    PR      PRIMARY  18.28 -66.79   \n",
       "3      612    STANDARD   ARECIBO    PR      PRIMARY  18.45 -66.73   \n",
       "4      601    STANDARD  ADJUNTAS    PR      PRIMARY  18.16 -66.72   \n",
       "\n",
       "            Location  Decommisioned  TaxReturnsFiled  EstimatedPopulation  \\\n",
       "0  NA-US-PR-AIBONITO          False              NaN                  NaN   \n",
       "1    NA-US-PR-ANASCO          False              NaN                  NaN   \n",
       "2   NA-US-PR-ANGELES          False              NaN                  NaN   \n",
       "3   NA-US-PR-ARECIBO          False              NaN                  NaN   \n",
       "4  NA-US-PR-ADJUNTAS          False              NaN                  NaN   \n",
       "\n",
       "   TotalWages  \n",
       "0         NaN  \n",
       "1         NaN  \n",
       "2         NaN  \n",
       "3         NaN  \n",
       "4         NaN  "
      ]
     },
     "execution_count": 68,
     "metadata": {},
     "output_type": "execute_result"
    }
   ],
   "source": [
    "cep.head()"
   ]
  },
  {
   "cell_type": "code",
   "execution_count": 69,
   "metadata": {},
   "outputs": [
    {
     "data": {
      "text/html": [
       "<div>\n",
       "<style>\n",
       "    .dataframe thead tr:only-child th {\n",
       "        text-align: right;\n",
       "    }\n",
       "\n",
       "    .dataframe thead th {\n",
       "        text-align: left;\n",
       "    }\n",
       "\n",
       "    .dataframe tbody tr th {\n",
       "        vertical-align: top;\n",
       "    }\n",
       "</style>\n",
       "<table border=\"1\" class=\"dataframe\">\n",
       "  <thead>\n",
       "    <tr style=\"text-align: right;\">\n",
       "      <th></th>\n",
       "      <th>Zipcode</th>\n",
       "      <th>State</th>\n",
       "    </tr>\n",
       "  </thead>\n",
       "  <tbody>\n",
       "    <tr>\n",
       "      <th>0</th>\n",
       "      <td>705</td>\n",
       "      <td>PR</td>\n",
       "    </tr>\n",
       "    <tr>\n",
       "      <th>1</th>\n",
       "      <td>610</td>\n",
       "      <td>PR</td>\n",
       "    </tr>\n",
       "    <tr>\n",
       "      <th>2</th>\n",
       "      <td>611</td>\n",
       "      <td>PR</td>\n",
       "    </tr>\n",
       "    <tr>\n",
       "      <th>3</th>\n",
       "      <td>612</td>\n",
       "      <td>PR</td>\n",
       "    </tr>\n",
       "    <tr>\n",
       "      <th>4</th>\n",
       "      <td>601</td>\n",
       "      <td>PR</td>\n",
       "    </tr>\n",
       "  </tbody>\n",
       "</table>\n",
       "</div>"
      ],
      "text/plain": [
       "   Zipcode State\n",
       "0      705    PR\n",
       "1      610    PR\n",
       "2      611    PR\n",
       "3      612    PR\n",
       "4      601    PR"
      ]
     },
     "execution_count": 69,
     "metadata": {},
     "output_type": "execute_result"
    }
   ],
   "source": [
    "zipcode_state = cep[[\"Zipcode\", \"State\"]]\n",
    "zipcode_state.head()"
   ]
  },
  {
   "cell_type": "markdown",
   "metadata": {},
   "source": [
    "A coluna Zipcode do dataset que carregamos eh um int64. A coluna zip_code do dataset do filme eh string (object).\n",
    "\n",
    "So vamos conseguir fazer o merge se os dois forem do mesmo tipo. Entao vamos converter a coluna Zipcode (int64) para string. "
   ]
  },
  {
   "cell_type": "code",
   "execution_count": 70,
   "metadata": {
    "collapsed": true
   },
   "outputs": [],
   "source": [
    "zipcode_state_final = zipcode_state.copy()"
   ]
  },
  {
   "cell_type": "code",
   "execution_count": 71,
   "metadata": {
    "collapsed": true
   },
   "outputs": [],
   "source": [
    "zipcode_state_final[\"Zipcode\"] = zipcode_state[\"Zipcode\"].astype(\"str\")"
   ]
  },
  {
   "cell_type": "code",
   "execution_count": 76,
   "metadata": {},
   "outputs": [
    {
     "data": {
      "text/html": [
       "<div>\n",
       "<style>\n",
       "    .dataframe thead tr:only-child th {\n",
       "        text-align: right;\n",
       "    }\n",
       "\n",
       "    .dataframe thead th {\n",
       "        text-align: left;\n",
       "    }\n",
       "\n",
       "    .dataframe tbody tr th {\n",
       "        vertical-align: top;\n",
       "    }\n",
       "</style>\n",
       "<table border=\"1\" class=\"dataframe\">\n",
       "  <thead>\n",
       "    <tr style=\"text-align: right;\">\n",
       "      <th></th>\n",
       "      <th>id</th>\n",
       "      <th>title</th>\n",
       "      <th>release_date</th>\n",
       "      <th>imdb_url</th>\n",
       "      <th>user_id</th>\n",
       "      <th>item_id</th>\n",
       "      <th>rating</th>\n",
       "      <th>timestamp</th>\n",
       "      <th>age</th>\n",
       "      <th>zip_code</th>\n",
       "      <th>...</th>\n",
       "      <th>genero_Musical</th>\n",
       "      <th>genero_Mystery</th>\n",
       "      <th>genero_Romance</th>\n",
       "      <th>genero_Sci-Fi</th>\n",
       "      <th>genero_Thriller</th>\n",
       "      <th>genero_War</th>\n",
       "      <th>genero_Western</th>\n",
       "      <th>genero_unknown</th>\n",
       "      <th>Zipcode</th>\n",
       "      <th>State</th>\n",
       "    </tr>\n",
       "  </thead>\n",
       "  <tbody>\n",
       "    <tr>\n",
       "      <th>0</th>\n",
       "      <td>1</td>\n",
       "      <td>Toy Story</td>\n",
       "      <td>01-Jan-1995</td>\n",
       "      <td>http://us.imdb.com/M/title-exact?Toy%20Story%2...</td>\n",
       "      <td>244</td>\n",
       "      <td>1</td>\n",
       "      <td>4</td>\n",
       "      <td>1997-11-27 04:20:05</td>\n",
       "      <td>28</td>\n",
       "      <td>80525</td>\n",
       "      <td>...</td>\n",
       "      <td>0</td>\n",
       "      <td>0</td>\n",
       "      <td>0</td>\n",
       "      <td>0</td>\n",
       "      <td>0</td>\n",
       "      <td>0</td>\n",
       "      <td>0</td>\n",
       "      <td>0</td>\n",
       "      <td>80525</td>\n",
       "      <td>CO</td>\n",
       "    </tr>\n",
       "    <tr>\n",
       "      <th>1</th>\n",
       "      <td>1</td>\n",
       "      <td>Toy Story</td>\n",
       "      <td>01-Jan-1995</td>\n",
       "      <td>http://us.imdb.com/M/title-exact?Toy%20Story%2...</td>\n",
       "      <td>298</td>\n",
       "      <td>1</td>\n",
       "      <td>5</td>\n",
       "      <td>1998-01-06 22:34:21</td>\n",
       "      <td>44</td>\n",
       "      <td>01581</td>\n",
       "      <td>...</td>\n",
       "      <td>0</td>\n",
       "      <td>0</td>\n",
       "      <td>0</td>\n",
       "      <td>0</td>\n",
       "      <td>0</td>\n",
       "      <td>0</td>\n",
       "      <td>0</td>\n",
       "      <td>0</td>\n",
       "      <td>NaN</td>\n",
       "      <td>NaN</td>\n",
       "    </tr>\n",
       "    <tr>\n",
       "      <th>2</th>\n",
       "      <td>1</td>\n",
       "      <td>Toy Story</td>\n",
       "      <td>01-Jan-1995</td>\n",
       "      <td>http://us.imdb.com/M/title-exact?Toy%20Story%2...</td>\n",
       "      <td>253</td>\n",
       "      <td>1</td>\n",
       "      <td>5</td>\n",
       "      <td>1998-04-03 18:34:27</td>\n",
       "      <td>26</td>\n",
       "      <td>22903</td>\n",
       "      <td>...</td>\n",
       "      <td>0</td>\n",
       "      <td>0</td>\n",
       "      <td>0</td>\n",
       "      <td>0</td>\n",
       "      <td>0</td>\n",
       "      <td>0</td>\n",
       "      <td>0</td>\n",
       "      <td>0</td>\n",
       "      <td>22903</td>\n",
       "      <td>VA</td>\n",
       "    </tr>\n",
       "    <tr>\n",
       "      <th>3</th>\n",
       "      <td>1</td>\n",
       "      <td>Toy Story</td>\n",
       "      <td>01-Jan-1995</td>\n",
       "      <td>http://us.imdb.com/M/title-exact?Toy%20Story%2...</td>\n",
       "      <td>305</td>\n",
       "      <td>1</td>\n",
       "      <td>5</td>\n",
       "      <td>1998-02-01 08:52:33</td>\n",
       "      <td>23</td>\n",
       "      <td>94086</td>\n",
       "      <td>...</td>\n",
       "      <td>0</td>\n",
       "      <td>0</td>\n",
       "      <td>0</td>\n",
       "      <td>0</td>\n",
       "      <td>0</td>\n",
       "      <td>0</td>\n",
       "      <td>0</td>\n",
       "      <td>0</td>\n",
       "      <td>94086</td>\n",
       "      <td>CA</td>\n",
       "    </tr>\n",
       "    <tr>\n",
       "      <th>4</th>\n",
       "      <td>1</td>\n",
       "      <td>Toy Story</td>\n",
       "      <td>01-Jan-1995</td>\n",
       "      <td>http://us.imdb.com/M/title-exact?Toy%20Story%2...</td>\n",
       "      <td>6</td>\n",
       "      <td>1</td>\n",
       "      <td>4</td>\n",
       "      <td>1997-12-31 20:17:58</td>\n",
       "      <td>42</td>\n",
       "      <td>98101</td>\n",
       "      <td>...</td>\n",
       "      <td>0</td>\n",
       "      <td>0</td>\n",
       "      <td>0</td>\n",
       "      <td>0</td>\n",
       "      <td>0</td>\n",
       "      <td>0</td>\n",
       "      <td>0</td>\n",
       "      <td>0</td>\n",
       "      <td>98101</td>\n",
       "      <td>WA</td>\n",
       "    </tr>\n",
       "  </tbody>\n",
       "</table>\n",
       "<p>5 rows × 55 columns</p>\n",
       "</div>"
      ],
      "text/plain": [
       "   id       title release_date  \\\n",
       "0   1  Toy Story   01-Jan-1995   \n",
       "1   1  Toy Story   01-Jan-1995   \n",
       "2   1  Toy Story   01-Jan-1995   \n",
       "3   1  Toy Story   01-Jan-1995   \n",
       "4   1  Toy Story   01-Jan-1995   \n",
       "\n",
       "                                            imdb_url  user_id  item_id  \\\n",
       "0  http://us.imdb.com/M/title-exact?Toy%20Story%2...      244        1   \n",
       "1  http://us.imdb.com/M/title-exact?Toy%20Story%2...      298        1   \n",
       "2  http://us.imdb.com/M/title-exact?Toy%20Story%2...      253        1   \n",
       "3  http://us.imdb.com/M/title-exact?Toy%20Story%2...      305        1   \n",
       "4  http://us.imdb.com/M/title-exact?Toy%20Story%2...        6        1   \n",
       "\n",
       "   rating            timestamp  age zip_code  ...   genero_Musical  \\\n",
       "0       4  1997-11-27 04:20:05   28    80525  ...                0   \n",
       "1       5  1998-01-06 22:34:21   44    01581  ...                0   \n",
       "2       5  1998-04-03 18:34:27   26    22903  ...                0   \n",
       "3       5  1998-02-01 08:52:33   23    94086  ...                0   \n",
       "4       4  1997-12-31 20:17:58   42    98101  ...                0   \n",
       "\n",
       "   genero_Mystery  genero_Romance  genero_Sci-Fi  genero_Thriller  genero_War  \\\n",
       "0               0               0              0                0           0   \n",
       "1               0               0              0                0           0   \n",
       "2               0               0              0                0           0   \n",
       "3               0               0              0                0           0   \n",
       "4               0               0              0                0           0   \n",
       "\n",
       "   genero_Western  genero_unknown  Zipcode  State  \n",
       "0               0               0    80525     CO  \n",
       "1               0               0      NaN    NaN  \n",
       "2               0               0    22903     VA  \n",
       "3               0               0    94086     CA  \n",
       "4               0               0    98101     WA  \n",
       "\n",
       "[5 rows x 55 columns]"
      ]
     },
     "execution_count": 76,
     "metadata": {},
     "output_type": "execute_result"
    }
   ],
   "source": [
    "movies_with_state = pd.merge(movies_dmy, zipcode_state_final, how=\"left\", left_on=\"zip_code\", right_on=\"Zipcode\")\n",
    "movies_with_state.head()"
   ]
  },
  {
   "cell_type": "code",
   "execution_count": 77,
   "metadata": {
    "collapsed": true
   },
   "outputs": [],
   "source": [
    "#tipos de join: left join; right join; inner join; full outer"
   ]
  },
  {
   "cell_type": "code",
   "execution_count": 79,
   "metadata": {
    "collapsed": true
   },
   "outputs": [],
   "source": [
    "%matplotlib inline\n",
    "import seaborn as sns\n",
    "import matplotlib.pyplot as plt"
   ]
  },
  {
   "cell_type": "code",
   "execution_count": 80,
   "metadata": {},
   "outputs": [
    {
     "data": {
      "text/plain": [
       "<matplotlib.axes._subplots.AxesSubplot at 0x7efd14c9bf60>"
      ]
     },
     "execution_count": 80,
     "metadata": {},
     "output_type": "execute_result"
    },
    {
     "data": {
      "image/png": "[encoded data removed]",
      "text/plain": [
       "<matplotlib.figure.Figure at 0x7efd135c3cc0>"
      ]
     },
     "metadata": {},
     "output_type": "display_data"
    }
   ],
   "source": [
    "plt.xticks(rotation=90)\n",
    "\n",
    "sns.countplot(movies_with_state[\"State\"])"
   ]
  },
  {
   "cell_type": "code",
   "execution_count": 83,
   "metadata": {},
   "outputs": [
    {
     "data": {
      "text/html": [
       "<div>\n",
       "<style>\n",
       "    .dataframe thead tr:only-child th {\n",
       "        text-align: right;\n",
       "    }\n",
       "\n",
       "    .dataframe thead th {\n",
       "        text-align: left;\n",
       "    }\n",
       "\n",
       "    .dataframe tbody tr th {\n",
       "        vertical-align: top;\n",
       "    }\n",
       "</style>\n",
       "<table border=\"1\" class=\"dataframe\">\n",
       "  <thead>\n",
       "    <tr style=\"text-align: right;\">\n",
       "      <th></th>\n",
       "      <th>id</th>\n",
       "      <th>title</th>\n",
       "      <th>release_date</th>\n",
       "      <th>imdb_url</th>\n",
       "      <th>user_id</th>\n",
       "      <th>item_id</th>\n",
       "      <th>rating</th>\n",
       "      <th>timestamp</th>\n",
       "      <th>age</th>\n",
       "      <th>zip_code</th>\n",
       "      <th>...</th>\n",
       "      <th>State_SC</th>\n",
       "      <th>State_SD</th>\n",
       "      <th>State_TN</th>\n",
       "      <th>State_TX</th>\n",
       "      <th>State_UT</th>\n",
       "      <th>State_VA</th>\n",
       "      <th>State_WA</th>\n",
       "      <th>State_WI</th>\n",
       "      <th>State_WV</th>\n",
       "      <th>State_WY</th>\n",
       "    </tr>\n",
       "  </thead>\n",
       "  <tbody>\n",
       "    <tr>\n",
       "      <th>0</th>\n",
       "      <td>1</td>\n",
       "      <td>Toy Story</td>\n",
       "      <td>01-Jan-1995</td>\n",
       "      <td>http://us.imdb.com/M/title-exact?Toy%20Story%2...</td>\n",
       "      <td>244</td>\n",
       "      <td>1</td>\n",
       "      <td>4</td>\n",
       "      <td>1997-11-27 04:20:05</td>\n",
       "      <td>28</td>\n",
       "      <td>80525</td>\n",
       "      <td>...</td>\n",
       "      <td>0</td>\n",
       "      <td>0</td>\n",
       "      <td>0</td>\n",
       "      <td>0</td>\n",
       "      <td>0</td>\n",
       "      <td>0</td>\n",
       "      <td>0</td>\n",
       "      <td>0</td>\n",
       "      <td>0</td>\n",
       "      <td>0</td>\n",
       "    </tr>\n",
       "    <tr>\n",
       "      <th>1</th>\n",
       "      <td>1</td>\n",
       "      <td>Toy Story</td>\n",
       "      <td>01-Jan-1995</td>\n",
       "      <td>http://us.imdb.com/M/title-exact?Toy%20Story%2...</td>\n",
       "      <td>298</td>\n",
       "      <td>1</td>\n",
       "      <td>5</td>\n",
       "      <td>1998-01-06 22:34:21</td>\n",
       "      <td>44</td>\n",
       "      <td>01581</td>\n",
       "      <td>...</td>\n",
       "      <td>0</td>\n",
       "      <td>0</td>\n",
       "      <td>0</td>\n",
       "      <td>0</td>\n",
       "      <td>0</td>\n",
       "      <td>0</td>\n",
       "      <td>0</td>\n",
       "      <td>0</td>\n",
       "      <td>0</td>\n",
       "      <td>0</td>\n",
       "    </tr>\n",
       "    <tr>\n",
       "      <th>2</th>\n",
       "      <td>1</td>\n",
       "      <td>Toy Story</td>\n",
       "      <td>01-Jan-1995</td>\n",
       "      <td>http://us.imdb.com/M/title-exact?Toy%20Story%2...</td>\n",
       "      <td>253</td>\n",
       "      <td>1</td>\n",
       "      <td>5</td>\n",
       "      <td>1998-04-03 18:34:27</td>\n",
       "      <td>26</td>\n",
       "      <td>22903</td>\n",
       "      <td>...</td>\n",
       "      <td>0</td>\n",
       "      <td>0</td>\n",
       "      <td>0</td>\n",
       "      <td>0</td>\n",
       "      <td>0</td>\n",
       "      <td>1</td>\n",
       "      <td>0</td>\n",
       "      <td>0</td>\n",
       "      <td>0</td>\n",
       "      <td>0</td>\n",
       "    </tr>\n",
       "    <tr>\n",
       "      <th>3</th>\n",
       "      <td>1</td>\n",
       "      <td>Toy Story</td>\n",
       "      <td>01-Jan-1995</td>\n",
       "      <td>http://us.imdb.com/M/title-exact?Toy%20Story%2...</td>\n",
       "      <td>305</td>\n",
       "      <td>1</td>\n",
       "      <td>5</td>\n",
       "      <td>1998-02-01 08:52:33</td>\n",
       "      <td>23</td>\n",
       "      <td>94086</td>\n",
       "      <td>...</td>\n",
       "      <td>0</td>\n",
       "      <td>0</td>\n",
       "      <td>0</td>\n",
       "      <td>0</td>\n",
       "      <td>0</td>\n",
       "      <td>0</td>\n",
       "      <td>0</td>\n",
       "      <td>0</td>\n",
       "      <td>0</td>\n",
       "      <td>0</td>\n",
       "    </tr>\n",
       "    <tr>\n",
       "      <th>4</th>\n",
       "      <td>1</td>\n",
       "      <td>Toy Story</td>\n",
       "      <td>01-Jan-1995</td>\n",
       "      <td>http://us.imdb.com/M/title-exact?Toy%20Story%2...</td>\n",
       "      <td>6</td>\n",
       "      <td>1</td>\n",
       "      <td>4</td>\n",
       "      <td>1997-12-31 20:17:58</td>\n",
       "      <td>42</td>\n",
       "      <td>98101</td>\n",
       "      <td>...</td>\n",
       "      <td>0</td>\n",
       "      <td>0</td>\n",
       "      <td>0</td>\n",
       "      <td>0</td>\n",
       "      <td>0</td>\n",
       "      <td>0</td>\n",
       "      <td>1</td>\n",
       "      <td>0</td>\n",
       "      <td>0</td>\n",
       "      <td>0</td>\n",
       "    </tr>\n",
       "  </tbody>\n",
       "</table>\n",
       "<p>5 rows × 99 columns</p>\n",
       "</div>"
      ],
      "text/plain": [
       "   id       title release_date  \\\n",
       "0   1  Toy Story   01-Jan-1995   \n",
       "1   1  Toy Story   01-Jan-1995   \n",
       "2   1  Toy Story   01-Jan-1995   \n",
       "3   1  Toy Story   01-Jan-1995   \n",
       "4   1  Toy Story   01-Jan-1995   \n",
       "\n",
       "                                            imdb_url  user_id  item_id  \\\n",
       "0  http://us.imdb.com/M/title-exact?Toy%20Story%2...      244        1   \n",
       "1  http://us.imdb.com/M/title-exact?Toy%20Story%2...      298        1   \n",
       "2  http://us.imdb.com/M/title-exact?Toy%20Story%2...      253        1   \n",
       "3  http://us.imdb.com/M/title-exact?Toy%20Story%2...      305        1   \n",
       "4  http://us.imdb.com/M/title-exact?Toy%20Story%2...        6        1   \n",
       "\n",
       "   rating            timestamp  age zip_code    ...    State_SC  State_SD  \\\n",
       "0       4  1997-11-27 04:20:05   28    80525    ...           0         0   \n",
       "1       5  1998-01-06 22:34:21   44    01581    ...           0         0   \n",
       "2       5  1998-04-03 18:34:27   26    22903    ...           0         0   \n",
       "3       5  1998-02-01 08:52:33   23    94086    ...           0         0   \n",
       "4       4  1997-12-31 20:17:58   42    98101    ...           0         0   \n",
       "\n",
       "   State_TN  State_TX  State_UT  State_VA  State_WA  State_WI  State_WV  \\\n",
       "0         0         0         0         0         0         0         0   \n",
       "1         0         0         0         0         0         0         0   \n",
       "2         0         0         0         1         0         0         0   \n",
       "3         0         0         0         0         0         0         0   \n",
       "4         0         0         0         0         1         0         0   \n",
       "\n",
       "   State_WY  \n",
       "0         0  \n",
       "1         0  \n",
       "2         0  \n",
       "3         0  \n",
       "4         0  \n",
       "\n",
       "[5 rows x 99 columns]"
      ]
     },
     "execution_count": 83,
     "metadata": {},
     "output_type": "execute_result"
    }
   ],
   "source": [
    "movies_with_state_dmy = pd.get_dummies(movies_with_state, columns=[\"State\"])\n",
    "movies_with_state_dmy.head()"
   ]
  },
  {
   "cell_type": "code",
   "execution_count": 84,
   "metadata": {
    "collapsed": true
   },
   "outputs": [],
   "source": [
    "# os estados agora viraram numeros; os nulos viram '0'; nao ha coluna para nulos"
   ]
  },
  {
   "cell_type": "code",
   "execution_count": 85,
   "metadata": {},
   "outputs": [
    {
     "data": {
      "text/plain": [
       "Index(['id', 'title', 'release_date', 'imdb_url', 'user_id', 'item_id',\n",
       "       'rating', 'timestamp', 'age', 'zip_code', 'faixa_etaria', 'sex_F',\n",
       "       'sex_M', 'ocuppation_administrator', 'ocuppation_artist',\n",
       "       'ocuppation_doctor', 'ocuppation_educator', 'ocuppation_engineer',\n",
       "       'ocuppation_entertainment', 'ocuppation_executive',\n",
       "       'ocuppation_healthcare', 'ocuppation_homemaker', 'ocuppation_lawyer',\n",
       "       'ocuppation_librarian', 'ocuppation_marketing', 'ocuppation_none',\n",
       "       'ocuppation_other', 'ocuppation_programmer', 'ocuppation_retired',\n",
       "       'ocuppation_salesman', 'ocuppation_scientist', 'ocuppation_student',\n",
       "       'ocuppation_technician', 'ocuppation_writer', 'genero_Action',\n",
       "       'genero_Adventure', 'genero_Animation', 'genero_Children's',\n",
       "       'genero_Comedy', 'genero_Crime', 'genero_Documentary', 'genero_Drama',\n",
       "       'genero_Fantasy', 'genero_Film-Noir', 'genero_Horror', 'genero_Musical',\n",
       "       'genero_Mystery', 'genero_Romance', 'genero_Sci-Fi', 'genero_Thriller',\n",
       "       'genero_War', 'genero_Western', 'genero_unknown', 'Zipcode', 'State_AK',\n",
       "       'State_AL', 'State_AP', 'State_AR', 'State_AZ', 'State_CA', 'State_CO',\n",
       "       'State_DC', 'State_DE', 'State_FL', 'State_GA', 'State_HI', 'State_IA',\n",
       "       'State_ID', 'State_IL', 'State_IN', 'State_KS', 'State_KY', 'State_LA',\n",
       "       'State_MD', 'State_MI', 'State_MN', 'State_MO', 'State_MS', 'State_MT',\n",
       "       'State_NC', 'State_ND', 'State_NE', 'State_NM', 'State_NV', 'State_NY',\n",
       "       'State_OH', 'State_OK', 'State_OR', 'State_PA', 'State_SC', 'State_SD',\n",
       "       'State_TN', 'State_TX', 'State_UT', 'State_VA', 'State_WA', 'State_WI',\n",
       "       'State_WV', 'State_WY'],\n",
       "      dtype='object')"
      ]
     },
     "execution_count": 85,
     "metadata": {},
     "output_type": "execute_result"
    }
   ],
   "source": [
    "movies_with_state_dmy.columns"
   ]
  },
  {
   "cell_type": "code",
   "execution_count": 87,
   "metadata": {
    "collapsed": true
   },
   "outputs": [],
   "source": [
    "movies_with_state_dmy.to_csv(\"movielens_final.csv\", index=False)\n",
    "# index False tira o 'id', na coluna da esquerda"
   ]
  },
  {
   "cell_type": "markdown",
   "metadata": {},
   "source": [
    "# K-means"
   ]
  },
  {
   "cell_type": "markdown",
   "metadata": {},
   "source": [
    "K-means eh um algoritmo de agrupamento. A ideia eh agrupar os dados por proximidade a um ponto central. Para falarmos sobre proximidade devemos entender o conceito de distancia e similaridade."
   ]
  },
  {
   "cell_type": "markdown",
   "metadata": {},
   "source": [
    "#### Similaridade e distância"
   ]
  },
  {
   "cell_type": "markdown",
   "metadata": {},
   "source": [
    "Vamos analisar o conceito de distancia inicialmente.\n",
    "Vamos imaginar um conjunto de dados que pode ser representado por dois volumes numericos, x1 e x2."
   ]
  },
  {
   "cell_type": "code",
   "execution_count": 90,
   "metadata": {},
   "outputs": [
    {
     "data": {
      "text/html": [
       "<div>\n",
       "<style>\n",
       "    .dataframe thead tr:only-child th {\n",
       "        text-align: right;\n",
       "    }\n",
       "\n",
       "    .dataframe thead th {\n",
       "        text-align: left;\n",
       "    }\n",
       "\n",
       "    .dataframe tbody tr th {\n",
       "        vertical-align: top;\n",
       "    }\n",
       "</style>\n",
       "<table border=\"1\" class=\"dataframe\">\n",
       "  <thead>\n",
       "    <tr style=\"text-align: right;\">\n",
       "      <th></th>\n",
       "      <th>X1</th>\n",
       "      <th>X2</th>\n",
       "    </tr>\n",
       "  </thead>\n",
       "  <tbody>\n",
       "    <tr>\n",
       "      <th>0</th>\n",
       "      <td>1.0</td>\n",
       "      <td>2.0</td>\n",
       "    </tr>\n",
       "    <tr>\n",
       "      <th>1</th>\n",
       "      <td>2.0</td>\n",
       "      <td>1.0</td>\n",
       "    </tr>\n",
       "    <tr>\n",
       "      <th>2</th>\n",
       "      <td>2.0</td>\n",
       "      <td>3.2</td>\n",
       "    </tr>\n",
       "    <tr>\n",
       "      <th>3</th>\n",
       "      <td>3.0</td>\n",
       "      <td>2.5</td>\n",
       "    </tr>\n",
       "    <tr>\n",
       "      <th>4</th>\n",
       "      <td>4.0</td>\n",
       "      <td>1.0</td>\n",
       "    </tr>\n",
       "    <tr>\n",
       "      <th>5</th>\n",
       "      <td>1.2</td>\n",
       "      <td>1.0</td>\n",
       "    </tr>\n",
       "    <tr>\n",
       "      <th>6</th>\n",
       "      <td>0.2</td>\n",
       "      <td>7.3</td>\n",
       "    </tr>\n",
       "  </tbody>\n",
       "</table>\n",
       "</div>"
      ],
      "text/plain": [
       "    X1   X2\n",
       "0  1.0  2.0\n",
       "1  2.0  1.0\n",
       "2  2.0  3.2\n",
       "3  3.0  2.5\n",
       "4  4.0  1.0\n",
       "5  1.2  1.0\n",
       "6  0.2  7.3"
      ]
     },
     "execution_count": 90,
     "metadata": {},
     "output_type": "execute_result"
    }
   ],
   "source": [
    "dados_matrix = [[1,2],\n",
    "                [2,1],\n",
    "                [2,3.2],\n",
    "                [3,2.5],\n",
    "                [4,1],\n",
    "                [1.2,1],\n",
    "                [0.2,7.3]]\n",
    "dados = pd.DataFrame(dados_matrix,columns=[\"X1\", \"X2\"])\n",
    "dados"
   ]
  },
  {
   "cell_type": "code",
   "execution_count": 96,
   "metadata": {
    "collapsed": true
   },
   "outputs": [],
   "source": [
    "# aqui tem um grafico estilo plano cartesiano"
   ]
  },
  {
   "cell_type": "code",
   "execution_count": 93,
   "metadata": {
    "collapsed": true
   },
   "outputs": [],
   "source": [
    "def dist(a, b):\n",
    "    somatorio = 0.0\n",
    "    for i in range(len(a)):\n",
    "        somatorio = somatorio + (a[i]-b[i])**2\n",
    "    return somatorio**0.5"
   ]
  },
  {
   "cell_type": "code",
   "execution_count": 95,
   "metadata": {},
   "outputs": [
    {
     "name": "stdout",
     "output_type": "stream",
     "text": [
      "\n",
      "a distancia de [1, 2] a [2, 3.2] eh de 1.562049935181331\n",
      "\n"
     ]
    }
   ],
   "source": [
    "dado_a = dados_matrix[0]\n",
    "dado_b = dados_matrix[2]\n",
    "d_ab = dist(dado_a, dado_b)\n",
    "\n",
    "print(\"\"\"\n",
    "a distancia de {} a {} eh de {}\n",
    "\"\"\".format(dado_a, dado_b, d_ab))"
   ]
  },
  {
   "cell_type": "code",
   "execution_count": 97,
   "metadata": {
    "collapsed": true
   },
   "outputs": [],
   "source": [
    "####"
   ]
  },
  {
   "cell_type": "code",
   "execution_count": null,
   "metadata": {
    "collapsed": true
   },
   "outputs": [],
   "source": []
  },
  {
   "cell_type": "code",
   "execution_count": 100,
   "metadata": {},
   "outputs": [
    {
     "data": {
      "text/plain": [
       "Index(['id', 'title', 'release_date', 'imdb_url', 'user_id', 'item_id',\n",
       "       'rating', 'timestamp', 'age', 'zip_code', 'faixa_etaria', 'sex_F',\n",
       "       'sex_M', 'ocuppation_administrator', 'ocuppation_artist',\n",
       "       'ocuppation_doctor', 'ocuppation_educator', 'ocuppation_engineer',\n",
       "       'ocuppation_entertainment', 'ocuppation_executive',\n",
       "       'ocuppation_healthcare', 'ocuppation_homemaker', 'ocuppation_lawyer',\n",
       "       'ocuppation_librarian', 'ocuppation_marketing', 'ocuppation_none',\n",
       "       'ocuppation_other', 'ocuppation_programmer', 'ocuppation_retired',\n",
       "       'ocuppation_salesman', 'ocuppation_scientist', 'ocuppation_student',\n",
       "       'ocuppation_technician', 'ocuppation_writer', 'genero_Action',\n",
       "       'genero_Adventure', 'genero_Animation', 'genero_Children's',\n",
       "       'genero_Comedy', 'genero_Crime', 'genero_Documentary', 'genero_Drama',\n",
       "       'genero_Fantasy', 'genero_Film-Noir', 'genero_Horror', 'genero_Musical',\n",
       "       'genero_Mystery', 'genero_Romance', 'genero_Sci-Fi', 'genero_Thriller',\n",
       "       'genero_War', 'genero_Western', 'genero_unknown', 'Zipcode', 'State_AK',\n",
       "       'State_AL', 'State_AP', 'State_AR', 'State_AZ', 'State_CA', 'State_CO',\n",
       "       'State_DC', 'State_DE', 'State_FL', 'State_GA', 'State_HI', 'State_IA',\n",
       "       'State_ID', 'State_IL', 'State_IN', 'State_KS', 'State_KY', 'State_LA',\n",
       "       'State_MD', 'State_MI', 'State_MN', 'State_MO', 'State_MS', 'State_MT',\n",
       "       'State_NC', 'State_ND', 'State_NE', 'State_NM', 'State_NV', 'State_NY',\n",
       "       'State_OH', 'State_OK', 'State_OR', 'State_PA', 'State_SC', 'State_SD',\n",
       "       'State_TN', 'State_TX', 'State_UT', 'State_VA', 'State_WA', 'State_WI',\n",
       "       'State_WV', 'State_WY'],\n",
       "      dtype='object')"
      ]
     },
     "execution_count": 100,
     "metadata": {},
     "output_type": "execute_result"
    }
   ],
   "source": [
    "movies_with_state_dmy.columns"
   ]
  },
  {
   "cell_type": "code",
   "execution_count": 101,
   "metadata": {
    "collapsed": true
   },
   "outputs": [],
   "source": [
    "all_columns = list(movies_with_state_dmy.columns)"
   ]
  },
  {
   "cell_type": "code",
   "execution_count": 102,
   "metadata": {
    "collapsed": true
   },
   "outputs": [],
   "source": [
    "ocuppation_state_columns = []\n",
    "for c in all_columns:\n",
    "    if c.startswith(\"State_\") or c.startswith(\"ocuppation_\"):\n",
    "        ocuppation_state_columns.append(c)"
   ]
  },
  {
   "cell_type": "code",
   "execution_count": 103,
   "metadata": {},
   "outputs": [
    {
     "name": "stdout",
     "output_type": "stream",
     "text": [
      "\n",
      "As colunas selecionadas foram\" \n",
      " ['ocuppation_administrator', 'ocuppation_artist', 'ocuppation_doctor', 'ocuppation_educator', 'ocuppation_engineer', 'ocuppation_entertainment', 'ocuppation_executive', 'ocuppation_healthcare', 'ocuppation_homemaker', 'ocuppation_lawyer', 'ocuppation_librarian', 'ocuppation_marketing', 'ocuppation_none', 'ocuppation_other', 'ocuppation_programmer', 'ocuppation_retired', 'ocuppation_salesman', 'ocuppation_scientist', 'ocuppation_student', 'ocuppation_technician', 'ocuppation_writer', 'State_AK', 'State_AL', 'State_AP', 'State_AR', 'State_AZ', 'State_CA', 'State_CO', 'State_DC', 'State_DE', 'State_FL', 'State_GA', 'State_HI', 'State_IA', 'State_ID', 'State_IL', 'State_IN', 'State_KS', 'State_KY', 'State_LA', 'State_MD', 'State_MI', 'State_MN', 'State_MO', 'State_MS', 'State_MT', 'State_NC', 'State_ND', 'State_NE', 'State_NM', 'State_NV', 'State_NY', 'State_OH', 'State_OK', 'State_OR', 'State_PA', 'State_SC', 'State_SD', 'State_TN', 'State_TX', 'State_UT', 'State_VA', 'State_WA', 'State_WI', 'State_WV', 'State_WY']\n",
      "\n"
     ]
    }
   ],
   "source": [
    "print(\"\"\"\n",
    "As colunas selecionadas foram\" \\n {}\n",
    "\"\"\".format(ocuppation_state_columns))"
   ]
  },
  {
   "cell_type": "code",
   "execution_count": 104,
   "metadata": {
    "collapsed": true
   },
   "outputs": [],
   "source": [
    "columns_to_select = [\"age\",\n",
    "                    \"sex_F\",\n",
    "                    \"sex_M\",\n",
    "                    \"user_id\"] + ocuppation_state_columns"
   ]
  },
  {
   "cell_type": "code",
   "execution_count": 105,
   "metadata": {},
   "outputs": [
    {
     "data": {
      "text/plain": [
       "['age',\n",
       " 'sex_F',\n",
       " 'sex_M',\n",
       " 'user_id',\n",
       " 'ocuppation_administrator',\n",
       " 'ocuppation_artist',\n",
       " 'ocuppation_doctor',\n",
       " 'ocuppation_educator',\n",
       " 'ocuppation_engineer',\n",
       " 'ocuppation_entertainment',\n",
       " 'ocuppation_executive',\n",
       " 'ocuppation_healthcare',\n",
       " 'ocuppation_homemaker',\n",
       " 'ocuppation_lawyer',\n",
       " 'ocuppation_librarian',\n",
       " 'ocuppation_marketing',\n",
       " 'ocuppation_none',\n",
       " 'ocuppation_other',\n",
       " 'ocuppation_programmer',\n",
       " 'ocuppation_retired',\n",
       " 'ocuppation_salesman',\n",
       " 'ocuppation_scientist',\n",
       " 'ocuppation_student',\n",
       " 'ocuppation_technician',\n",
       " 'ocuppation_writer',\n",
       " 'State_AK',\n",
       " 'State_AL',\n",
       " 'State_AP',\n",
       " 'State_AR',\n",
       " 'State_AZ',\n",
       " 'State_CA',\n",
       " 'State_CO',\n",
       " 'State_DC',\n",
       " 'State_DE',\n",
       " 'State_FL',\n",
       " 'State_GA',\n",
       " 'State_HI',\n",
       " 'State_IA',\n",
       " 'State_ID',\n",
       " 'State_IL',\n",
       " 'State_IN',\n",
       " 'State_KS',\n",
       " 'State_KY',\n",
       " 'State_LA',\n",
       " 'State_MD',\n",
       " 'State_MI',\n",
       " 'State_MN',\n",
       " 'State_MO',\n",
       " 'State_MS',\n",
       " 'State_MT',\n",
       " 'State_NC',\n",
       " 'State_ND',\n",
       " 'State_NE',\n",
       " 'State_NM',\n",
       " 'State_NV',\n",
       " 'State_NY',\n",
       " 'State_OH',\n",
       " 'State_OK',\n",
       " 'State_OR',\n",
       " 'State_PA',\n",
       " 'State_SC',\n",
       " 'State_SD',\n",
       " 'State_TN',\n",
       " 'State_TX',\n",
       " 'State_UT',\n",
       " 'State_VA',\n",
       " 'State_WA',\n",
       " 'State_WI',\n",
       " 'State_WV',\n",
       " 'State_WY']"
      ]
     },
     "execution_count": 105,
     "metadata": {},
     "output_type": "execute_result"
    }
   ],
   "source": [
    "columns_to_select"
   ]
  },
  {
   "cell_type": "code",
   "execution_count": 107,
   "metadata": {},
   "outputs": [
    {
     "data": {
      "text/html": [
       "<div>\n",
       "<style>\n",
       "    .dataframe thead tr:only-child th {\n",
       "        text-align: right;\n",
       "    }\n",
       "\n",
       "    .dataframe thead th {\n",
       "        text-align: left;\n",
       "    }\n",
       "\n",
       "    .dataframe tbody tr th {\n",
       "        vertical-align: top;\n",
       "    }\n",
       "</style>\n",
       "<table border=\"1\" class=\"dataframe\">\n",
       "  <thead>\n",
       "    <tr style=\"text-align: right;\">\n",
       "      <th></th>\n",
       "      <th>age</th>\n",
       "      <th>sex_F</th>\n",
       "      <th>sex_M</th>\n",
       "      <th>user_id</th>\n",
       "      <th>ocuppation_administrator</th>\n",
       "      <th>ocuppation_artist</th>\n",
       "      <th>ocuppation_doctor</th>\n",
       "      <th>ocuppation_educator</th>\n",
       "      <th>ocuppation_engineer</th>\n",
       "      <th>ocuppation_entertainment</th>\n",
       "      <th>...</th>\n",
       "      <th>State_SC</th>\n",
       "      <th>State_SD</th>\n",
       "      <th>State_TN</th>\n",
       "      <th>State_TX</th>\n",
       "      <th>State_UT</th>\n",
       "      <th>State_VA</th>\n",
       "      <th>State_WA</th>\n",
       "      <th>State_WI</th>\n",
       "      <th>State_WV</th>\n",
       "      <th>State_WY</th>\n",
       "    </tr>\n",
       "  </thead>\n",
       "  <tbody>\n",
       "    <tr>\n",
       "      <th>0</th>\n",
       "      <td>28</td>\n",
       "      <td>0</td>\n",
       "      <td>1</td>\n",
       "      <td>244</td>\n",
       "      <td>0</td>\n",
       "      <td>0</td>\n",
       "      <td>0</td>\n",
       "      <td>0</td>\n",
       "      <td>0</td>\n",
       "      <td>0</td>\n",
       "      <td>...</td>\n",
       "      <td>0</td>\n",
       "      <td>0</td>\n",
       "      <td>0</td>\n",
       "      <td>0</td>\n",
       "      <td>0</td>\n",
       "      <td>0</td>\n",
       "      <td>0</td>\n",
       "      <td>0</td>\n",
       "      <td>0</td>\n",
       "      <td>0</td>\n",
       "    </tr>\n",
       "    <tr>\n",
       "      <th>1</th>\n",
       "      <td>44</td>\n",
       "      <td>0</td>\n",
       "      <td>1</td>\n",
       "      <td>298</td>\n",
       "      <td>0</td>\n",
       "      <td>0</td>\n",
       "      <td>0</td>\n",
       "      <td>0</td>\n",
       "      <td>0</td>\n",
       "      <td>0</td>\n",
       "      <td>...</td>\n",
       "      <td>0</td>\n",
       "      <td>0</td>\n",
       "      <td>0</td>\n",
       "      <td>0</td>\n",
       "      <td>0</td>\n",
       "      <td>0</td>\n",
       "      <td>0</td>\n",
       "      <td>0</td>\n",
       "      <td>0</td>\n",
       "      <td>0</td>\n",
       "    </tr>\n",
       "    <tr>\n",
       "      <th>2</th>\n",
       "      <td>26</td>\n",
       "      <td>1</td>\n",
       "      <td>0</td>\n",
       "      <td>253</td>\n",
       "      <td>0</td>\n",
       "      <td>0</td>\n",
       "      <td>0</td>\n",
       "      <td>0</td>\n",
       "      <td>0</td>\n",
       "      <td>0</td>\n",
       "      <td>...</td>\n",
       "      <td>0</td>\n",
       "      <td>0</td>\n",
       "      <td>0</td>\n",
       "      <td>0</td>\n",
       "      <td>0</td>\n",
       "      <td>1</td>\n",
       "      <td>0</td>\n",
       "      <td>0</td>\n",
       "      <td>0</td>\n",
       "      <td>0</td>\n",
       "    </tr>\n",
       "    <tr>\n",
       "      <th>3</th>\n",
       "      <td>23</td>\n",
       "      <td>0</td>\n",
       "      <td>1</td>\n",
       "      <td>305</td>\n",
       "      <td>0</td>\n",
       "      <td>0</td>\n",
       "      <td>0</td>\n",
       "      <td>0</td>\n",
       "      <td>0</td>\n",
       "      <td>0</td>\n",
       "      <td>...</td>\n",
       "      <td>0</td>\n",
       "      <td>0</td>\n",
       "      <td>0</td>\n",
       "      <td>0</td>\n",
       "      <td>0</td>\n",
       "      <td>0</td>\n",
       "      <td>0</td>\n",
       "      <td>0</td>\n",
       "      <td>0</td>\n",
       "      <td>0</td>\n",
       "    </tr>\n",
       "    <tr>\n",
       "      <th>4</th>\n",
       "      <td>42</td>\n",
       "      <td>0</td>\n",
       "      <td>1</td>\n",
       "      <td>6</td>\n",
       "      <td>0</td>\n",
       "      <td>0</td>\n",
       "      <td>0</td>\n",
       "      <td>0</td>\n",
       "      <td>0</td>\n",
       "      <td>0</td>\n",
       "      <td>...</td>\n",
       "      <td>0</td>\n",
       "      <td>0</td>\n",
       "      <td>0</td>\n",
       "      <td>0</td>\n",
       "      <td>0</td>\n",
       "      <td>0</td>\n",
       "      <td>1</td>\n",
       "      <td>0</td>\n",
       "      <td>0</td>\n",
       "      <td>0</td>\n",
       "    </tr>\n",
       "  </tbody>\n",
       "</table>\n",
       "<p>5 rows × 70 columns</p>\n",
       "</div>"
      ],
      "text/plain": [
       "   age  sex_F  sex_M  user_id  ocuppation_administrator  ocuppation_artist  \\\n",
       "0   28      0      1      244                         0                  0   \n",
       "1   44      0      1      298                         0                  0   \n",
       "2   26      1      0      253                         0                  0   \n",
       "3   23      0      1      305                         0                  0   \n",
       "4   42      0      1        6                         0                  0   \n",
       "\n",
       "   ocuppation_doctor  ocuppation_educator  ocuppation_engineer  \\\n",
       "0                  0                    0                    0   \n",
       "1                  0                    0                    0   \n",
       "2                  0                    0                    0   \n",
       "3                  0                    0                    0   \n",
       "4                  0                    0                    0   \n",
       "\n",
       "   ocuppation_entertainment    ...     State_SC  State_SD  State_TN  State_TX  \\\n",
       "0                         0    ...            0         0         0         0   \n",
       "1                         0    ...            0         0         0         0   \n",
       "2                         0    ...            0         0         0         0   \n",
       "3                         0    ...            0         0         0         0   \n",
       "4                         0    ...            0         0         0         0   \n",
       "\n",
       "   State_UT  State_VA  State_WA  State_WI  State_WV  State_WY  \n",
       "0         0         0         0         0         0         0  \n",
       "1         0         0         0         0         0         0  \n",
       "2         0         1         0         0         0         0  \n",
       "3         0         0         0         0         0         0  \n",
       "4         0         0         1         0         0         0  \n",
       "\n",
       "[5 rows x 70 columns]"
      ]
     },
     "execution_count": 107,
     "metadata": {},
     "output_type": "execute_result"
    }
   ],
   "source": [
    "df_user = movies_with_state_dmy[columns_to_select]\n",
    "df_user.head()"
   ]
  },
  {
   "cell_type": "code",
   "execution_count": 108,
   "metadata": {},
   "outputs": [
    {
     "data": {
      "text/plain": [
       "(100000, 70)"
      ]
     },
     "execution_count": 108,
     "metadata": {},
     "output_type": "execute_result"
    }
   ],
   "source": [
    "df_user.shape"
   ]
  },
  {
   "cell_type": "code",
   "execution_count": 109,
   "metadata": {},
   "outputs": [
    {
     "data": {
      "text/plain": [
       "(943, 70)"
      ]
     },
     "execution_count": 109,
     "metadata": {},
     "output_type": "execute_result"
    }
   ],
   "source": [
    "df_user_final = df_user.drop_duplicates()\n",
    "df_user_final.shape"
   ]
  },
  {
   "cell_type": "markdown",
   "metadata": {},
   "source": [
    "## Centróide de um grupo"
   ]
  },
  {
   "cell_type": "markdown",
   "metadata": {},
   "source": [
    "Outro conceito importante para a compreensao do algoritmo eh o conceito de centróide.\n",
    "Centróide eh um ponto calculado que representa o centro do conjunto.\n",
    "Um cálculo normal de centróide eh a média dos atributos.\n",
    "Para entender melhor, vamos calcular o centróide dos dados de atributo x1 e x2."
   ]
  },
  {
   "cell_type": "markdown",
   "metadata": {},
   "source": [
    "__Google sobre centróide__: ponto em que as coordenadas são as médias das coordenadas dos pontos que formam uma figura geométrica; baricentro, centro geométrico."
   ]
  },
  {
   "cell_type": "code",
   "execution_count": 111,
   "metadata": {},
   "outputs": [
    {
     "data": {
      "text/html": [
       "<div>\n",
       "<style>\n",
       "    .dataframe thead tr:only-child th {\n",
       "        text-align: right;\n",
       "    }\n",
       "\n",
       "    .dataframe thead th {\n",
       "        text-align: left;\n",
       "    }\n",
       "\n",
       "    .dataframe tbody tr th {\n",
       "        vertical-align: top;\n",
       "    }\n",
       "</style>\n",
       "<table border=\"1\" class=\"dataframe\">\n",
       "  <thead>\n",
       "    <tr style=\"text-align: right;\">\n",
       "      <th></th>\n",
       "      <th>X1</th>\n",
       "      <th>X2</th>\n",
       "    </tr>\n",
       "  </thead>\n",
       "  <tbody>\n",
       "    <tr>\n",
       "      <th>0</th>\n",
       "      <td>1.0</td>\n",
       "      <td>2.0</td>\n",
       "    </tr>\n",
       "    <tr>\n",
       "      <th>1</th>\n",
       "      <td>2.0</td>\n",
       "      <td>1.0</td>\n",
       "    </tr>\n",
       "    <tr>\n",
       "      <th>2</th>\n",
       "      <td>2.0</td>\n",
       "      <td>3.2</td>\n",
       "    </tr>\n",
       "    <tr>\n",
       "      <th>3</th>\n",
       "      <td>3.0</td>\n",
       "      <td>2.5</td>\n",
       "    </tr>\n",
       "    <tr>\n",
       "      <th>4</th>\n",
       "      <td>4.0</td>\n",
       "      <td>1.0</td>\n",
       "    </tr>\n",
       "    <tr>\n",
       "      <th>5</th>\n",
       "      <td>1.2</td>\n",
       "      <td>1.0</td>\n",
       "    </tr>\n",
       "    <tr>\n",
       "      <th>6</th>\n",
       "      <td>0.2</td>\n",
       "      <td>7.3</td>\n",
       "    </tr>\n",
       "  </tbody>\n",
       "</table>\n",
       "</div>"
      ],
      "text/plain": [
       "    X1   X2\n",
       "0  1.0  2.0\n",
       "1  2.0  1.0\n",
       "2  2.0  3.2\n",
       "3  3.0  2.5\n",
       "4  4.0  1.0\n",
       "5  1.2  1.0\n",
       "6  0.2  7.3"
      ]
     },
     "execution_count": 111,
     "metadata": {},
     "output_type": "execute_result"
    }
   ],
   "source": [
    "dados"
   ]
  },
  {
   "cell_type": "markdown",
   "metadata": {},
   "source": [
    "Vamos usar o método mean() da coluna para encontrar a média dos valores"
   ]
  },
  {
   "cell_type": "code",
   "execution_count": 112,
   "metadata": {},
   "outputs": [
    {
     "name": "stdout",
     "output_type": "stream",
     "text": [
      "\n",
      "O centroid dos dados eh [[1.9142857142857141], [2.5714285714285716]]\n",
      "\n"
     ]
    }
   ],
   "source": [
    "centroid_x1 = [dados[\"X1\"].mean()]\n",
    "centroid_x2 = [dados[\"X2\"].mean()]\n",
    "print(\"\"\"\n",
    "O centroid dos dados eh [{}, {}]\n",
    "\"\"\".format(centroid_x1, centroid_x2))"
   ]
  },
  {
   "cell_type": "code",
   "execution_count": 114,
   "metadata": {},
   "outputs": [
    {
     "data": {
      "text/plain": [
       "[<matplotlib.lines.Line2D at 0x7efd130b2f28>]"
      ]
     },
     "execution_count": 114,
     "metadata": {},
     "output_type": "execute_result"
    },
    {
     "data": {
      "image/png": "[encoded data removed]",
      "text/plain": [
       "<matplotlib.figure.Figure at 0x7efd130b2f60>"
      ]
     },
     "metadata": {},
     "output_type": "display_data"
    }
   ],
   "source": [
    "plt.plot(dados[\"X1\"],dados[\"X2\"],\"ob\") #bolas azuis\n",
    "plt.plot(centroid_x1,centroid_x2,\"or\") #bola vermelha, que eh o centroide"
   ]
  },
  {
   "cell_type": "code",
   "execution_count": 119,
   "metadata": {
    "collapsed": true
   },
   "outputs": [],
   "source": [
    "def centroide(df):\n",
    "    result = {}\n",
    "    cols = list(df.columns)\n",
    "    for c in cols:\n",
    "        result[c] = df[c].mean()\n",
    "    return result"
   ]
  },
  {
   "cell_type": "code",
   "execution_count": 120,
   "metadata": {},
   "outputs": [
    {
     "data": {
      "text/plain": [
       "{'State_AK': 0.0053022269353128317,\n",
       " 'State_AL': 0.0031813361611876989,\n",
       " 'State_AP': 0.0010604453870625664,\n",
       " 'State_AR': 0.0010604453870625664,\n",
       " 'State_AZ': 0.014846235418875928,\n",
       " 'State_CA': 0.12301166489925769,\n",
       " 'State_CO': 0.021208907741251327,\n",
       " 'State_DC': 0.014846235418875928,\n",
       " 'State_DE': 0.0031813361611876989,\n",
       " 'State_FL': 0.025450689289501591,\n",
       " 'State_GA': 0.020148462354188761,\n",
       " 'State_HI': 0.0021208907741251328,\n",
       " 'State_IA': 0.014846235418875928,\n",
       " 'State_ID': 0.007423117709437964,\n",
       " 'State_IL': 0.053022269353128315,\n",
       " 'State_IN': 0.0095440084835630972,\n",
       " 'State_KS': 0.0042417815482502655,\n",
       " 'State_KY': 0.01166489925768823,\n",
       " 'State_LA': 0.0063626723223753979,\n",
       " 'State_MD': 0.02863202545068929,\n",
       " 'State_MI': 0.024390243902439025,\n",
       " 'State_MN': 0.082714740190880168,\n",
       " 'State_MO': 0.018027571580063628,\n",
       " 'State_MS': 0.0031813361611876989,\n",
       " 'State_MT': 0.0021208907741251328,\n",
       " 'State_NC': 0.020148462354188761,\n",
       " 'State_ND': 0.0021208907741251328,\n",
       " 'State_NE': 0.0063626723223753979,\n",
       " 'State_NM': 0.0021208907741251328,\n",
       " 'State_NV': 0.0031813361611876989,\n",
       " 'State_NY': 0.06362672322375397,\n",
       " 'State_OH': 0.033934252386002124,\n",
       " 'State_OK': 0.0095440084835630972,\n",
       " 'State_OR': 0.021208907741251327,\n",
       " 'State_PA': 0.036055143160127257,\n",
       " 'State_SC': 0.01166489925768823,\n",
       " 'State_SD': 0.0010604453870625664,\n",
       " 'State_TN': 0.012725344644750796,\n",
       " 'State_TX': 0.054082714740190878,\n",
       " 'State_UT': 0.0095440084835630972,\n",
       " 'State_VA': 0.02863202545068929,\n",
       " 'State_WA': 0.025450689289501591,\n",
       " 'State_WI': 0.023329798515376459,\n",
       " 'State_WV': 0.0031813361611876989,\n",
       " 'State_WY': 0.0010604453870625664,\n",
       " 'age': 34.051961823966067,\n",
       " 'ocuppation_administrator': 0.083775185577942737,\n",
       " 'ocuppation_artist': 0.029692470837751856,\n",
       " 'ocuppation_doctor': 0.007423117709437964,\n",
       " 'ocuppation_educator': 0.1007423117709438,\n",
       " 'ocuppation_engineer': 0.071049840933191943,\n",
       " 'ocuppation_entertainment': 0.019088016967126194,\n",
       " 'ocuppation_executive': 0.033934252386002124,\n",
       " 'ocuppation_healthcare': 0.016967126193001062,\n",
       " 'ocuppation_homemaker': 0.007423117709437964,\n",
       " 'ocuppation_lawyer': 0.012725344644750796,\n",
       " 'ocuppation_librarian': 0.054082714740190878,\n",
       " 'ocuppation_marketing': 0.027571580063626724,\n",
       " 'ocuppation_none': 0.0095440084835630972,\n",
       " 'ocuppation_other': 0.11134676564156946,\n",
       " 'ocuppation_programmer': 0.069989395546129374,\n",
       " 'ocuppation_retired': 0.014846235418875928,\n",
       " 'ocuppation_salesman': 0.012725344644750796,\n",
       " 'ocuppation_scientist': 0.032873806998939555,\n",
       " 'ocuppation_student': 0.20784729586426298,\n",
       " 'ocuppation_technician': 0.02863202545068929,\n",
       " 'ocuppation_writer': 0.047720042417815481,\n",
       " 'sex_F': 0.28950159066808057,\n",
       " 'sex_M': 0.71049840933191943,\n",
       " 'user_id': 472.0}"
      ]
     },
     "execution_count": 120,
     "metadata": {},
     "output_type": "execute_result"
    }
   ],
   "source": [
    "centroide(df_user_final)"
   ]
  },
  {
   "cell_type": "code",
   "execution_count": 121,
   "metadata": {
    "collapsed": true
   },
   "outputs": [],
   "source": [
    "def centroide_n(df):\n",
    "    return df.mean()"
   ]
  },
  {
   "cell_type": "code",
   "execution_count": 122,
   "metadata": {},
   "outputs": [
    {
     "data": {
      "text/plain": [
       "age                          34.051962\n",
       "sex_F                         0.289502\n",
       "sex_M                         0.710498\n",
       "user_id                     472.000000\n",
       "ocuppation_administrator      0.083775\n",
       "ocuppation_artist             0.029692\n",
       "ocuppation_doctor             0.007423\n",
       "ocuppation_educator           0.100742\n",
       "ocuppation_engineer           0.071050\n",
       "ocuppation_entertainment      0.019088\n",
       "ocuppation_executive          0.033934\n",
       "ocuppation_healthcare         0.016967\n",
       "ocuppation_homemaker          0.007423\n",
       "ocuppation_lawyer             0.012725\n",
       "ocuppation_librarian          0.054083\n",
       "ocuppation_marketing          0.027572\n",
       "ocuppation_none               0.009544\n",
       "ocuppation_other              0.111347\n",
       "ocuppation_programmer         0.069989\n",
       "ocuppation_retired            0.014846\n",
       "ocuppation_salesman           0.012725\n",
       "ocuppation_scientist          0.032874\n",
       "ocuppation_student            0.207847\n",
       "ocuppation_technician         0.028632\n",
       "ocuppation_writer             0.047720\n",
       "State_AK                      0.005302\n",
       "State_AL                      0.003181\n",
       "State_AP                      0.001060\n",
       "State_AR                      0.001060\n",
       "State_AZ                      0.014846\n",
       "                               ...    \n",
       "State_IN                      0.009544\n",
       "State_KS                      0.004242\n",
       "State_KY                      0.011665\n",
       "State_LA                      0.006363\n",
       "State_MD                      0.028632\n",
       "State_MI                      0.024390\n",
       "State_MN                      0.082715\n",
       "State_MO                      0.018028\n",
       "State_MS                      0.003181\n",
       "State_MT                      0.002121\n",
       "State_NC                      0.020148\n",
       "State_ND                      0.002121\n",
       "State_NE                      0.006363\n",
       "State_NM                      0.002121\n",
       "State_NV                      0.003181\n",
       "State_NY                      0.063627\n",
       "State_OH                      0.033934\n",
       "State_OK                      0.009544\n",
       "State_OR                      0.021209\n",
       "State_PA                      0.036055\n",
       "State_SC                      0.011665\n",
       "State_SD                      0.001060\n",
       "State_TN                      0.012725\n",
       "State_TX                      0.054083\n",
       "State_UT                      0.009544\n",
       "State_VA                      0.028632\n",
       "State_WA                      0.025451\n",
       "State_WI                      0.023330\n",
       "State_WV                      0.003181\n",
       "State_WY                      0.001060\n",
       "Length: 70, dtype: float64"
      ]
     },
     "execution_count": 122,
     "metadata": {},
     "output_type": "execute_result"
    }
   ],
   "source": [
    "centroide_n(df_user_final)"
   ]
  },
  {
   "cell_type": "markdown",
   "metadata": {},
   "source": [
    "# O algoritmo"
   ]
  },
  {
   "cell_type": "code",
   "execution_count": 123,
   "metadata": {
    "collapsed": true
   },
   "outputs": [],
   "source": [
    "from sklearn.cluster import KMeans\n",
    "\n",
    "km = KMeans(n_clusters=3, random_state=0)\n",
    "km = km.fit(dados)"
   ]
  },
  {
   "cell_type": "code",
   "execution_count": 124,
   "metadata": {
    "collapsed": true
   },
   "outputs": [],
   "source": [
    "centers = km.cluster_centers_\n",
    "c_to_plot = centers.T"
   ]
  },
  {
   "cell_type": "code",
   "execution_count": 126,
   "metadata": {},
   "outputs": [
    {
     "data": {
      "text/plain": [
       "[<matplotlib.lines.Line2D at 0x7efd1403aba8>]"
      ]
     },
     "execution_count": 126,
     "metadata": {},
     "output_type": "execute_result"
    },
    {
     "data": {
      "image/png": "[encoded data removed]",
      "text/plain": [
       "<matplotlib.figure.Figure at 0x7efd1403abe0>"
      ]
     },
     "metadata": {},
     "output_type": "display_data"
    }
   ],
   "source": [
    "plt.plot(dados[\"X1\"], dados[\"X2\"], \"ob\")\n",
    "plt.plot(c_to_plot[0], c_to_plot[1], \"or\")"
   ]
  },
  {
   "cell_type": "code",
   "execution_count": 127,
   "metadata": {
    "collapsed": true
   },
   "outputs": [],
   "source": [
    "km_users = KMeans(n_clusters=3, random_state=0)\n",
    "km_users = km_users.fit(df_user_final)"
   ]
  },
  {
   "cell_type": "code",
   "execution_count": 128,
   "metadata": {},
   "outputs": [
    {
     "data": {
      "text/plain": [
       "label\n",
       "0    314\n",
       "1    315\n",
       "2    314\n",
       "dtype: int64"
      ]
     },
     "execution_count": 128,
     "metadata": {},
     "output_type": "execute_result"
    }
   ],
   "source": [
    "labels = pd.DataFrame(km_users.labels_, columns=[\"label\"])\n",
    "labels.groupby(\"label\").size()"
   ]
  },
  {
   "cell_type": "code",
   "execution_count": 131,
   "metadata": {},
   "outputs": [
    {
     "name": "stdout",
     "output_type": "stream",
     "text": [
      "\n",
      "D(c1, c2)= 314.50017427540786;\n",
      "D(c1, c3)= 314.00005466881896;\n",
      "D(c2, c3)= 628.5000355549298;\n",
      "\n"
     ]
    }
   ],
   "source": [
    "centroides = km_users.cluster_centers_\n",
    "d12 = dist_n(centroides[0], centroides[1])\n",
    "d13 = dist_n(centroides[0], centroides[2])\n",
    "d23 = dist_n(centroides[1], centroides[2])\n",
    "\n",
    "print(\"\"\"\n",
    "D(c1, c2)= {};\n",
    "D(c1, c3)= {};\n",
    "D(c2, c3)= {};\n",
    "\"\"\".format(d12, d13, d23))"
   ]
  },
  {
   "cell_type": "code",
   "execution_count": 130,
   "metadata": {},
   "outputs": [
    {
     "data": {
      "text/plain": [
       "943"
      ]
     },
     "execution_count": 130,
     "metadata": {},
     "output_type": "execute_result"
    }
   ],
   "source": [
    "labels.size"
   ]
  },
  {
   "cell_type": "markdown",
   "metadata": {},
   "source": [
    "# PCA"
   ]
  },
  {
   "cell_type": "markdown",
   "metadata": {},
   "source": [
    "É um algoritmo de aprendizado não-supervisionado que é usado para reduzir as dimensões dos dados.\n",
    "\n",
    "Vamos ver um exemplo de diminuição de dimensão de 3D para 2D"
   ]
  },
  {
   "cell_type": "code",
   "execution_count": 138,
   "metadata": {},
   "outputs": [],
   "source": [
    "from sklearn.decomposition import PCA"
   ]
  },
  {
   "cell_type": "code",
   "execution_count": 142,
   "metadata": {},
   "outputs": [],
   "source": [
    "pca_model = PCA(n_components=2)\n",
    "d_2d = pca_model.fit_transform(df_user_final)"
   ]
  },
  {
   "cell_type": "code",
   "execution_count": 148,
   "metadata": {},
   "outputs": [
    {
     "data": {
      "text/html": [
       "<div>\n",
       "<style>\n",
       "    .dataframe thead tr:only-child th {\n",
       "        text-align: right;\n",
       "    }\n",
       "\n",
       "    .dataframe thead th {\n",
       "        text-align: left;\n",
       "    }\n",
       "\n",
       "    .dataframe tbody tr th {\n",
       "        vertical-align: top;\n",
       "    }\n",
       "</style>\n",
       "<table border=\"1\" class=\"dataframe\">\n",
       "  <thead>\n",
       "    <tr style=\"text-align: right;\">\n",
       "      <th></th>\n",
       "      <th>z1</th>\n",
       "      <th>z2</th>\n",
       "    </tr>\n",
       "  </thead>\n",
       "  <tbody>\n",
       "    <tr>\n",
       "      <th>0</th>\n",
       "      <td>228.000876</td>\n",
       "      <td>-6.015626</td>\n",
       "    </tr>\n",
       "    <tr>\n",
       "      <th>1</th>\n",
       "      <td>173.998634</td>\n",
       "      <td>9.974884</td>\n",
       "    </tr>\n",
       "    <tr>\n",
       "      <th>2</th>\n",
       "      <td>219.001127</td>\n",
       "      <td>-8.015128</td>\n",
       "    </tr>\n",
       "    <tr>\n",
       "      <th>3</th>\n",
       "      <td>167.001640</td>\n",
       "      <td>-11.023274</td>\n",
       "    </tr>\n",
       "    <tr>\n",
       "      <th>4</th>\n",
       "      <td>465.998908</td>\n",
       "      <td>8.017298</td>\n",
       "    </tr>\n",
       "  </tbody>\n",
       "</table>\n",
       "</div>"
      ],
      "text/plain": [
       "           z1         z2\n",
       "0  228.000876  -6.015626\n",
       "1  173.998634   9.974884\n",
       "2  219.001127  -8.015128\n",
       "3  167.001640 -11.023274\n",
       "4  465.998908   8.017298"
      ]
     },
     "execution_count": 148,
     "metadata": {},
     "output_type": "execute_result"
    }
   ],
   "source": [
    "dados_2d = pd.DataFrame(d_2d, columns=[\"z1\", \"z2\"])\n",
    "dados_2d.head()"
   ]
  },
  {
   "cell_type": "code",
   "execution_count": 150,
   "metadata": {},
   "outputs": [
    {
     "data": {
      "text/plain": [
       "[<matplotlib.lines.Line2D at 0x7efd126c5630>,\n",
       " <matplotlib.lines.Line2D at 0x7efd126c5780>]"
      ]
     },
     "execution_count": 150,
     "metadata": {},
     "output_type": "execute_result"
    },
    {
     "data": {
      "image/png": "[encoded data removed]",
      "text/plain": [
       "<matplotlib.figure.Figure at 0x7efd126fe7b8>"
      ]
     },
     "metadata": {},
     "output_type": "display_data"
    }
   ],
   "source": [
    "plt.plot(dados_2d, \"ob\")"
   ]
  },
  {
   "cell_type": "code",
   "execution_count": 152,
   "metadata": {},
   "outputs": [],
   "source": [
    "# fim"
   ]
  },
  {
   "cell_type": "code",
   "execution_count": null,
   "metadata": {
    "collapsed": true
   },
   "outputs": [],
   "source": []
  }
 ],
 "metadata": {
  "kernelspec": {
   "display_name": "Python 3",
   "language": "python",
   "name": "python3"
  },
  "language_info": {
   "codemirror_mode": {
    "name": "ipython",
    "version": 3
   },
   "file_extension": ".py",
   "mimetype": "text/x-python",
   "name": "python",
   "nbconvert_exporter": "python",
   "pygments_lexer": "ipython3",
   "version": "3.5.2"
  }
 },
 "nbformat": 4,
 "nbformat_minor": 2
}
